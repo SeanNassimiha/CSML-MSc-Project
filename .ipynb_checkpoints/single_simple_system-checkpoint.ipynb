{
 "cells": [
  {
   "cell_type": "code",
   "execution_count": 1,
   "id": "eb584952",
   "metadata": {},
   "outputs": [
    {
     "name": "stderr",
     "output_type": "stream",
     "text": [
      "/Users/SeanNassimiha/miniforge3/envs/mscproject/lib/python3.8/site-packages/jax/_src/lib/__init__.py:33: UserWarning: JAX on Mac ARM machines is experimental and minimally tested. Please see https://github.com/google/jax/issues/5501 in the event of problems.\n",
      "  warnings.warn(\"JAX on Mac ARM machines is experimental and minimally tested. \"\n"
     ]
    },
    {
     "name": "stdout",
     "output_type": "stream",
     "text": [
      "2.3.1\n"
     ]
    }
   ],
   "source": [
    "import pandas as pd\n",
    "import numpy as np\n",
    "import matplotlib.pyplot as plt\n",
    "import tensorflow as tf\n",
    "import gpflow\n",
    "from gpflow.utilities import print_summary\n",
    "import time\n",
    "print(gpflow.__version__)"
   ]
  },
  {
   "cell_type": "code",
   "execution_count": 2,
   "id": "c0e754ff",
   "metadata": {},
   "outputs": [],
   "source": [
    "data =  pd.read_csv('Data/pv_power_df_5day.csv', index_col='datetime')\n",
    "data_val = pd.read_csv('Data/pv_power_df_5day_validation.csv', index_col='datetime')\n",
    "\n",
    "data_val = pd.read_csv('Data/pv_power_df_5day_validation.csv', index_col='datetime')\n",
    "uk_pv = pd.read_csv('Data/system_metadata_location_rounded.csv')\n"
   ]
  },
  {
   "cell_type": "code",
   "execution_count": 3,
   "id": "0f7af67a",
   "metadata": {},
   "outputs": [],
   "source": [
    "# The lines below are specific to the notebook format\n",
    "%matplotlib inline\n",
    "plt.rcParams[\"figure.figsize\"] = (12, 6)"
   ]
  },
  {
   "cell_type": "code",
   "execution_count": 4,
   "id": "68d4ff2d",
   "metadata": {},
   "outputs": [],
   "source": [
    "len_train = 100000\n",
    "len_test = 24\n",
    "\n",
    "data_single = data.iloc[:len_train, :1]\n",
    "data_single_val = data.iloc[len_train:len_train + len_test, :1]"
   ]
  },
  {
   "cell_type": "code",
   "execution_count": 5,
   "id": "be3b4bfe",
   "metadata": {},
   "outputs": [],
   "source": [
    "X = np.arange(len(data_single.index)).astype('float64').reshape(-1, 1)\n",
    "Y = data_single.values.reshape( -1, 1)\n",
    "X_test = np.arange(len(data_single_val.index)).astype('float64').reshape(-1, 1)\n",
    "Y_test = data_single_val.values.reshape( -1, 1)"
   ]
  },
  {
   "cell_type": "markdown",
   "id": "5c251c8b",
   "metadata": {},
   "source": [
    "From https://2021.ecmlpkdd.org/wp-content/uploads/2021/07/sub_244.pdf\n",
    "\n",
    "Proposed kernel composition:\n",
    "K = PER + LIN + RBF + SM1 + SM2,\n",
    "\n",
    "PER -> The periodic kernel (PER) models the seasonal pattern; for monthly and\n",
    "quarterly time series, we assume a period of one year and we set pe=1. \n",
    "\n",
    "LIN -> The LIN kernel provides the linear trend. \n",
    "\n",
    "RBF -> Gaussian\n",
    "\n",
    "SM -> Spectral mixture kernel"
   ]
  },
  {
   "cell_type": "code",
   "execution_count": null,
   "id": "bded5442",
   "metadata": {},
   "outputs": [
    {
     "name": "stdout",
     "output_type": "stream",
     "text": [
      "Metal device set to: Apple M1\n"
     ]
    },
    {
     "name": "stderr",
     "output_type": "stream",
     "text": [
      "2022-02-17 16:16:41.710271: W tensorflow/python/util/util.cc:368] Sets are not currently considered sequences, but this may change in the future, so consider avoiding using them.\n",
      "2022-02-17 16:16:42.598981: W tensorflow/core/platform/profile_utils/cpu_utils.cc:128] Failed to get CPU frequency: 0 Hz\n"
     ]
    }
   ],
   "source": [
    "len_day = len(data['2019-01-01':'2019-01-02'])\n",
    "len_year = len(data['2019':'2020'])\n",
    "\n",
    "periodic_day = gpflow.kernels.Periodic(gpflow.kernels.Matern12(), period=len_day)\n",
    "periodic_year = gpflow.kernels.Periodic(gpflow.kernels.Matern12(), period=len_year)\n",
    "rbf = gpflow.kernels.SquaredExponential(variance=1, lengthscales=50)\n",
    "noise = gpflow.kernels.White(2)\n",
    "\n",
    "\n",
    "#PERIODIC\n",
    "# k=gpflow.kernels.Periodic(gpflow.kernels.SquaredExponential(),period=len_day)\n",
    "\n",
    "# RBF\n",
    "# k=rbf\n",
    "\n",
    "k = periodic_day + rbf + noise\n",
    "\n",
    "\n",
    "# print_summary(k)\n",
    "m = gpflow.models.GPR(data=(X - X.mean(), Y), kernel=k, mean_function=None)\n",
    "# print_summary(m)\n",
    "\n",
    "opt = gpflow.optimizers.Scipy()\n",
    "\n",
    "start = time.time()\n",
    "opt_logs = opt.minimize(m.training_loss, m.trainable_variables, options=dict(maxiter=100))\n",
    "start = time.time()\n",
    "elapsed = stop-start\n",
    "print(f\"time elapsed: {elapsed:.2f}s\")\n",
    "# print_summary(m)"
   ]
  },
  {
   "cell_type": "code",
   "execution_count": null,
   "id": "85d10756",
   "metadata": {},
   "outputs": [],
   "source": [
    "## generate test points for prediction\n",
    "x_max = 24\n",
    "x_future = len(X) / 2 + x_max\n",
    "\n",
    "xx = np.arange(- len(X) / 2 , x_future, step = 5).reshape(-1,1).astype('float64') # test points must be of shape (N, D)\n",
    "xx_test = np.arange(x_future + 1,( x_future + 5 *x_max), step = 5).reshape(-1,1).astype('float64')\n",
    "## predict mean and variance of latent GP at test points\n",
    "mean, var = m.predict_f(xx)\n",
    "\n",
    "## generate 10 samples from posterior\n",
    "tf.random.set_seed(1)  # for reproducibility\n",
    "samples = m.predict_f_samples(xx, 10)  # shape (10, 100, 1)\n",
    "\n",
    "## plot\n",
    "plt.figure(figsize=(10, 6))\n",
    "plt.plot(X - X.mean(), Y, \"k\", mew=2)\n",
    "plt.plot(xx, mean, \"C0\", lw=2)\n",
    "plt.plot(xx_test, Y_test, 'b-')\n",
    "plt.fill_between(\n",
    "    xx[:, 0],\n",
    "    mean[:, 0] - 1.96 * np.sqrt(var[:, 0]),\n",
    "    mean[:, 0] + 1.96 * np.sqrt(var[:, 0]),\n",
    "    color=\"C0\",\n",
    "    alpha=0.2,\n",
    ")\n",
    "\n",
    "plt.plot(xx, samples[:, :, 0].numpy().T, \"C0\", linewidth=0.5)\n",
    "plt.title('Example prediction with Composition (Periodic + RBF + Noise) Kernel')\n",
    "# plt.xlim(-500, 600)\n",
    "# plt.xlim(-50, 50)\n",
    "# plt.ylim(0, 1)"
   ]
  },
  {
   "cell_type": "code",
   "execution_count": null,
   "id": "2b5fa8ba",
   "metadata": {},
   "outputs": [],
   "source": []
  }
 ],
 "metadata": {
  "kernelspec": {
   "display_name": "Python 3 (ipykernel)",
   "language": "python",
   "name": "python3"
  },
  "language_info": {
   "codemirror_mode": {
    "name": "ipython",
    "version": 3
   },
   "file_extension": ".py",
   "mimetype": "text/x-python",
   "name": "python",
   "nbconvert_exporter": "python",
   "pygments_lexer": "ipython3",
   "version": "3.8.12"
  }
 },
 "nbformat": 4,
 "nbformat_minor": 5
}
