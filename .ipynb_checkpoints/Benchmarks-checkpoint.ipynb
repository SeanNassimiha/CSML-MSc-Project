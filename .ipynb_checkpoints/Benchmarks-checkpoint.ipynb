{
 "cells": [
  {
   "cell_type": "code",
   "execution_count": 1,
   "id": "b6204fe5",
   "metadata": {},
   "outputs": [
    {
     "name": "stderr",
     "output_type": "stream",
     "text": [
      "/Users/SeanNassimiha/miniforge3/envs/mscproject/lib/python3.8/site-packages/jax/_src/lib/__init__.py:33: UserWarning: JAX on Mac ARM machines is experimental and minimally tested. Please see https://github.com/google/jax/issues/5501 in the event of problems.\n",
      "  warnings.warn(\"JAX on Mac ARM machines is experimental and minimally tested. \"\n"
     ]
    }
   ],
   "source": [
    "import pandas as pd\n",
    "import numpy as np\n",
    "import matplotlib.pyplot as plt\n",
    "import tensorflow as tf\n",
    "import gpflow\n",
    "from gpflow.utilities import print_summary\n",
    "import time"
   ]
  },
  {
   "cell_type": "code",
   "execution_count": 2,
   "id": "f0a6a837",
   "metadata": {},
   "outputs": [],
   "source": [
    "SHIFTS = [5, 30, 60, 120]\n"
   ]
  },
  {
   "cell_type": "code",
   "execution_count": 3,
   "id": "a618df25",
   "metadata": {},
   "outputs": [],
   "source": [
    "data =  pd.read_csv('Data/pv_power_df_5day.csv', index_col='datetime')\n",
    "data_val = pd.read_csv('Data/pv_power_df_5day_validation.csv', index_col='datetime')\n",
    "\n",
    "data_val = pd.read_csv('Data/pv_power_df_5day_validation.csv', index_col='datetime')\n",
    "uk_pv = pd.read_csv('Data/system_metadata_location_rounded.csv')\n"
   ]
  },
  {
   "cell_type": "markdown",
   "id": "1f173df3",
   "metadata": {},
   "source": [
    "## Benchmarks"
   ]
  },
  {
   "cell_type": "markdown",
   "id": "7ac049f3",
   "metadata": {},
   "source": [
    "### Persistence Model\n",
    "$$ \\hat{I}_{t + \\Delta_t} = I_t$$\n",
    "Here the prediction is just the latest value"
   ]
  },
  {
   "cell_type": "code",
   "execution_count": 4,
   "id": "f51aff56",
   "metadata": {},
   "outputs": [
    {
     "data": {
      "text/plain": [
       "{5: 0.04054998338878003,\n",
       " 30: 0.08339344848248201,\n",
       " 60: 0.10811489112396469,\n",
       " 120: 0.14434640090561332}"
      ]
     },
     "execution_count": 4,
     "metadata": {},
     "output_type": "execute_result"
    }
   ],
   "source": [
    "mae_persistence = dict.fromkeys(SHIFTS)\n",
    "for shift in SHIFTS:\n",
    "    shift = int(shift / 5)\n",
    "    data_shifted = data.shift(shift)\n",
    "    mae_persistence[shift * 5] =  abs(data - data_shifted).mean().mean()\n",
    "mae_persistence"
   ]
  },
  {
   "cell_type": "markdown",
   "id": "947084cf",
   "metadata": {},
   "source": [
    "### Hourly Average Model\n",
    "$$ \\hat{I}_{t + \\Delta_t} = \\frac{1}{12} \\sum_{i = 1}^{12} {I _ {t - 5i}}$$\n",
    "\n",
    "Here the prediction is the average value of the past 12 datapoints (1h moving average)"
   ]
  },
  {
   "cell_type": "code",
   "execution_count": 5,
   "id": "a1b625fd",
   "metadata": {},
   "outputs": [
    {
     "data": {
      "text/plain": [
       "{5: 0.06989158175457981,\n",
       " 30: 0.09379304789247063,\n",
       " 60: 0.11500846385924156,\n",
       " 120: 0.14663319456508048}"
      ]
     },
     "execution_count": 5,
     "metadata": {},
     "output_type": "execute_result"
    }
   ],
   "source": [
    "mae_HA = dict.fromkeys(SHIFTS)\n",
    "for shift in SHIFTS:\n",
    "    shift = int(shift / 5)\n",
    "    data_shifted = data.rolling(12).mean().shift(shift)\n",
    "    mae_HA[shift * 5] =  abs(data - data_shifted).mean().mean()\n",
    "mae_HA"
   ]
  },
  {
   "cell_type": "markdown",
   "id": "2e1d678e",
   "metadata": {},
   "source": [
    "### Yesterday Model\n",
    "$$ \\hat{I}_{t + \\Delta_t} = I_{t + \\Delta_t - 24h }$$\n",
    "Here the prediction is yesterday's value at the same time"
   ]
  },
  {
   "cell_type": "code",
   "execution_count": 6,
   "id": "04ab4f26",
   "metadata": {},
   "outputs": [
    {
     "data": {
      "text/plain": [
       "{5: 0.14687136285305438,\n",
       " 30: 0.15290812851233923,\n",
       " 60: 0.16201347570350266,\n",
       " 120: 0.17956644732664687}"
      ]
     },
     "execution_count": 6,
     "metadata": {},
     "output_type": "execute_result"
    }
   ],
   "source": [
    "mae_yday = dict.fromkeys(SHIFTS)\n",
    "for shift in SHIFTS:\n",
    "    shift = int(shift / 5)\n",
    "    data_shifted = data.shift(shift + 97) #where 97 is the number of 5mins intervals in a day (no night)\n",
    "    mae_yday[shift * 5] =  abs(data - data_shifted).mean().mean()\n",
    "mae_yday"
   ]
  },
  {
   "cell_type": "code",
   "execution_count": null,
   "id": "ccdfe6a5",
   "metadata": {},
   "outputs": [],
   "source": []
  }
 ],
 "metadata": {
  "kernelspec": {
   "display_name": "Python 3 (ipykernel)",
   "language": "python",
   "name": "python3"
  },
  "language_info": {
   "codemirror_mode": {
    "name": "ipython",
    "version": 3
   },
   "file_extension": ".py",
   "mimetype": "text/x-python",
   "name": "python",
   "nbconvert_exporter": "python",
   "pygments_lexer": "ipython3",
   "version": "3.8.12"
  }
 },
 "nbformat": 4,
 "nbformat_minor": 5
}
