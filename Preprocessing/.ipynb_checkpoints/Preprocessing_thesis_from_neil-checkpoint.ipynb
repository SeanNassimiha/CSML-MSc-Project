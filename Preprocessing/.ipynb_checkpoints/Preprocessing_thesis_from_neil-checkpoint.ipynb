{
 "cells": [
  {
   "cell_type": "markdown",
   "metadata": {
    "colab_type": "text",
    "id": "ao6h9w6TCALP"
   },
   "source": [
    "# Research Thesis \n",
    "\n",
    "## Preprocessing of PV output data\n",
    "\n",
    "Neil Leiser - Nowcasting solar PV using satellite images"
   ]
  },
  {
   "cell_type": "code",
   "execution_count": null,
   "metadata": {
    "colab": {},
    "colab_type": "code",
    "id": "WAuwxDOzCALQ"
   },
   "outputs": [],
   "source": [
    "import xarray as xr\n",
    "import matplotlib.pyplot as plt\n",
    "import numpy as np\n",
    "from itertools import product\n",
    "import pandas as pd\n",
    "import os\n",
    "import time\n",
    "from datetime import timedelta\n",
    "import datetime\n",
    "import copy"
   ]
  },
  {
   "cell_type": "markdown",
   "metadata": {
    "colab_type": "text",
    "id": "8G8YuFtVCALT"
   },
   "source": [
    "## Load data + metadata"
   ]
  },
  {
   "cell_type": "code",
   "execution_count": null,
   "metadata": {
    "colab": {},
    "colab_type": "code",
    "id": "JDOqAsMWCALW",
    "outputId": "6473d88e-bb19-4594-eb60-04576c2c9bb3"
   },
   "outputs": [],
   "source": [
    "pv_data = xr.open_dataset('/Users/SeanNassimiha/Desktop/MSc CSML/MSc Project/Data/passiv.netcdf').to_dataframe()\n",
    "pv_metadata = pd.read_csv('/Users/SeanNassimiha/Desktop/MSc CSML/MSc Project/Data/system_metadata_location_rounded.csv', index_col='ss_id')\n",
    "pv_metadata.dropna(subset=['latitude_rounded', 'longitude_rounded'], how='any', inplace=True)\n",
    "pv_metadata.index.dropna().shape\n",
    "\n"
   ]
  },
  {
   "cell_type": "code",
   "execution_count": null,
   "metadata": {},
   "outputs": [],
   "source": [
    "pv_data['2018':'2019'].iloc[:,0].plot()\n",
    "plt.title('PV Output in kW for one Farm over Years 2018-2019')\n",
    "plt.ylabel('Kilowatts production')"
   ]
  },
  {
   "cell_type": "markdown",
   "metadata": {
    "colab_type": "text",
    "id": "5X5VAt0sCALa"
   },
   "source": [
    "## Preprocessing"
   ]
  },
  {
   "cell_type": "markdown",
   "metadata": {},
   "source": [
    "Split:\n",
    "\n",
    "- Train: 2018-01-01 06:05:00\tto 2020-01-01 06:05:00\t\n",
    "- Validation: 2020-01-01 06:10:00 to 2021-01-01 06:05:00\n",
    "- Test: 2021-01-01 06:10:00 to 2021-10-27 23:55:00\n",
    "\n",
    "\n",
    "Comments:\n",
    "\n",
    "I will need to get 3 datasets ready for train, validation, and testing. I need to make sure that each of these 3 datasets contains the same solar farms (or at least, that the set of solar farms in the train dataset contains the other two sets). Also I need to scale validation and test datasets with the same scalings as the train data. "
   ]
  },
  {
   "cell_type": "code",
   "execution_count": null,
   "metadata": {},
   "outputs": [],
   "source": [
    "#SPLIT:\n",
    "pv_power_selected = pv_data['2018-01-01 06:05:00': '2020-01-01 06:05:00']\n",
    "pv_power_validation = pv_data['2020-01-01 06:10:00': '2021-01-01 06:05:00']\n",
    "pv_power_test = pv_data['2021-01-01 06:10:00': '2021-10-27 23:55:00']\n",
    "\n",
    "print(f'Thus the split is {100 * len(pv_power_selected) / len(pv_data)} - {100 * len(pv_power_validation) / len(pv_data)} - {100 * len(pv_power_test) / len(pv_data)}')\n",
    "            "
   ]
  },
  {
   "cell_type": "markdown",
   "metadata": {
    "colab_type": "text",
    "id": "kCZh0cLbCALd"
   },
   "source": [
    "### Clip values"
   ]
  },
  {
   "cell_type": "code",
   "execution_count": null,
   "metadata": {
    "colab": {},
    "colab_type": "code",
    "id": "ERXYQEKTCALa",
    "scrolled": true
   },
   "outputs": [],
   "source": [
    "pv_power_df = pv_power_selected.dropna(axis='columns', how='all')\n",
    "pv_power_df = pv_power_df.clip(lower=0, upper=5E7)\n",
    "pv_power_df.columns = [np.int64(col) for col in pv_power_df.columns]"
   ]
  },
  {
   "cell_type": "markdown",
   "metadata": {
    "colab_type": "text",
    "id": "JmgPuKRZCALi"
   },
   "source": [
    "### Align PV data with metadata"
   ]
  },
  {
   "cell_type": "code",
   "execution_count": null,
   "metadata": {
    "colab": {},
    "colab_type": "code",
    "id": "gHCQ1D6OCALj",
    "outputId": "0ba257c8-b67f-4fda-a84d-de8bf3ec88ad"
   },
   "outputs": [],
   "source": [
    "# Only pick PV systems for which we have good metadata\n",
    "def align_pv_system_ids(pv_metadata, pv_power_df):\n",
    "    pv_system_ids = pv_metadata.index.intersection(pv_power_df.columns)\n",
    "    pv_system_ids = np.sort(pv_system_ids)\n",
    "\n",
    "    pv_power_df = pv_power_df[pv_system_ids]\n",
    "    pv_metadata = pv_metadata.loc[pv_system_ids]\n",
    "    return pv_metadata, pv_power_df\n",
    "    \n",
    "pv_metadata, pv_power_df = align_pv_system_ids(pv_metadata, pv_power_df)\n",
    "\n",
    "pv_power_df"
   ]
  },
  {
   "cell_type": "markdown",
   "metadata": {
    "colab_type": "text",
    "id": "DLFgu2EwCALl"
   },
   "source": [
    "### Rescaling to 0-1"
   ]
  },
  {
   "cell_type": "code",
   "execution_count": null,
   "metadata": {
    "colab": {},
    "colab_type": "code",
    "id": "BF19HQmpCALm"
   },
   "outputs": [],
   "source": [
    "# Scale to the range [0, 1]\n",
    "pv_power_min = pv_power_df.min()\n",
    "pv_power_max = pv_power_df.max()\n",
    "\n",
    "pv_power_df /= pv_power_max"
   ]
  },
  {
   "cell_type": "markdown",
   "metadata": {
    "colab_type": "text",
    "id": "2liyqxzpCALo"
   },
   "source": [
    "### Drop systems which are producing over night"
   ]
  },
  {
   "cell_type": "code",
   "execution_count": null,
   "metadata": {
    "colab": {},
    "colab_type": "code",
    "id": "8t4ok4y1CALp",
    "outputId": "cc3ee193-8576-4013-bbdf-ac3a15cc4718"
   },
   "outputs": [],
   "source": [
    "# Drop systems which are producing over night\n",
    "NIGHT_YIELD_THRESHOLD = 0.4\n",
    "night_hours = list(range(21, 24)) + list(range(0, 4))\n",
    "bad_systems = np.where((pv_power_df[pv_power_df.index.hour.isin(night_hours)] > NIGHT_YIELD_THRESHOLD).sum())[0]\n",
    "bad_systems = pv_power_df.columns[bad_systems]\n",
    "print(len(bad_systems), 'bad systems found.')\n",
    "\n",
    "pv_power_df.drop(bad_systems, axis='columns', inplace=True)"
   ]
  },
  {
   "cell_type": "markdown",
   "metadata": {
    "colab_type": "text",
    "id": "HxIdQzE2CALr"
   },
   "source": [
    "### Aligning again"
   ]
  },
  {
   "cell_type": "code",
   "execution_count": null,
   "metadata": {
    "colab": {},
    "colab_type": "code",
    "id": "6TH-tiNRCALr"
   },
   "outputs": [],
   "source": [
    "# Align again, after removing dud PV systems\n",
    "pv_metadata_5min, pv_power_df_5min = align_pv_system_ids(pv_metadata, pv_power_df)"
   ]
  },
  {
   "cell_type": "markdown",
   "metadata": {
    "colab_type": "text",
    "id": "W7V0ZiXDCALy"
   },
   "source": [
    "### Remove night data (Analysis between 8am - 4pm)"
   ]
  },
  {
   "cell_type": "code",
   "execution_count": null,
   "metadata": {
    "colab": {},
    "colab_type": "code",
    "id": "JiPi6Nn9CALz"
   },
   "outputs": [],
   "source": [
    "day_max = 16\n",
    "day_min = 8\n",
    "start_night = datetime.time(day_max,0)\n",
    "end_night = datetime.time(day_min,0)\n",
    "\n",
    "day_index = [time_period for time_period in pv_power_df_5min.index if time_period.time() <= start_night and time_period.time() >= end_night]\n",
    "pv_power_df_5day = pv_power_df_5min.loc[day_index]\n",
    "\n"
   ]
  },
  {
   "cell_type": "markdown",
   "metadata": {
    "colab_type": "text",
    "id": "8JEFLB2OCAL7"
   },
   "source": [
    "### Analysis of nans"
   ]
  },
  {
   "cell_type": "code",
   "execution_count": null,
   "metadata": {
    "colab": {},
    "colab_type": "code",
    "id": "BwwkL5H9CAL7"
   },
   "outputs": [],
   "source": [
    "threshold = 20 #write percentage\n",
    "\n",
    "count_nan = []\n",
    "few_data_systems = []\n",
    "for cols in pv_power_df_5day.columns:\n",
    "    \n",
    "    a = len([it for it in list(pv_power_df_5day[cols]) if (it >=0) ==False])\n",
    "    count_nan.append(a)\n",
    "    \n",
    "    if a/len(pv_power_df_5day)*100 > threshold:\n",
    "        \n",
    "        few_data_systems.append(cols)\n",
    "        \n",
    "        \n",
    "# import matplotlib as mpl\n",
    "# %matplotlib inline\n",
    "# dpi = 120\n",
    "# mpl.rcParams['figure.dpi']= dpi\n",
    "\n",
    "# fig = plt.figure(figsize=(10,5))\n",
    "# plt.hist(np.array(count_nan)/len(pv_power_df_5day)*100,bins=25,color='#0504aa',rwidth=0.85)\n",
    "# plt.xlabel('Percentage NaN values [%]')\n",
    "# plt.ylabel('PV systems count')\n",
    "# plt.grid(axis='y', alpha=0.3)\n",
    "# plt.show()\n",
    "\n",
    "pv_power_df_5day = pv_power_df_5day.drop(few_data_systems,1)\n",
    "pv_power_df_5day\n"
   ]
  },
  {
   "cell_type": "markdown",
   "metadata": {
    "colab_type": "text",
    "id": "mhMOcpDACAMF"
   },
   "source": [
    "### Replace Nans by interpolation"
   ]
  },
  {
   "cell_type": "code",
   "execution_count": null,
   "metadata": {
    "colab": {},
    "colab_type": "code",
    "id": "pZjr_Ho9CAMG",
    "outputId": "4c06b8de-afcd-4d6f-f9b7-d452ba3063a3"
   },
   "outputs": [],
   "source": [
    "pv_power_df_5day = pv_power_df_5day.interpolate(method='linear', axis=0,limit_direction='both')\n",
    "pv_power_df_5day.iloc[:, 30:50].plot(figsize=(15,10))"
   ]
  },
  {
   "cell_type": "markdown",
   "metadata": {
    "colab_type": "text",
    "id": "DgRLuNqYCAMH"
   },
   "source": [
    "### Convert to csv"
   ]
  },
  {
   "cell_type": "code",
   "execution_count": null,
   "metadata": {
    "colab": {},
    "colab_type": "code",
    "id": "JmIlV7AXCAMI"
   },
   "outputs": [],
   "source": [
    "# pv_power_df_5day.to_csv('/Users/SeanNassimiha/Desktop/MSc CSML/MSc Project/Data/pv_power_df_5day.csv')"
   ]
  },
  {
   "cell_type": "markdown",
   "metadata": {},
   "source": [
    "## Now Doing the same for Validation set (not test yet)"
   ]
  },
  {
   "cell_type": "code",
   "execution_count": null,
   "metadata": {},
   "outputs": [],
   "source": [
    "#get the olumns from train\n",
    "pv_power_val = pv_power_validation[pv_power_df_5day.columns.values.astype('str')]\n",
    "\n",
    "#clip values\n",
    "pv_power_df_val = pv_power_val.dropna(axis='columns', how='all')\n",
    "pv_power_df_val = pv_power_df_val.clip(lower=0, upper=5E7)\n",
    "pv_power_df_val.columns = [np.int64(col) for col in pv_power_df_val.columns]\n",
    "\n",
    "\n",
    "# #align\n",
    "pv_metadata_val, pv_power_df_val = align_pv_system_ids(pv_metadata, pv_power_df_val)\n",
    "\n",
    "# #rescaling by max in training\n",
    "pv_power_df_val /= pv_power_max\n",
    "\n",
    "# #drop systems producing in night\n",
    "# Drop systems which are producing over night\n",
    "bad_systems_val = np.where((pv_power_df_val[pv_power_df_val.index.hour.isin(night_hours)] > NIGHT_YIELD_THRESHOLD).sum())[0]\n",
    "bad_systems_val = pv_power_df_val.columns[bad_systems_val]\n",
    "print(len(bad_systems_val), 'bad systems found.')\n",
    "\n",
    "pv_power_df_val.drop(bad_systems_val, axis='columns', inplace=True)\n",
    "\n",
    "\n",
    "#align\n",
    "pv_metadata_5min, pv_power_df_val_5min = align_pv_system_ids(pv_metadata_val, pv_power_df_val)\n",
    "\n",
    "#remove night\n",
    "day_index = [time_period for time_period in pv_power_df_val_5min.index if time_period.time() <= start_night and time_period.time() >= end_night]\n",
    "pv_power_df_val_5day = pv_power_df_val_5min.loc[day_index]\n",
    "\n",
    "#remove systems with nan\n",
    "count_nan = []\n",
    "few_data_systems = []\n",
    "for cols in pv_power_df_val_5day.columns:\n",
    "    \n",
    "    a = len([it for it in list(pv_power_df_val_5day[cols]) if (it >=0) ==False])\n",
    "    count_nan.append(a)\n",
    "    \n",
    "    if a/len(pv_power_df_val_5day)*100 > threshold:\n",
    "        \n",
    "        few_data_systems.append(cols)\n",
    "\n",
    "pv_power_df_val_5day = pv_power_df_val_5day.drop(few_data_systems,1)\n",
    "       \n",
    "\n",
    "#interpolate nans\n",
    "pv_power_df_val_5day = pv_power_df_val_5day.interpolate(method='linear', axis=0,limit_direction='both')\n",
    "pv_power_df_val_5day.iloc[:, 30:50].plot(figsize=(15,10))\n",
    "\n",
    "\n",
    "# pv_power_df_val_5day.to_csv('/Users/SeanNassimiha/Desktop/MSc CSML/MSc Project/Data/pv_power_df_5day_validation.csv')"
   ]
  },
  {
   "cell_type": "code",
   "execution_count": null,
   "metadata": {},
   "outputs": [],
   "source": []
  }
 ],
 "metadata": {
  "colab": {
   "collapsed_sections": [],
   "name": "Preprocessing_thesis.ipynb",
   "provenance": []
  },
  "environment": {
   "name": "pytorch-gpu.1-4.m50",
   "type": "gcloud",
   "uri": "gcr.io/deeplearning-platform-release/pytorch-gpu.1-4:m50"
  },
  "kernelspec": {
   "display_name": "Python 3 (ipykernel)",
   "language": "python",
   "name": "python3"
  },
  "language_info": {
   "codemirror_mode": {
    "name": "ipython",
    "version": 3
   },
   "file_extension": ".py",
   "mimetype": "text/x-python",
   "name": "python",
   "nbconvert_exporter": "python",
   "pygments_lexer": "ipython3",
   "version": "3.10.4"
  }
 },
 "nbformat": 4,
 "nbformat_minor": 1
}
