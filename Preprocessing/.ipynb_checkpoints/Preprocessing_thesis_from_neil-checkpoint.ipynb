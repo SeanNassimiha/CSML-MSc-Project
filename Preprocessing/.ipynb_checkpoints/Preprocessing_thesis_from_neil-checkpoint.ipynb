{
 "cells": [
  {
   "cell_type": "markdown",
   "metadata": {
    "colab_type": "text",
    "id": "ao6h9w6TCALP"
   },
   "source": [
    "# Research Thesis \n",
    "\n",
    "## Preprocessing of PV output data\n",
    "\n",
    "Neil Leiser - Nowcasting solar PV using satellite images"
   ]
  },
  {
   "cell_type": "code",
   "execution_count": 1,
   "metadata": {
    "colab": {},
    "colab_type": "code",
    "id": "WAuwxDOzCALQ"
   },
   "outputs": [],
   "source": [
    "import matplotlib.pyplot as plt\n",
    "import xarray as xr\n",
    "import numpy as np\n",
    "from itertools import product\n",
    "import pandas as pd\n",
    "import os\n",
    "import time\n",
    "from datetime import timedelta\n",
    "import datetime\n",
    "import copy"
   ]
  },
  {
   "cell_type": "markdown",
   "metadata": {
    "colab_type": "text",
    "id": "8G8YuFtVCALT"
   },
   "source": [
    "## Load data + metadata"
   ]
  },
  {
   "cell_type": "code",
   "execution_count": 2,
   "metadata": {
    "colab": {},
    "colab_type": "code",
    "id": "JDOqAsMWCALW",
    "outputId": "6473d88e-bb19-4594-eb60-04576c2c9bb3"
   },
   "outputs": [
    {
     "data": {
      "text/plain": [
       "(24662,)"
      ]
     },
     "execution_count": 2,
     "metadata": {},
     "output_type": "execute_result"
    }
   ],
   "source": [
    "pv_data = xr.open_dataset('/Users/SeanNassimiha/Desktop/MSc Project/Data/passiv.netcdf').to_dataframe()\n",
    "pv_metadata = pd.read_csv('/Users/SeanNassimiha/Desktop/MSc Project/Data/system_metadata_location_rounded.csv', index_col='ss_id')\n",
    "pv_metadata.dropna(subset=['latitude_rounded', 'longitude_rounded'], how='any', inplace=True)\n",
    "# pv_metadata['ss_id_string'] = pv_metadata.index.astype('str')\n",
    "pv_metadata.index.dropna().shape\n",
    "\n"
   ]
  },
  {
   "cell_type": "code",
   "execution_count": 3,
   "metadata": {},
   "outputs": [
    {
     "data": {
      "text/plain": [
       "Text(0, 0.5, 'Watts production')"
      ]
     },
     "execution_count": 3,
     "metadata": {},
     "output_type": "execute_result"
    },
    {
     "data": {
      "image/png": "[encoded data removed]",
      "text/plain": [
       "<Figure size 432x288 with 1 Axes>"
      ]
     },
     "metadata": {
      "needs_background": "light"
     },
     "output_type": "display_data"
    }
   ],
   "source": [
    "pv_data['2018':'2019'].iloc[:,0].plot()\n",
    "plt.title('PV Output in kW for one Farm over Years 2018-2019')\n",
    "plt.ylabel('Watts production')"
   ]
  },
  {
   "cell_type": "markdown",
   "metadata": {
    "colab_type": "text",
    "id": "5X5VAt0sCALa"
   },
   "source": [
    "## Preprocessing"
   ]
  },
  {
   "cell_type": "markdown",
   "metadata": {},
   "source": [
    "Split:\n",
    "\n",
    "- Train: 2018-01-01 06:05:00\tto 2020-01-01 06:05:00\t\n",
    "- Validation: 2020-01-01 06:10:00 to 2021-01-01 06:05:00\n",
    "- Test: 2021-01-01 06:10:00 to 2021-10-27 23:55:00\n",
    "\n",
    "\n",
    "Comments:\n",
    "\n",
    "I will need to get 3 datasets ready for train, validation, and testing. I need to make sure that each of these 3 datasets contains the same solar farms (or at least, that the set of solar farms in the train dataset contains the other two sets). Also I need to scale validation and test datasets with the same scalings as the train data. "
   ]
  },
  {
   "cell_type": "code",
   "execution_count": 4,
   "metadata": {},
   "outputs": [
    {
     "name": "stdout",
     "output_type": "stream",
     "text": [
      "Thus the split is 50.62878627464145 - 27.140842960950692 - 22.230370764407855\n"
     ]
    }
   ],
   "source": [
    "#SPLIT:\n",
    "pv_power_selected = pv_data['2018-01-01 06:05:00': '2020-01-01 06:05:00']\n",
    "pv_power_validation = pv_data['2020-01-01 06:10:00': '2021-01-01 06:05:00']\n",
    "pv_power_test = pv_data['2021-01-01 06:10:00': '2021-10-27 23:55:00']\n",
    "\n",
    "print(f'Thus the split is {100 * len(pv_power_selected) / len(pv_data)} - {100 * len(pv_power_validation) / len(pv_data)} - {100 * len(pv_power_test) / len(pv_data)}')\n",
    "            "
   ]
  },
  {
   "cell_type": "markdown",
   "metadata": {
    "colab_type": "text",
    "id": "kCZh0cLbCALd"
   },
   "source": [
    "### Clip values"
   ]
  },
  {
   "cell_type": "code",
   "execution_count": 5,
   "metadata": {
    "colab": {},
    "colab_type": "code",
    "id": "ERXYQEKTCALa",
    "scrolled": true
   },
   "outputs": [],
   "source": [
    "pv_power_df = pv_power_selected.dropna(axis='columns', how='all')\n",
    "pv_power_df = pv_power_df.clip(lower=0, upper=5E7)\n",
    "pv_power_df.columns = [np.int64(col) for col in pv_power_df.columns]"
   ]
  },
  {
   "cell_type": "markdown",
   "metadata": {
    "colab_type": "text",
    "id": "JmgPuKRZCALi"
   },
   "source": [
    "### Align PV data with metadata"
   ]
  },
  {
   "cell_type": "code",
   "execution_count": 6,
   "metadata": {
    "colab": {},
    "colab_type": "code",
    "id": "gHCQ1D6OCALj",
    "outputId": "0ba257c8-b67f-4fda-a84d-de8bf3ec88ad"
   },
   "outputs": [],
   "source": [
    "# Only pick PV systems for which we have good metadata\n",
    "def align_pv_system_ids(pv_metadata, pv_power_df):\n",
    "    pv_system_ids = pv_metadata.index.intersection(pv_power_df.columns)\n",
    "    pv_system_ids = np.sort(pv_system_ids)\n",
    "\n",
    "    pv_power_df = pv_power_df[pv_system_ids]\n",
    "    pv_metadata = pv_metadata.loc[pv_system_ids]\n",
    "    return pv_metadata, pv_power_df\n",
    "    \n",
    "pv_metadata, pv_power_df = align_pv_system_ids(pv_metadata, pv_power_df)\n"
   ]
  },
  {
   "cell_type": "markdown",
   "metadata": {
    "colab_type": "text",
    "id": "DLFgu2EwCALl"
   },
   "source": [
    "### Rescaling to 0-1"
   ]
  },
  {
   "cell_type": "code",
   "execution_count": 7,
   "metadata": {
    "colab": {},
    "colab_type": "code",
    "id": "BF19HQmpCALm"
   },
   "outputs": [],
   "source": [
    "# Scale to the range [0, 1]\n",
    "# pv_power_min = pv_power_df.min()\n",
    "# pv_power_max = pv_power_df.max()\n",
    "\n",
    "# pv_power_df /= pv_power_max\n",
    "\n",
    "#instead scale by capacity\n",
    "capacities = pv_metadata[pv_metadata.index.isin(pv_power_df.columns)]['kwp'] * 1000\n",
    "pv_power_df = (pv_power_df / capacities)"
   ]
  },
  {
   "cell_type": "markdown",
   "metadata": {
    "colab_type": "text",
    "id": "2liyqxzpCALo"
   },
   "source": [
    "### Drop systems which are producing over night"
   ]
  },
  {
   "cell_type": "code",
   "execution_count": 8,
   "metadata": {
    "colab": {},
    "colab_type": "code",
    "id": "8t4ok4y1CALp",
    "outputId": "cc3ee193-8576-4013-bbdf-ac3a15cc4718"
   },
   "outputs": [
    {
     "name": "stdout",
     "output_type": "stream",
     "text": [
      "24 bad systems found.\n"
     ]
    }
   ],
   "source": [
    "# Drop systems which are producing over night\n",
    "NIGHT_YIELD_THRESHOLD = 0.4\n",
    "night_hours = list(range(21, 24)) + list(range(0, 4))\n",
    "bad_systems = np.where((pv_power_df[pv_power_df.index.hour.isin(night_hours)] > NIGHT_YIELD_THRESHOLD).sum())[0]\n",
    "bad_systems = pv_power_df.columns[bad_systems]\n",
    "print(len(bad_systems), 'bad systems found.')\n",
    "\n",
    "pv_power_df.drop(bad_systems, axis='columns', inplace=True)"
   ]
  },
  {
   "cell_type": "markdown",
   "metadata": {
    "colab_type": "text",
    "id": "HxIdQzE2CALr"
   },
   "source": [
    "### Aligning again"
   ]
  },
  {
   "cell_type": "code",
   "execution_count": 9,
   "metadata": {
    "colab": {},
    "colab_type": "code",
    "id": "6TH-tiNRCALr"
   },
   "outputs": [],
   "source": [
    "# Align again, after removing dud PV systems\n",
    "pv_metadata_5min, pv_power_df_5min = align_pv_system_ids(pv_metadata, pv_power_df)"
   ]
  },
  {
   "cell_type": "markdown",
   "metadata": {
    "colab_type": "text",
    "id": "W7V0ZiXDCALy"
   },
   "source": [
    "### Remove night data (Analysis between 8am - 4pm)"
   ]
  },
  {
   "cell_type": "code",
   "execution_count": 13,
   "metadata": {
    "colab": {},
    "colab_type": "code",
    "id": "JiPi6Nn9CALz"
   },
   "outputs": [],
   "source": [
    "day_max = 16\n",
    "day_min = 8\n",
    "start_night = datetime.time(day_max,0)\n",
    "end_night = datetime.time(day_min,0)\n",
    "\n",
    "day_index = [time_period for time_period in pv_power_df_5min.index if time_period.time() < start_night and time_period.time() >= end_night]\n",
    "pv_power_df_5day = pv_power_df_5min.loc[day_index]\n",
    "\n"
   ]
  },
  {
   "cell_type": "markdown",
   "metadata": {
    "colab_type": "text",
    "id": "8JEFLB2OCAL7"
   },
   "source": [
    "### Analysis of nans"
   ]
  },
  {
   "cell_type": "code",
   "execution_count": 18,
   "metadata": {
    "colab": {},
    "colab_type": "code",
    "id": "BwwkL5H9CAL7",
    "scrolled": true
   },
   "outputs": [
    {
     "name": "stderr",
     "output_type": "stream",
     "text": [
      "/var/folders/ry/13kbd8ws0q1935vwt56pkc8w0000gn/T/ipykernel_39644/3633812166.py:27: FutureWarning: In a future version of pandas all arguments of DataFrame.drop except for the argument 'labels' will be keyword-only.\n",
      "  pv_power_df_5day = pv_power_df_5day.drop(few_data_systems,1)\n"
     ]
    },
    {
     "data": {
      "text/html": [
       "<div>\n",
       "<style scoped>\n",
       "    .dataframe tbody tr th:only-of-type {\n",
       "        vertical-align: middle;\n",
       "    }\n",
       "\n",
       "    .dataframe tbody tr th {\n",
       "        vertical-align: top;\n",
       "    }\n",
       "\n",
       "    .dataframe thead th {\n",
       "        text-align: right;\n",
       "    }\n",
       "</style>\n",
       "<table border=\"1\" class=\"dataframe\">\n",
       "  <thead>\n",
       "    <tr style=\"text-align: right;\">\n",
       "      <th></th>\n",
       "      <th>2631</th>\n",
       "      <th>2760</th>\n",
       "      <th>2766</th>\n",
       "      <th>2770</th>\n",
       "      <th>2776</th>\n",
       "      <th>2784</th>\n",
       "      <th>2814</th>\n",
       "      <th>2828</th>\n",
       "      <th>2834</th>\n",
       "      <th>2880</th>\n",
       "      <th>...</th>\n",
       "      <th>16717</th>\n",
       "      <th>16769</th>\n",
       "      <th>16921</th>\n",
       "      <th>17166</th>\n",
       "      <th>17878</th>\n",
       "      <th>18019</th>\n",
       "      <th>18161</th>\n",
       "      <th>18249</th>\n",
       "      <th>18989</th>\n",
       "      <th>22335</th>\n",
       "    </tr>\n",
       "    <tr>\n",
       "      <th>datetime</th>\n",
       "      <th></th>\n",
       "      <th></th>\n",
       "      <th></th>\n",
       "      <th></th>\n",
       "      <th></th>\n",
       "      <th></th>\n",
       "      <th></th>\n",
       "      <th></th>\n",
       "      <th></th>\n",
       "      <th></th>\n",
       "      <th></th>\n",
       "      <th></th>\n",
       "      <th></th>\n",
       "      <th></th>\n",
       "      <th></th>\n",
       "      <th></th>\n",
       "      <th></th>\n",
       "      <th></th>\n",
       "      <th></th>\n",
       "      <th></th>\n",
       "      <th></th>\n",
       "    </tr>\n",
       "  </thead>\n",
       "  <tbody>\n",
       "    <tr>\n",
       "      <th>2018-01-01 08:00:00</th>\n",
       "      <td>0.0</td>\n",
       "      <td>0.000000</td>\n",
       "      <td>0.000000e+00</td>\n",
       "      <td>0.000000e+00</td>\n",
       "      <td>0.0</td>\n",
       "      <td>0.000000e+00</td>\n",
       "      <td>0.000000e+00</td>\n",
       "      <td>0.000000e+00</td>\n",
       "      <td>0.000000e+00</td>\n",
       "      <td>0.000000</td>\n",
       "      <td>...</td>\n",
       "      <td>0.000000e+00</td>\n",
       "      <td>0.000000e+00</td>\n",
       "      <td>0.000000e+00</td>\n",
       "      <td>0.000000e+00</td>\n",
       "      <td>0.000000e+00</td>\n",
       "      <td>0.000000e+00</td>\n",
       "      <td>0.000000e+00</td>\n",
       "      <td>0.000000e+00</td>\n",
       "      <td>0.000000e+00</td>\n",
       "      <td>0.000000e+00</td>\n",
       "    </tr>\n",
       "    <tr>\n",
       "      <th>2018-01-01 08:05:00</th>\n",
       "      <td>0.0</td>\n",
       "      <td>0.000000</td>\n",
       "      <td>0.000000e+00</td>\n",
       "      <td>0.000000e+00</td>\n",
       "      <td>0.0</td>\n",
       "      <td>0.000000e+00</td>\n",
       "      <td>0.000000e+00</td>\n",
       "      <td>0.000000e+00</td>\n",
       "      <td>1.823304e-13</td>\n",
       "      <td>0.000000</td>\n",
       "      <td>...</td>\n",
       "      <td>0.000000e+00</td>\n",
       "      <td>0.000000e+00</td>\n",
       "      <td>0.000000e+00</td>\n",
       "      <td>0.000000e+00</td>\n",
       "      <td>0.000000e+00</td>\n",
       "      <td>1.692408e-11</td>\n",
       "      <td>0.000000e+00</td>\n",
       "      <td>0.000000e+00</td>\n",
       "      <td>2.728104e-14</td>\n",
       "      <td>0.000000e+00</td>\n",
       "    </tr>\n",
       "    <tr>\n",
       "      <th>2018-01-01 08:10:00</th>\n",
       "      <td>0.0</td>\n",
       "      <td>0.000000</td>\n",
       "      <td>0.000000e+00</td>\n",
       "      <td>0.000000e+00</td>\n",
       "      <td>0.0</td>\n",
       "      <td>0.000000e+00</td>\n",
       "      <td>0.000000e+00</td>\n",
       "      <td>0.000000e+00</td>\n",
       "      <td>1.255620e-13</td>\n",
       "      <td>0.000000</td>\n",
       "      <td>...</td>\n",
       "      <td>0.000000e+00</td>\n",
       "      <td>0.000000e+00</td>\n",
       "      <td>0.000000e+00</td>\n",
       "      <td>0.000000e+00</td>\n",
       "      <td>0.000000e+00</td>\n",
       "      <td>1.770208e-10</td>\n",
       "      <td>0.000000e+00</td>\n",
       "      <td>0.000000e+00</td>\n",
       "      <td>3.483005e-13</td>\n",
       "      <td>0.000000e+00</td>\n",
       "    </tr>\n",
       "    <tr>\n",
       "      <th>2018-01-01 08:15:00</th>\n",
       "      <td>0.0</td>\n",
       "      <td>0.000000</td>\n",
       "      <td>0.000000e+00</td>\n",
       "      <td>0.000000e+00</td>\n",
       "      <td>0.0</td>\n",
       "      <td>0.000000e+00</td>\n",
       "      <td>2.259852e-10</td>\n",
       "      <td>0.000000e+00</td>\n",
       "      <td>0.000000e+00</td>\n",
       "      <td>0.000000</td>\n",
       "      <td>...</td>\n",
       "      <td>0.000000e+00</td>\n",
       "      <td>0.000000e+00</td>\n",
       "      <td>0.000000e+00</td>\n",
       "      <td>4.723716e-11</td>\n",
       "      <td>0.000000e+00</td>\n",
       "      <td>0.000000e+00</td>\n",
       "      <td>0.000000e+00</td>\n",
       "      <td>0.000000e+00</td>\n",
       "      <td>0.000000e+00</td>\n",
       "      <td>5.289880e-11</td>\n",
       "    </tr>\n",
       "    <tr>\n",
       "      <th>2018-01-01 08:20:00</th>\n",
       "      <td>0.0</td>\n",
       "      <td>0.000000</td>\n",
       "      <td>0.000000e+00</td>\n",
       "      <td>0.000000e+00</td>\n",
       "      <td>0.0</td>\n",
       "      <td>0.000000e+00</td>\n",
       "      <td>1.110090e-09</td>\n",
       "      <td>0.000000e+00</td>\n",
       "      <td>0.000000e+00</td>\n",
       "      <td>0.000000</td>\n",
       "      <td>...</td>\n",
       "      <td>0.000000e+00</td>\n",
       "      <td>0.000000e+00</td>\n",
       "      <td>0.000000e+00</td>\n",
       "      <td>4.445070e-10</td>\n",
       "      <td>0.000000e+00</td>\n",
       "      <td>0.000000e+00</td>\n",
       "      <td>0.000000e+00</td>\n",
       "      <td>0.000000e+00</td>\n",
       "      <td>0.000000e+00</td>\n",
       "      <td>5.408640e-10</td>\n",
       "    </tr>\n",
       "    <tr>\n",
       "      <th>...</th>\n",
       "      <td>...</td>\n",
       "      <td>...</td>\n",
       "      <td>...</td>\n",
       "      <td>...</td>\n",
       "      <td>...</td>\n",
       "      <td>...</td>\n",
       "      <td>...</td>\n",
       "      <td>...</td>\n",
       "      <td>...</td>\n",
       "      <td>...</td>\n",
       "      <td>...</td>\n",
       "      <td>...</td>\n",
       "      <td>...</td>\n",
       "      <td>...</td>\n",
       "      <td>...</td>\n",
       "      <td>...</td>\n",
       "      <td>...</td>\n",
       "      <td>...</td>\n",
       "      <td>...</td>\n",
       "      <td>...</td>\n",
       "      <td>...</td>\n",
       "    </tr>\n",
       "    <tr>\n",
       "      <th>2019-12-31 15:40:00</th>\n",
       "      <td>0.0</td>\n",
       "      <td>0.003172</td>\n",
       "      <td>2.499771e-02</td>\n",
       "      <td>5.796540e-07</td>\n",
       "      <td>0.0</td>\n",
       "      <td>3.960306e-03</td>\n",
       "      <td>0.000000e+00</td>\n",
       "      <td>1.311560e-05</td>\n",
       "      <td>0.000000e+00</td>\n",
       "      <td>0.004316</td>\n",
       "      <td>...</td>\n",
       "      <td>0.000000e+00</td>\n",
       "      <td>4.926258e-03</td>\n",
       "      <td>5.630040e-03</td>\n",
       "      <td>1.615062e-02</td>\n",
       "      <td>7.401680e-06</td>\n",
       "      <td>1.058888e-03</td>\n",
       "      <td>5.471526e-09</td>\n",
       "      <td>8.894256e-04</td>\n",
       "      <td>1.676333e-02</td>\n",
       "      <td>0.000000e+00</td>\n",
       "    </tr>\n",
       "    <tr>\n",
       "      <th>2019-12-31 15:45:00</th>\n",
       "      <td>0.0</td>\n",
       "      <td>0.000319</td>\n",
       "      <td>4.786288e-03</td>\n",
       "      <td>0.000000e+00</td>\n",
       "      <td>0.0</td>\n",
       "      <td>9.768796e-04</td>\n",
       "      <td>0.000000e+00</td>\n",
       "      <td>0.000000e+00</td>\n",
       "      <td>1.034490e-07</td>\n",
       "      <td>0.000342</td>\n",
       "      <td>...</td>\n",
       "      <td>8.545020e-08</td>\n",
       "      <td>1.714680e-03</td>\n",
       "      <td>1.105364e-03</td>\n",
       "      <td>8.621880e-03</td>\n",
       "      <td>0.000000e+00</td>\n",
       "      <td>5.328280e-05</td>\n",
       "      <td>0.000000e+00</td>\n",
       "      <td>0.000000e+00</td>\n",
       "      <td>1.058208e-02</td>\n",
       "      <td>2.384680e-08</td>\n",
       "    </tr>\n",
       "    <tr>\n",
       "      <th>2019-12-31 15:50:00</th>\n",
       "      <td>0.0</td>\n",
       "      <td>0.000003</td>\n",
       "      <td>5.858240e-04</td>\n",
       "      <td>0.000000e+00</td>\n",
       "      <td>0.0</td>\n",
       "      <td>0.000000e+00</td>\n",
       "      <td>0.000000e+00</td>\n",
       "      <td>0.000000e+00</td>\n",
       "      <td>3.132390e-09</td>\n",
       "      <td>0.000004</td>\n",
       "      <td>...</td>\n",
       "      <td>3.184008e-09</td>\n",
       "      <td>2.265390e-04</td>\n",
       "      <td>0.000000e+00</td>\n",
       "      <td>5.338686e-03</td>\n",
       "      <td>0.000000e+00</td>\n",
       "      <td>3.293560e-07</td>\n",
       "      <td>0.000000e+00</td>\n",
       "      <td>0.000000e+00</td>\n",
       "      <td>4.901232e-03</td>\n",
       "      <td>7.607760e-10</td>\n",
       "    </tr>\n",
       "    <tr>\n",
       "      <th>2019-12-31 15:55:00</th>\n",
       "      <td>0.0</td>\n",
       "      <td>0.000000</td>\n",
       "      <td>5.572320e-06</td>\n",
       "      <td>4.578600e-11</td>\n",
       "      <td>0.0</td>\n",
       "      <td>4.167306e-07</td>\n",
       "      <td>0.000000e+00</td>\n",
       "      <td>8.090633e-10</td>\n",
       "      <td>0.000000e+00</td>\n",
       "      <td>0.000000</td>\n",
       "      <td>...</td>\n",
       "      <td>0.000000e+00</td>\n",
       "      <td>2.367996e-06</td>\n",
       "      <td>1.730640e-07</td>\n",
       "      <td>3.040158e-03</td>\n",
       "      <td>1.452072e-10</td>\n",
       "      <td>0.000000e+00</td>\n",
       "      <td>3.271950e-13</td>\n",
       "      <td>2.119805e-08</td>\n",
       "      <td>3.513854e-03</td>\n",
       "      <td>0.000000e+00</td>\n",
       "    </tr>\n",
       "    <tr>\n",
       "      <th>2019-12-31 16:00:00</th>\n",
       "      <td>0.0</td>\n",
       "      <td>0.000000</td>\n",
       "      <td>1.360747e-07</td>\n",
       "      <td>1.181490e-12</td>\n",
       "      <td>0.0</td>\n",
       "      <td>1.329787e-08</td>\n",
       "      <td>0.000000e+00</td>\n",
       "      <td>1.762534e-11</td>\n",
       "      <td>0.000000e+00</td>\n",
       "      <td>0.000000</td>\n",
       "      <td>...</td>\n",
       "      <td>0.000000e+00</td>\n",
       "      <td>7.642920e-08</td>\n",
       "      <td>5.241560e-09</td>\n",
       "      <td>1.375824e-03</td>\n",
       "      <td>5.411720e-12</td>\n",
       "      <td>0.000000e+00</td>\n",
       "      <td>1.044078e-14</td>\n",
       "      <td>6.185280e-10</td>\n",
       "      <td>2.201026e-03</td>\n",
       "      <td>0.000000e+00</td>\n",
       "    </tr>\n",
       "  </tbody>\n",
       "</table>\n",
       "<p>70571 rows × 320 columns</p>\n",
       "</div>"
      ],
      "text/plain": [
       "                     2631      2760          2766          2770   2776   \\\n",
       "datetime                                                                  \n",
       "2018-01-01 08:00:00    0.0  0.000000  0.000000e+00  0.000000e+00    0.0   \n",
       "2018-01-01 08:05:00    0.0  0.000000  0.000000e+00  0.000000e+00    0.0   \n",
       "2018-01-01 08:10:00    0.0  0.000000  0.000000e+00  0.000000e+00    0.0   \n",
       "2018-01-01 08:15:00    0.0  0.000000  0.000000e+00  0.000000e+00    0.0   \n",
       "2018-01-01 08:20:00    0.0  0.000000  0.000000e+00  0.000000e+00    0.0   \n",
       "...                    ...       ...           ...           ...    ...   \n",
       "2019-12-31 15:40:00    0.0  0.003172  2.499771e-02  5.796540e-07    0.0   \n",
       "2019-12-31 15:45:00    0.0  0.000319  4.786288e-03  0.000000e+00    0.0   \n",
       "2019-12-31 15:50:00    0.0  0.000003  5.858240e-04  0.000000e+00    0.0   \n",
       "2019-12-31 15:55:00    0.0  0.000000  5.572320e-06  4.578600e-11    0.0   \n",
       "2019-12-31 16:00:00    0.0  0.000000  1.360747e-07  1.181490e-12    0.0   \n",
       "\n",
       "                            2784          2814          2828          2834   \\\n",
       "datetime                                                                      \n",
       "2018-01-01 08:00:00  0.000000e+00  0.000000e+00  0.000000e+00  0.000000e+00   \n",
       "2018-01-01 08:05:00  0.000000e+00  0.000000e+00  0.000000e+00  1.823304e-13   \n",
       "2018-01-01 08:10:00  0.000000e+00  0.000000e+00  0.000000e+00  1.255620e-13   \n",
       "2018-01-01 08:15:00  0.000000e+00  2.259852e-10  0.000000e+00  0.000000e+00   \n",
       "2018-01-01 08:20:00  0.000000e+00  1.110090e-09  0.000000e+00  0.000000e+00   \n",
       "...                           ...           ...           ...           ...   \n",
       "2019-12-31 15:40:00  3.960306e-03  0.000000e+00  1.311560e-05  0.000000e+00   \n",
       "2019-12-31 15:45:00  9.768796e-04  0.000000e+00  0.000000e+00  1.034490e-07   \n",
       "2019-12-31 15:50:00  0.000000e+00  0.000000e+00  0.000000e+00  3.132390e-09   \n",
       "2019-12-31 15:55:00  4.167306e-07  0.000000e+00  8.090633e-10  0.000000e+00   \n",
       "2019-12-31 16:00:00  1.329787e-08  0.000000e+00  1.762534e-11  0.000000e+00   \n",
       "\n",
       "                        2880   ...         16717         16769         16921  \\\n",
       "datetime                       ...                                             \n",
       "2018-01-01 08:00:00  0.000000  ...  0.000000e+00  0.000000e+00  0.000000e+00   \n",
       "2018-01-01 08:05:00  0.000000  ...  0.000000e+00  0.000000e+00  0.000000e+00   \n",
       "2018-01-01 08:10:00  0.000000  ...  0.000000e+00  0.000000e+00  0.000000e+00   \n",
       "2018-01-01 08:15:00  0.000000  ...  0.000000e+00  0.000000e+00  0.000000e+00   \n",
       "2018-01-01 08:20:00  0.000000  ...  0.000000e+00  0.000000e+00  0.000000e+00   \n",
       "...                       ...  ...           ...           ...           ...   \n",
       "2019-12-31 15:40:00  0.004316  ...  0.000000e+00  4.926258e-03  5.630040e-03   \n",
       "2019-12-31 15:45:00  0.000342  ...  8.545020e-08  1.714680e-03  1.105364e-03   \n",
       "2019-12-31 15:50:00  0.000004  ...  3.184008e-09  2.265390e-04  0.000000e+00   \n",
       "2019-12-31 15:55:00  0.000000  ...  0.000000e+00  2.367996e-06  1.730640e-07   \n",
       "2019-12-31 16:00:00  0.000000  ...  0.000000e+00  7.642920e-08  5.241560e-09   \n",
       "\n",
       "                            17166         17878         18019         18161  \\\n",
       "datetime                                                                      \n",
       "2018-01-01 08:00:00  0.000000e+00  0.000000e+00  0.000000e+00  0.000000e+00   \n",
       "2018-01-01 08:05:00  0.000000e+00  0.000000e+00  1.692408e-11  0.000000e+00   \n",
       "2018-01-01 08:10:00  0.000000e+00  0.000000e+00  1.770208e-10  0.000000e+00   \n",
       "2018-01-01 08:15:00  4.723716e-11  0.000000e+00  0.000000e+00  0.000000e+00   \n",
       "2018-01-01 08:20:00  4.445070e-10  0.000000e+00  0.000000e+00  0.000000e+00   \n",
       "...                           ...           ...           ...           ...   \n",
       "2019-12-31 15:40:00  1.615062e-02  7.401680e-06  1.058888e-03  5.471526e-09   \n",
       "2019-12-31 15:45:00  8.621880e-03  0.000000e+00  5.328280e-05  0.000000e+00   \n",
       "2019-12-31 15:50:00  5.338686e-03  0.000000e+00  3.293560e-07  0.000000e+00   \n",
       "2019-12-31 15:55:00  3.040158e-03  1.452072e-10  0.000000e+00  3.271950e-13   \n",
       "2019-12-31 16:00:00  1.375824e-03  5.411720e-12  0.000000e+00  1.044078e-14   \n",
       "\n",
       "                            18249         18989         22335  \n",
       "datetime                                                       \n",
       "2018-01-01 08:00:00  0.000000e+00  0.000000e+00  0.000000e+00  \n",
       "2018-01-01 08:05:00  0.000000e+00  2.728104e-14  0.000000e+00  \n",
       "2018-01-01 08:10:00  0.000000e+00  3.483005e-13  0.000000e+00  \n",
       "2018-01-01 08:15:00  0.000000e+00  0.000000e+00  5.289880e-11  \n",
       "2018-01-01 08:20:00  0.000000e+00  0.000000e+00  5.408640e-10  \n",
       "...                           ...           ...           ...  \n",
       "2019-12-31 15:40:00  8.894256e-04  1.676333e-02  0.000000e+00  \n",
       "2019-12-31 15:45:00  0.000000e+00  1.058208e-02  2.384680e-08  \n",
       "2019-12-31 15:50:00  0.000000e+00  4.901232e-03  7.607760e-10  \n",
       "2019-12-31 15:55:00  2.119805e-08  3.513854e-03  0.000000e+00  \n",
       "2019-12-31 16:00:00  6.185280e-10  2.201026e-03  0.000000e+00  \n",
       "\n",
       "[70571 rows x 320 columns]"
      ]
     },
     "execution_count": 18,
     "metadata": {},
     "output_type": "execute_result"
    }
   ],
   "source": [
    "threshold = 1 #write percentage\n",
    "\n",
    "count_nan = []\n",
    "few_data_systems = []\n",
    "for cols in pv_power_df_5day.columns:\n",
    "    \n",
    "    a = len([it for it in list(pv_power_df_5day[cols]) if (it >=0) ==False])\n",
    "    count_nan.append(a)\n",
    "    \n",
    "    if a/len(pv_power_df_5day)*100 > threshold:\n",
    "        \n",
    "        few_data_systems.append(cols)\n",
    "        \n",
    "        \n",
    "# import matplotlib as mpl\n",
    "# %matplotlib inline\n",
    "# dpi = 120\n",
    "# mpl.rcParams['figure.dpi']= dpi\n",
    "\n",
    "# fig = plt.figure(figsize=(10,5))\n",
    "# plt.hist(np.array(count_nan)/len(pv_power_df_5day)*100,bins=25,color='#0504aa',rwidth=0.85)\n",
    "# plt.xlabel('Percentage NaN values [%]')\n",
    "# plt.ylabel('PV systems count')\n",
    "# plt.grid(axis='y', alpha=0.3)\n",
    "# plt.show()\n",
    "\n",
    "pv_power_df_5day = pv_power_df_5day.drop(few_data_systems,1)\n",
    "pv_power_df_5day\n"
   ]
  },
  {
   "cell_type": "markdown",
   "metadata": {
    "colab_type": "text",
    "id": "mhMOcpDACAMF"
   },
   "source": [
    "### Replace Nans by interpolation"
   ]
  },
  {
   "cell_type": "code",
   "execution_count": 2,
   "metadata": {
    "colab": {},
    "colab_type": "code",
    "id": "pZjr_Ho9CAMG",
    "outputId": "4c06b8de-afcd-4d6f-f9b7-d452ba3063a3",
    "scrolled": false
   },
   "outputs": [
    {
     "ename": "NameError",
     "evalue": "name 'pv_power_df_5day' is not defined",
     "output_type": "error",
     "traceback": [
      "\u001b[0;31m---------------------------------------------------------------------------\u001b[0m",
      "\u001b[0;31mNameError\u001b[0m                                 Traceback (most recent call last)",
      "Input \u001b[0;32mIn [2]\u001b[0m, in \u001b[0;36m<module>\u001b[0;34m\u001b[0m\n\u001b[0;32m----> 1\u001b[0m pv_power_df_5day \u001b[38;5;241m=\u001b[39m \u001b[43mpv_power_df_5day\u001b[49m\u001b[38;5;241m.\u001b[39minterpolate(method\u001b[38;5;241m=\u001b[39m\u001b[38;5;124m'\u001b[39m\u001b[38;5;124mlinear\u001b[39m\u001b[38;5;124m'\u001b[39m, axis\u001b[38;5;241m=\u001b[39m\u001b[38;5;241m0\u001b[39m,limit_direction\u001b[38;5;241m=\u001b[39m\u001b[38;5;124m'\u001b[39m\u001b[38;5;124mboth\u001b[39m\u001b[38;5;124m'\u001b[39m)\n\u001b[1;32m      2\u001b[0m pv_power_df_5day\u001b[38;5;241m.\u001b[39miloc[:, \u001b[38;5;241m5\u001b[39m]\u001b[38;5;241m.\u001b[39mplot(figsize\u001b[38;5;241m=\u001b[39m(\u001b[38;5;241m12\u001b[39m,\u001b[38;5;241m7\u001b[39m))\n\u001b[1;32m      3\u001b[0m plt\u001b[38;5;241m.\u001b[39mxlabel(\u001b[38;5;124m'\u001b[39m\u001b[38;5;124mTime\u001b[39m\u001b[38;5;124m'\u001b[39m)\n",
      "\u001b[0;31mNameError\u001b[0m: name 'pv_power_df_5day' is not defined"
     ]
    }
   ],
   "source": [
    "pv_power_df_5day = pv_power_df_5day.interpolate(method='linear', axis=0,limit_direction='both')\n",
    "pv_power_df_5day.iloc[:, 5].plot(figsize=(12,7))\n",
    "plt.xlabel('Time')\n",
    "plt.ylabel('PVE output as percentage of total capacity')\n",
    "plt.ylim(-0.03,1)\n"
   ]
  },
  {
   "cell_type": "code",
   "execution_count": null,
   "metadata": {},
   "outputs": [],
   "source": [
    "#FOR THE DAILY PLOT, IN BOUNDED_GP NOTEBOOK:\n",
    "# len_samples = len(t_test) + 800\n",
    "# days_index = max(97, int(((len_samples / 3) // 97) * 97)) #number of time intervals to match 5 beginnings of days\n",
    "# plt.figure(figsize=(12,7))\n",
    "# plt.plot(np.arange(len(Y))[-len_samples:], Y[:,0][-len_samples:])\n",
    "# plt.xlabel('Time')\n",
    "# plt.ylabel('PVE output as percentage of total capacity')\n",
    "# plt.xticks(ticks = np.arange(len(Y))[-len_samples:-1:days_index], labels = data_multiple.datetime[-len_samples:-1:days_index].values, size=8)"
   ]
  },
  {
   "cell_type": "code",
   "execution_count": 20,
   "metadata": {},
   "outputs": [],
   "source": [
    "#remove observations above 1\n",
    "\n",
    "pv_power_df_5day[pv_power_df_5day>1] = 1\n"
   ]
  },
  {
   "cell_type": "markdown",
   "metadata": {},
   "source": [
    "## remove systems with many zeros"
   ]
  },
  {
   "cell_type": "code",
   "execution_count": 21,
   "metadata": {},
   "outputs": [
    {
     "data": {
      "text/plain": [
       "[<matplotlib.lines.Line2D at 0x114ba5060>]"
      ]
     },
     "execution_count": 21,
     "metadata": {},
     "output_type": "execute_result"
    },
    {
     "data": {
      "image/png": "[encoded data removed]",
      "text/plain": [
       "<Figure size 432x288 with 1 Axes>"
      ]
     },
     "metadata": {
      "needs_background": "light"
     },
     "output_type": "display_data"
    }
   ],
   "source": [
    "plt.plot((pv_power_df_5day == 0).mean(axis=0).sort_values().values) #.plot()"
   ]
  },
  {
   "cell_type": "code",
   "execution_count": 22,
   "metadata": {},
   "outputs": [],
   "source": [
    "pv_power_df_5day = pv_power_df_5day.loc[:, pv_power_df_5day.isin([0]).mean() < 0.08]"
   ]
  },
  {
   "cell_type": "code",
   "execution_count": 23,
   "metadata": {},
   "outputs": [
    {
     "data": {
      "text/plain": [
       "[<matplotlib.lines.Line2D at 0x114ab44f0>]"
      ]
     },
     "execution_count": 23,
     "metadata": {},
     "output_type": "execute_result"
    },
    {
     "data": {
      "image/png": "[encoded data removed]",
      "text/plain": [
       "<Figure size 432x288 with 1 Axes>"
      ]
     },
     "metadata": {
      "needs_background": "light"
     },
     "output_type": "display_data"
    }
   ],
   "source": [
    "plt.plot((pv_power_df_5day == 0).mean(axis=0).sort_values().values) #.plot()"
   ]
  },
  {
   "cell_type": "markdown",
   "metadata": {
    "colab_type": "text",
    "id": "DgRLuNqYCAMH"
   },
   "source": [
    "### Convert to csv"
   ]
  },
  {
   "cell_type": "code",
   "execution_count": 17,
   "metadata": {
    "colab": {},
    "colab_type": "code",
    "id": "JmIlV7AXCAMI"
   },
   "outputs": [],
   "source": [
    "pv_power_df_5day.to_csv('/Users/SeanNassimiha/Desktop/MSc Project/Data/pv_power_df_5day_capacity_scaled.csv')"
   ]
  },
  {
   "cell_type": "markdown",
   "metadata": {},
   "source": [
    "## Now Doing the same for Validation set (not test yet)"
   ]
  },
  {
   "cell_type": "code",
   "execution_count": 18,
   "metadata": {},
   "outputs": [
    {
     "name": "stdout",
     "output_type": "stream",
     "text": [
      "0 bad systems found.\n"
     ]
    },
    {
     "name": "stderr",
     "output_type": "stream",
     "text": [
      "/var/folders/ry/13kbd8ws0q1935vwt56pkc8w0000gn/T/ipykernel_79772/103839560.py:45: FutureWarning: In a future version of pandas all arguments of DataFrame.drop except for the argument 'labels' will be keyword-only.\n",
      "  pv_power_df_val_5day = pv_power_df_val_5day.drop(few_data_systems,1)\n"
     ]
    },
    {
     "data": {
      "image/png": "[encoded data removed]",
      "text/plain": [
       "<Figure size 1080x720 with 1 Axes>"
      ]
     },
     "metadata": {
      "needs_background": "light"
     },
     "output_type": "display_data"
    }
   ],
   "source": [
    "#get the columns from train\n",
    "pv_power_val = pv_power_validation[pv_power_df_5day.columns.values.astype('str')]\n",
    "\n",
    "#clip values\n",
    "pv_power_df_val = pv_power_val.dropna(axis='columns', how='all')\n",
    "pv_power_df_val = pv_power_df_val.clip(lower=0, upper=5E7)\n",
    "pv_power_df_val.columns = [np.int64(col) for col in pv_power_df_val.columns]\n",
    "\n",
    "\n",
    "# #align\n",
    "pv_metadata_val, pv_power_df_val = align_pv_system_ids(pv_metadata, pv_power_df_val)\n",
    "\n",
    "# #rescaling by capacities\n",
    "capacities = pv_metadata_val[pv_metadata_val.index.isin(pv_power_df_val.columns)]['kwp'] * 1000\n",
    "pv_power_df_val = (pv_power_df_val / capacities)\n",
    "\n",
    "# #drop systems producing in night\n",
    "# Drop systems which are producing over night\n",
    "bad_systems_val = np.where((pv_power_df_val[pv_power_df_val.index.hour.isin(night_hours)] > NIGHT_YIELD_THRESHOLD).sum())[0]\n",
    "bad_systems_val = pv_power_df_val.columns[bad_systems_val]\n",
    "print(len(bad_systems_val), 'bad systems found.')\n",
    "\n",
    "pv_power_df_val.drop(bad_systems_val, axis='columns', inplace=True)\n",
    "\n",
    "\n",
    "#align\n",
    "pv_metadata_5min, pv_power_df_val_5min = align_pv_system_ids(pv_metadata_val, pv_power_df_val)\n",
    "\n",
    "#remove night\n",
    "day_index = [time_period for time_period in pv_power_df_val_5min.index if time_period.time() < start_night and time_period.time() >= end_night]\n",
    "pv_power_df_val_5day = pv_power_df_val_5min.loc[day_index]\n",
    "\n",
    "#remove systems with nan\n",
    "count_nan = []\n",
    "few_data_systems = []\n",
    "for cols in pv_power_df_val_5day.columns:\n",
    "    \n",
    "    a = len([it for it in list(pv_power_df_val_5day[cols]) if (it >=0) ==False])\n",
    "    count_nan.append(a)\n",
    "    \n",
    "    if a/len(pv_power_df_val_5day)*100 > threshold:\n",
    "        \n",
    "        few_data_systems.append(cols)\n",
    "\n",
    "pv_power_df_val_5day = pv_power_df_val_5day.drop(few_data_systems,1)\n",
    "       \n",
    "\n",
    "#interpolate nans\n",
    "pv_power_df_val_5day = pv_power_df_val_5day.interpolate(method='linear', axis=0,limit_direction='both')\n",
    "pv_power_df_val_5day.iloc[:, 30:50].plot(figsize=(15,10))\n",
    "\n",
    "pv_power_df_val_5day[pv_power_df_val_5day>1] = 1\n",
    "pv_power_df_val_5day = pv_power_df_val_5day.loc[:, pv_power_df_val_5day.isin([0]).mean() < 0.08]\n",
    "\n",
    "pv_power_df_val_5day.to_csv('/Users/SeanNassimiha/Desktop/MSc Project/Data/pv_power_df_5day_validation_capacity_scaled.csv')"
   ]
  },
  {
   "cell_type": "code",
   "execution_count": null,
   "metadata": {},
   "outputs": [],
   "source": []
  }
 ],
 "metadata": {
  "colab": {
   "collapsed_sections": [],
   "name": "Preprocessing_thesis.ipynb",
   "provenance": []
  },
  "environment": {
   "name": "pytorch-gpu.1-4.m50",
   "type": "gcloud",
   "uri": "gcr.io/deeplearning-platform-release/pytorch-gpu.1-4:m50"
  },
  "kernelspec": {
   "display_name": "Python 3 (ipykernel)",
   "language": "python",
   "name": "python3"
  },
  "language_info": {
   "codemirror_mode": {
    "name": "ipython",
    "version": 3
   },
   "file_extension": ".py",
   "mimetype": "text/x-python",
   "name": "python",
   "nbconvert_exporter": "python",
   "pygments_lexer": "ipython3",
   "version": "3.10.5"
  }
 },
 "nbformat": 4,
 "nbformat_minor": 1
}
