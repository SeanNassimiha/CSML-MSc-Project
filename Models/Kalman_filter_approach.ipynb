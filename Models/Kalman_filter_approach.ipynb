{
 "cells": [
  {
   "cell_type": "code",
   "execution_count": 1,
   "id": "145bcf93",
   "metadata": {
    "colab": {
     "base_uri": "https://localhost:8080/",
     "height": 1000
    },
    "id": "145bcf93",
    "outputId": "65eb2cb9-7c2e-4356-8318-0e7318abf2d9",
    "scrolled": false
   },
   "outputs": [
    {
     "name": "stderr",
     "output_type": "stream",
     "text": [
      "/Users/SeanNassimiha/miniforge3/envs/mscproject/lib/python3.8/site-packages/jax/_src/lib/__init__.py:33: UserWarning: JAX on Mac ARM machines is experimental and minimally tested. Please see https://github.com/google/jax/issues/5501 in the event of problems.\n",
      "  warnings.warn(\"JAX on Mac ARM machines is experimental and minimally tested. \"\n"
     ]
    },
    {
     "name": "stdout",
     "output_type": "stream",
     "text": [
      "2.3.1\n"
     ]
    }
   ],
   "source": [
    "import pandas as pd\n",
    "import numpy as np\n",
    "import matplotlib.pyplot as plt\n",
    "import tensorflow as tf\n",
    "import gpflow\n",
    "from gpflow.utilities import print_summary\n",
    "import time\n",
    "print(gpflow.__version__)"
   ]
  },
  {
   "cell_type": "code",
   "execution_count": 2,
   "id": "s6tOegnZXFYk",
   "metadata": {
    "id": "s6tOegnZXFYk"
   },
   "outputs": [],
   "source": [
    "data =  pd.read_csv('../../Data/pv_power_df_5day.csv', index_col='datetime')\n",
    "data_val = pd.read_csv('../../Data/pv_power_df_5day_validation.csv', index_col='datetime')\n",
    "\n",
    "data_val = pd.read_csv('../../Data/pv_power_df_5day_validation.csv', index_col='datetime')\n",
    "uk_pv = pd.read_csv('../../Data/system_metadata_location_rounded.csv')\n"
   ]
  },
  {
   "cell_type": "code",
   "execution_count": 3,
   "id": "a91e1155",
   "metadata": {
    "id": "a91e1155"
   },
   "outputs": [],
   "source": [
    "# The lines below are specific to the notebook format\n",
    "%matplotlib inline\n",
    "plt.rcParams[\"figure.figsize\"] = (12, 6)"
   ]
  },
  {
   "cell_type": "code",
   "execution_count": 4,
   "id": "gQqU5qHDYcL3",
   "metadata": {
    "id": "gQqU5qHDYcL3"
   },
   "outputs": [],
   "source": [
    "# data_single = data.iloc[:, :1][:2900]\n",
    "len_train = 100000\n",
    "len_test = 24\n",
    "\n",
    "data_single = data.iloc[:len_train, :1]\n",
    "data_single_val = data.iloc[len_train:len_train + len_test, :1]"
   ]
  },
  {
   "cell_type": "code",
   "execution_count": 5,
   "id": "57df941a",
   "metadata": {
    "id": "57df941a"
   },
   "outputs": [],
   "source": [
    "X_train = np.arange(len(data_single.index)).astype('float64').reshape(-1, 1)\n",
    "Y_train = data_single.values.reshape( -1, 1)\n",
    "X_test = np.arange(len(data_single_val.index)).astype('float64').reshape(-1, 1)\n",
    "Y_test = data_single_val.values.reshape( -1, 1)"
   ]
  },
  {
   "cell_type": "markdown",
   "id": "13b5be99",
   "metadata": {},
   "source": [
    "# Temporal GP"
   ]
  },
  {
   "cell_type": "code",
   "execution_count": 6,
   "id": "e641c161",
   "metadata": {},
   "outputs": [],
   "source": [
    "# Below is an implementation of the Kalman filter/smoother\n",
    "class KalmanFilterSmoother():\n",
    "    def __init__(self, F, Q, H, R):\n",
    "        self.F = F\n",
    "        self.Q = Q\n",
    "        self.H = H\n",
    "        self.R = R\n",
    "        \n",
    "    def _predict(self, x, P):\n",
    "        F = self.F\n",
    "        Q = self.Q\n",
    "        return tf.linalg.matvec(F, x), F@tf.linalg.matmul(P, F, transpose_b=True) + Q\n",
    "\n",
    "    def _filter_update(self, x, P, y):\n",
    "        R = self.R\n",
    "        H = self.H\n",
    "        # Compute Kalman gain matrix\n",
    "        if not tf.math.is_nan(y):\n",
    "            S = H @ tf.linalg.matmul(P, H, transpose_b=True) + R\n",
    "            chol = tf.linalg.cholesky(S)\n",
    "            Kt = tf.linalg.cholesky_solve(chol, H@P)\n",
    "            Hx = tf.linalg.matvec(H, x)\n",
    "            return x + tf.linalg.matvec(Kt, y - Hx, transpose_a=True), P - tf.linalg.matmul(Kt, S, transpose_a=True) @ Kt\n",
    "        else:\n",
    "            return x, P\n",
    "\n",
    "    def _smoother_update(self, x_now, x_next, x_forecast, P_now, P_next, P_forecast):\n",
    "        F = self.F\n",
    "        # Compute smoothing gain\n",
    "        chol = tf.linalg.cholesky(P_forecast)\n",
    "        Jt = tf.linalg.cholesky_solve(chol, F @ P_now)\n",
    "        # Update\n",
    "        xnew = x_now + tf.linalg.matvec(Jt, x_next - x_forecast, transpose_a=True)\n",
    "        Pnew = P_now + tf.linalg.matmul(Jt, P_next - P_forecast, transpose_a=True) @ Jt\n",
    "        return xnew, Pnew\n",
    "\n",
    "    def forward_pass(self, x, P, y_list):\n",
    "        \"\"\" Calling the forward pass gives us the filtering distribution.\n",
    "            Args:\n",
    "                x: numpy array of shape (d,) where d is the spatial dimension\n",
    "                P: numpy array of shape (d, d)\n",
    "                y_list: numpy array of shape (N, d) containing a list of observations at N timepoints.\n",
    "                        Note that when there is no observation at time n, then set y_list[n] = np.nan\n",
    "        \"\"\"\n",
    "        means = []\n",
    "        covariances = []\n",
    "        for y  in y_list:\n",
    "            x, P = self._filter_update(x, P, y)\n",
    "            means.append(x)\n",
    "            covariances.append(P)\n",
    "            x, P = self._predict(x, P)\n",
    "        return tf.stack(means), tf.stack(covariances)\n",
    "\n",
    "    def backward_pass(self, x, P):\n",
    "        \"\"\" Calling the backward pass gives us the smoothing distribution. This should be called after applying the forward pass.\n",
    "            Args:\n",
    "                x: numpy array of shape (N, d) where N is the number of forward time steps and d is the spatial dimension\n",
    "                P: numpy array of shape (N, d, d)\n",
    "        \"\"\"\n",
    "        F = self.F\n",
    "        N = x.shape[0]\n",
    "        means = [x[-1]]\n",
    "        covariances = [P[-1]]\n",
    "        for n in range(N-2, -1, -1):\n",
    "            # Forecast\n",
    "            xf, Pf = self._predict(x[n], P[n])\n",
    "            # Update\n",
    "            xnew, Pnew = self._smoother_update(x[n], x[n+1], xf, P[n], P[n+1], Pf)\n",
    "            means.append(xnew)\n",
    "            covariances.append(Pnew)\n",
    "        return tf.reverse(tf.stack(means), tf.constant([0])), tf.reverse(tf.stack(covariances), tf.constant([0]))\n",
    "\n",
    "    def __call__(self, x0, P0, y_list):\n",
    "        \"\"\" Compute the smoothing distribution by applying the forward and backward pass in sequence.\n",
    "            Args: same as in self.forward_pass\n",
    "        \"\"\"\n",
    "        x, P = self.backward_pass(*self.forward_pass(x0, P0, y_list))\n",
    "        return x, P\n"
   ]
  },
  {
   "cell_type": "code",
   "execution_count": 7,
   "id": "c032fb70",
   "metadata": {},
   "outputs": [],
   "source": [
    "from dataclasses import dataclass, field\n",
    "from typing import Tuple, Callable\n",
    "from functools import partial\n",
    "\n",
    "def plot(X_query, mean, var, samples=None, data=None, title=None, fig=None, figsize=(10,5)):\n",
    "    \"\"\" Function to plot GP predictions\n",
    "    Args:\n",
    "        X_query: Tensor of shape [N*, D]\n",
    "        mean: Tensor of shape [N*, D]\n",
    "        var: Tensor of shape [N*, D]\n",
    "        samples: Tensor of shape [S, N*, D]\n",
    "        data: Tuple (X, Y) where X, Y are tensors of shape [N, D]\n",
    "        title: String\n",
    "        fig: matplotlib Figure object\n",
    "    Note:\n",
    "        N : number of data points\n",
    "        N*: number of query (test) points\n",
    "        D : dimension\n",
    "        S : number of samples\n",
    "    \"\"\"\n",
    "    if fig == None:\n",
    "        plt.figure(figsize=figsize)\n",
    "    plt.plot(X_query, mean, c=\"C0\", lw=2, zorder=2)\n",
    "    plt.fill_between(\n",
    "        X_query[:, 0],\n",
    "        mean[:, 0] - 1.96 * np.sqrt(var[:, 0]),\n",
    "        mean[:, 0] + 1.96 * np.sqrt(var[:, 0]),\n",
    "        color=\"C0\",\n",
    "        alpha=0.2,\n",
    "    )\n",
    "    if samples is not None:\n",
    "        plt.plot(X_query, samples[:,:,0].numpy().T, \"C0\", linewidth=0.5, zorder=1)\n",
    "\n",
    "    if data is not None:\n",
    "        plt.plot(*data, \"xk\", zorder=0)\n",
    "\n",
    "    if title is not None:\n",
    "        plt.title(title)"
   ]
  },
  {
   "cell_type": "code",
   "execution_count": 8,
   "id": "923540fb",
   "metadata": {},
   "outputs": [],
   "source": [
    "@dataclass\n",
    "class PlotConfig:\n",
    "    figsize: tuple = (10,8)\n",
    "    xlabel: str = \"Date\"\n",
    "    xlabel_kwargs: dict = field(default_factory=lambda: {\"fontsize\": 14})\n",
    "    ylabel: str = \"Solal Output\"\n",
    "    ylabel_kwargs: dict = field(default_factory=lambda: {\"fontsize\": 14})\n",
    "    title: str = None\n",
    "    title_kwargs: dict = field(default_factory=lambda: {\"fontsize\": 14})\n",
    "    xticks_position: Tuple[list, np.ndarray] = np.arange(19.0, 21.5, 0.5)\n",
    "    xticks_label: Tuple[list, np.ndarray] = np.arange(1900, 2150, 50)\n",
    "    grid_on: bool = True\n",
    "    grid_kwargs: dict = field(default_factory=lambda: {\"linestyle\": '--', \"linewidth\": 0.5})\n",
    "\n",
    "\n",
    "def plot_wrapper(\n",
    "        plot_config: PlotConfig,\n",
    "        plot_args,\n",
    "        plot_kwargs,\n",
    "        plot_fn: Callable\n",
    "    ):\n",
    "    plot_fn(*plot_args, **plot_kwargs)\n",
    "    if plot_config.grid_on:\n",
    "        plt.grid(**plot_config.grid_kwargs)\n",
    "    ax = plt.gca()\n",
    "    ax.set_xlabel(plot_config.xlabel, **plot_config.xlabel_kwargs)\n",
    "    ax.set_ylabel(plot_config.ylabel, **plot_config.ylabel_kwargs)\n",
    "#     ax.set_xticks(plot_config.xticks_position)\n",
    "#     ax.set_xticklabels(plot_config.xticks_label)\n",
    "    ax.set_title(plot_config.title, **plot_config.title_kwargs)\n",
    "\n",
    "\n",
    "plot_timeseries = partial(plot_wrapper, plot_fn=plot)\n"
   ]
  },
  {
   "cell_type": "code",
   "execution_count": 9,
   "id": "12233000",
   "metadata": {},
   "outputs": [],
   "source": [
    "ls = 3.0\n",
    "amp = 1.5\n",
    "obs_var = 0.2**2\n",
    "\n",
    "\n",
    "# Set timestep to be mean of consecutive timesteps between data \n",
    "dts = X_train[1:] - X_train[:-1]\n",
    "\n",
    "# Really, one should use the individual dts and discretise the SDE with variable timesteps but for demonstration purpose, we use a uniform timestep given by its mean.\n",
    "dt = dts.mean()\n",
    "\n",
    "\n",
    "#dx/dt = Ax + noise\n",
    "\n",
    "#substitute dx/dt by \n",
    "\n",
    "# Set up state space model\n",
    "lambda_ = np.sqrt(3) / ls\n",
    "A = np.array([[0., 1.], [-lambda_**2, -2*lambda_]])\n",
    "L = np.array([[0.], [1.]])\n",
    "F = np.eye(2) + A*dt\n",
    "q = 4*amp**2*lambda_**3 #this is the spectral density -> 'strength of the noise' \n",
    "Q = np.array([[0., 0.], [0., q*dt]]) #this is the transition prob matrix\n",
    "H = np.array([[1., 0.]]) #observation operator\n",
    "R = np.array([[obs_var]]) #transition prob for observation operator\n",
    "\n",
    "# Initialize\n",
    "x = np.array([0., 0.])\n",
    "P = np.array([[amp**2, 0.], [0., amp**2*lambda_**2]])\n",
    "\n"
   ]
  },
  {
   "cell_type": "code",
   "execution_count": 10,
   "id": "0519dce7",
   "metadata": {},
   "outputs": [],
   "source": [
    "# Set up observations to feed into the Kalman filter. We set y = np.nan where there are no observations (i.e. test points)\n",
    "Y = np.empty(X_train.shape)\n",
    "Y[:] = np.nan\n",
    "training_size = Y_train.shape[0]\n",
    "Y[:training_size] = Y_train"
   ]
  },
  {
   "cell_type": "code",
   "execution_count": 11,
   "id": "7a1a39ed",
   "metadata": {
    "scrolled": true
   },
   "outputs": [
    {
     "name": "stdout",
     "output_type": "stream",
     "text": [
      "Metal device set to: Apple M1\n",
      "time elapsed: 470.08s\n"
     ]
    }
   ],
   "source": [
    "# Apply Kalman filter\n",
    "f = KalmanFilterSmoother(F, Q, H, R)\n",
    "start = time.time()\n",
    "x_list, P_list = f.forward_pass(x, P, Y)\n",
    "stop = time.time()\n",
    "elapsed = stop-start\n",
    "print(f\"time elapsed: {elapsed:.2f}s\")"
   ]
  },
  {
   "cell_type": "code",
   "execution_count": 12,
   "id": "25f7c2e7",
   "metadata": {},
   "outputs": [
    {
     "data": {
      "image/png": "[encoded data removed]",
      "text/plain": [
       "<Figure size 720x576 with 1 Axes>"
      ]
     },
     "metadata": {
      "needs_background": "light"
     },
     "output_type": "display_data"
    }
   ],
   "source": [
    "var_list = P_list[:, 0, 0]\n",
    "f_list = x_list[:,0]\n",
    "config = PlotConfig(title=\"Gaussian Process Regression\")\n",
    "\n",
    "plot_timeseries(config,\n",
    "                plot_args=(x_list, f_list[:, None], var_list[:, None]),\n",
    "                plot_kwargs={\"data\": (X_train, Y_train), \"figsize\": (10, 8)})"
   ]
  },
  {
   "cell_type": "code",
   "execution_count": 13,
   "id": "0b41525d",
   "metadata": {
    "scrolled": true
   },
   "outputs": [
    {
     "data": {
      "text/plain": [
       "TensorShape([70571, 2, 2])"
      ]
     },
     "execution_count": 13,
     "metadata": {},
     "output_type": "execute_result"
    }
   ],
   "source": [
    "P_list.shape"
   ]
  },
  {
   "cell_type": "code",
   "execution_count": 14,
   "id": "9cf48c68",
   "metadata": {},
   "outputs": [
    {
     "data": {
      "text/plain": [
       "TensorShape([70571])"
      ]
     },
     "execution_count": 14,
     "metadata": {},
     "output_type": "execute_result"
    }
   ],
   "source": [
    "f_list.shape"
   ]
  },
  {
   "cell_type": "code",
   "execution_count": null,
   "id": "3a2b78c3",
   "metadata": {},
   "outputs": [],
   "source": [
    "var_list = P_list[:, 0, 0]\n",
    "f_list = x_list[:,0]\n",
    "config = PlotConfig(title=\"Gaussian Process Regression\")\n",
    "\n",
    "plot_timeseries(config,\n",
    "                plot_args=(x_list, f_list[:, None], var_list[:, None]),\n",
    "                plot_kwargs={\"data\": (X_train, Y_train), \"figsize\": (10, 8)})\n",
    "plt.xlim(100,1000)"
   ]
  },
  {
   "cell_type": "code",
   "execution_count": null,
   "id": "4bb0ab49",
   "metadata": {},
   "outputs": [],
   "source": [
    "# Apply Kalman smoother\n",
    "x_list, P_list = f.backward_pass(x_list, P_list)\n",
    "var_list = P_list[:, 0, 0]\n",
    "f_list = x_list[:,0]"
   ]
  },
  {
   "cell_type": "code",
   "execution_count": null,
   "id": "7e8db177",
   "metadata": {},
   "outputs": [],
   "source": [
    "# Plot\n",
    "config.title = \"Kalman Smoother\"\n",
    "plot_timeseries(config,\n",
    "                plot_args=(X_train, f_list[:, None], var_list[:, None]),\n",
    "                plot_kwargs={\"data\": (X_train, Y_train), \"figsize\": (10, 8)})\n",
    "plt.xlim(0,100)"
   ]
  }
 ],
 "metadata": {
  "colab": {
   "collapsed_sections": [],
   "name": "getting_started.ipynb",
   "provenance": []
  },
  "kernelspec": {
   "display_name": "VPython",
   "language": "python",
   "name": "vpython"
  },
  "language_info": {
   "codemirror_mode": {
    "name": "ipython",
    "version": 3
   },
   "file_extension": ".py",
   "mimetype": "text/x-python",
   "name": "python",
   "nbconvert_exporter": "python",
   "pygments_lexer": "ipython3",
   "version": "3.8.12"
  }
 },
 "nbformat": 4,
 "nbformat_minor": 5
}
