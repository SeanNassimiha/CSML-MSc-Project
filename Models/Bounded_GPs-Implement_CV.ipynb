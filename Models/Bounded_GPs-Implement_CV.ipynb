{
 "cells": [
  {
   "cell_type": "code",
   "execution_count": null,
   "id": "c9408a59",
   "metadata": {
    "pycharm": {
     "is_executing": true,
     "name": "#%%\n"
    }
   },
   "outputs": [],
   "source": [
    "import bayesnewton\n",
    "import jax\n",
    "import objax\n",
    "import numpy as np\n",
    "import matplotlib.pyplot as plt\n",
    "import matplotlib.cm as cm\n",
    "import pandas as pd\n",
    "from sklearn.preprocessing import StandardScaler\n",
    "from convertbng.util import convert_bng, convert_lonlat\n",
    "import time\n",
    "from sklearn.model_selection import train_test_split\n",
    "import datetime\n",
    "import math   \n",
    "from jax import vmap\n",
    "from scipy.stats import beta\n",
    "\n",
    "\n",
    "import cv2\n",
    "import sys, os\n",
    "sys.path.append('../Utils')\n",
    "import model_utils as mutils\n",
    "import kernels_definitions as kerns\n",
    "%load_ext autoreload\n",
    "%autoreload 2"
   ]
  },
  {
   "cell_type": "code",
   "execution_count": null,
   "id": "437e0fc1",
   "metadata": {
    "pycharm": {
     "name": "#%%\n"
    }
   },
   "outputs": [],
   "source": [
    "#DATA VARIABLES\n",
    "SYSTEMS_NUM = 100\n",
    "TIMESTEPS_NUM = 50000\n",
    "TRAIN_FRAC = 200  #IF TRAIN_FRAC > 1 THEN IT BECOMES THE LENGTH OF THE TEST SET\n",
    "GRID_PIXELS = 10\n",
    "\n",
    "#OPTIMISATION VARIABLES\n",
    "LR_ADAM = 0.01\n",
    "LR_NEWTON = 0.5\n",
    "ITERS = 3\n",
    "\n",
    "#GP Variables\n",
    "VAR_Y = 1\n",
    "VAR_F = 1\n",
    "LEN_TIME = 12  # step size = 1 (hour)\n",
    "LEN_SPACE = 0.5\n",
    "LEN_ALTITUDE = 0.3\n",
    "\n",
    "#Want to use a sparse approximation\n",
    "SPARSE = True\n",
    "#Should we optimise the inducing points\n",
    "OPT_Z = False  # will be set to False if SPARSE=SPARSE\n",
    "\n",
    "#use a mean field approximation?\n",
    "MEAN_FIELD = True\n",
    "MINI_BATCH_SIZE = None #none if you don't want them\n",
    "TEST_STATIONS = 10"
   ]
  },
  {
   "cell_type": "code",
   "execution_count": null,
   "id": "874b4621",
   "metadata": {},
   "outputs": [],
   "source": [
    "data =  pd.read_csv('../../Data/pv_power_df_5day_capacity_scaled.csv', index_col='datetime')\n",
    "uk_pv = pd.read_csv('../../Data/system_metadata_location_rounded.csv')\n",
    "uk_pv['ss_id_string'] = uk_pv['ss_id'].astype('str')\n",
    "#data_multiple.plot(legend=False)\n",
    "lats = dict(uk_pv.set_index('ss_id')['latitude_noisy'])\n",
    "longs = dict(uk_pv.set_index('ss_id')['longitude_noisy'])\n",
    "data_multiple = data.iloc[:, :SYSTEMS_NUM][:TIMESTEPS_NUM].reset_index()\n",
    "stacked = mutils.stack_dataframe(data_multiple, lats, longs)\n",
    "capacities = uk_pv[uk_pv.ss_id_string.isin(data_multiple.columns)].set_index('ss_id_string')['kwp'].values * 1000\n",
    "\n"
   ]
  },
  {
   "cell_type": "code",
   "execution_count": null,
   "id": "dc04a594",
   "metadata": {},
   "outputs": [],
   "source": [
    "X = np.array(stacked[['epoch', 'longitude', 'latitude']])\n",
    "Y = np.array(stacked[['PV']])\n",
    "\n",
    "from suncalc import get_position, get_times\n",
    "date_solar = stacked.datetime.values\n",
    "lon_solar = stacked.longitude.values\n",
    "lat_solar = stacked.latitude.values\n",
    "\n",
    "solar_positions = get_position(date_solar, lon_solar, lat_solar)\n",
    "solar_altitude = solar_positions['altitude']\n",
    "\n",
    "# convert to easting and northings\n",
    "british_national_grid_coords = convert_bng(X[:, 1], X[:, 2])\n",
    "X = np.vstack([X[:, 0],\n",
    "              np.array(british_national_grid_coords[0]),\n",
    "              np.array(british_national_grid_coords[1])]).T\n",
    "\n",
    "#Create a space-time grid from X and Y\n",
    "t, R, Y = bayesnewton.utils.create_spatiotemporal_grid(X, Y)\n",
    "\n",
    "# solar_altitudes = solar_altitude.reshape(R.shape[1], R.shape[0], 1).swapaxes(0,1)\n",
    "\n",
    "# R = np.append(R, solar_altitudes, axis=2)"
   ]
  },
  {
   "cell_type": "code",
   "execution_count": null,
   "id": "457fd888",
   "metadata": {
    "scrolled": true
   },
   "outputs": [],
   "source": [
    "#train test split for 3 dimensional data\n",
    "t_train, t_test, R_train, R_test, Y_train, Y_test = mutils.train_split_3d(t, R, Y, train_frac = TRAIN_FRAC, split_type = 'Cutoff')\n",
    "Y = Y[:,:,0]\n",
    "\n",
    "#get the mask of the test points\n",
    "test_mask = np.in1d(t.squeeze(), t_test.squeeze())\n",
    "\n",
    "#Scale the data\n",
    "scaled_values = mutils.scale_2d_train_test_data(R, Y, R_train, R_test, Y_train, Y_test )\n",
    "R_scaler, R_scaled, R_train_scaled, R_test_scaled, _, _, _, _ = scaled_values\n",
    "\n",
    "#here get a list of scaled coordinates (frozen because at some point in time)\n",
    "R_scaled_frozen = R_scaled[0]\n",
    "\n",
    "# #Create a grid to perform prediction/interpolation on\n",
    "r1, r2, Rplot = mutils.create_grid_from_coords(R = R_scaled_frozen, t = t, R_scaler = R_scaler, N_pixels = GRID_PIXELS, date_solar = date_solar)\n",
    "\n",
    "z = R_scaled[2, ...]\n",
    "\n",
    "# #CHANGE THE INDUCING POINTS FOR THE SOLAR ALTITUDE TO BE EQUALLY SPACED ALONG THE TOTAL INTERVAL\n",
    "# z[:,2] = np.linspace(solar_altitude.min(),solar_altitude.max(),  len(z))\n",
    "    \n",
    "plt.scatter(*zip(*z[:, :2]), marker='o', s=30, color='red')\n",
    "plt.title('Grid of initial inducing points')\n",
    "\n"
   ]
  },
  {
   "cell_type": "code",
   "execution_count": null,
   "id": "4d2ad582",
   "metadata": {},
   "outputs": [],
   "source": [
    "#FIXED WINDOW OF 5000 train and 24 test, the 5000 train slide forward\n",
    "length_window = 97 * 10\n",
    "max_t = 14000 #len(data_multiple) - length_window - 24\n",
    "iter_step = 50\n",
    "#HERE BUILDING ARRAY OF STARTING ts\n",
    "data_multiple = data_multiple.set_index('datetime')\n",
    "data_multiple.index = pd.to_datetime(data_multiple.index)\n",
    "array_of_indices = data_multiple.reset_index()[(data_multiple.reset_index().datetime.dt.hour > 9) & (data_multiple.reset_index().datetime.dt.hour < 14)].index.values\n",
    "data_multiple = data_multiple.reset_index()\n",
    "range_idx = array_of_indices[10000:max_t:iter_step]"
   ]
  },
  {
   "cell_type": "code",
   "execution_count": null,
   "id": "f7b8853e",
   "metadata": {
    "scrolled": true
   },
   "outputs": [],
   "source": [
    "t1 = time.time()\n",
    "print(f'Getting results for Gaussian Process')\n",
    "\n",
    "errors = np.zeros((24, 1))\n",
    "NNLs = np.zeros((24, 1))\n",
    "\n",
    "forecast_size = 24\n",
    "for t_idx in range_idx[:3]: \n",
    "    print('NEW ITERATION WITH t:',t_idx)\n",
    "        \n",
    "    t_iter, R_iter, Y_iter = t[t_idx:t_idx+length_window + 24], R_scaled[t_idx:t_idx+length_window + 24], Y[t_idx:t_idx+length_window + 24]    \n",
    "    t_train_CV, R_train_scaled_CV, Y_train_CV = t_iter[:length_window] , R_iter[:length_window] , Y_iter[:length_window]  \n",
    "    t_test_CV, R_test_scaled_CV, Y_test_CV = t_iter[length_window:] , R_iter[length_window:] , Y_iter[length_window:]  \n",
    "    print(f'TRAIN SIZE IS: t_train_CV: {t_train_CV.shape}, R_train_scaled_CV: {R_train_scaled_CV.shape}, Y_train_CV :{Y_train_CV.shape}')\n",
    "    print(f'TEST SIZE IS: t_test_CV: {t_test_CV.shape}, R_test_scaled_CV: {R_test_scaled_CV.shape}, Y_test_CV :{Y_test_CV.shape}')\n",
    "\n",
    "    #IF WE ARE IN THE FIRST ITERATION\n",
    "    if t_idx == range_idx[0]:\n",
    "        \n",
    "        kern = kerns.get_periodic_kernel(variance=VAR_F,\n",
    "                                               lengthscale_time=LEN_TIME,\n",
    "                                               lengthscale_space=[LEN_SPACE, LEN_SPACE], #[LEN_SPACE, LEN_SPACE, LEN_ALTITUDE]\n",
    "                                               z=z,\n",
    "                                               sparse=SPARSE,\n",
    "                                               opt_z=OPT_Z,\n",
    "                                               conditional='FIC',\n",
    "                                               matern_order='32',\n",
    "                                               order= 2)\n",
    "\n",
    "        lik = bayesnewton.likelihoods.Beta(scale = 30, fix_scale=False, link='probit')\n",
    "    \n",
    "    model = bayesnewton.models.MarkovVariationalMeanFieldGP(kernel = kern, likelihood = lik, X=t_train_CV, Y=Y_train_CV, R=R_train_scaled_CV)\n",
    "    \n",
    "    #IF WE ARE NOT IN THE FIRST ITERATION, WARM-START THE TRAINING\n",
    "    if t_idx != range_idx[0]:\n",
    "        print('Warm starting the training')\n",
    "        #HERE I AM SUBSTITUTING THE PREDICTIONS ETC FROM THE MODEL IN THE TRAINING LOCATIONS\n",
    "        for key in model.vars().keys():\n",
    "            if model.vars()[key].shape  == ():\n",
    "                continue\n",
    "            else:\n",
    "                if model.vars()[key].shape[0] == len(t_train_CV):\n",
    "                    shared_var = model.vars()[key] \n",
    "                    init_array = jax.numpy.pad(previous_model.vars()[key][iter_step:], ((0,iter_step), (0,0), (0,0)))\n",
    "                    shared_var.assign(init_array) \n",
    "\n",
    "    \n",
    "    opt_hypers = objax.optimizer.Adam(model.vars())\n",
    "    energy = objax.GradValues(model.energy, model.vars())\n",
    "    \n",
    "    @objax.Function.with_vars(model.vars())\n",
    "    def train_op(batch_ind = None):\n",
    "        model.inference(lr=LR_NEWTON, batch_ind = batch_ind)  #perform inference and update variational params\n",
    "        dE, E = energy()  # compute energy and its gradients w.r.t. hypers\n",
    "        opt_hypers(LR_ADAM, dE)\n",
    "    train_op = objax.Jit(train_op)\n",
    "\n",
    "    @objax.Function.with_vars(model.vars())\n",
    "    def reduced_train_op(batch_ind = None):\n",
    "        model.inference(lr=LR_NEWTON, batch_ind = batch_ind)  #perform inference and update variational params\n",
    "    reduced_train_op = objax.Jit(reduced_train_op)\n",
    "\n",
    "    print('BEGIN TRAINING')\n",
    "    t0 = time.time()\n",
    "    loss = []\n",
    "    #DOING HALF THE ITERATIONS WHEN UPDATING THE MODEL\n",
    "    iterations_n = ITERS if t_idx == range_idx[0] else int(ITERS/2) \n",
    "    for i in range(1, iterations_n + 1):\n",
    "        if t_idx == range_idx[0]:\n",
    "            train_op(None)\n",
    "        else:\n",
    "            reduced_train_op(None)\n",
    "        loss.append(model.compute_kl().item())\n",
    "        print('iter %2d, energy: %1.4f' % (i, loss[i-1]))\n",
    "    t1 = time.time()\n",
    "    print('optimisation time: %2.2f secs' % (t1-t0))\n",
    "    \n",
    "    print('Performing the predictions')\n",
    "    #GET THE SYSTEM SPECIFIC PREDICTIONS (NOT THE TOTAL INTERPOLATION)\n",
    "\n",
    "    f_mean, f_var = model.predict(X=t_test_CV, R=R_test_scaled_CV)\n",
    "\n",
    "    #################GET THE Y PREDICTIONS FROM THE F VALUES\n",
    "    f_mean = f_mean.reshape(f_mean.shape[0], -1, 1)\n",
    "    f_var = f_var.reshape(f_var.shape[0], -1, 1)\n",
    "\n",
    "    mean_y, var_y = vmap(model.likelihood.predict, (0, 0, None))(f_mean, f_var, None)\n",
    "    posterior_mean_ts, posterior_var_ts = np.squeeze(mean_y), np.squeeze(var_y)\n",
    "    \n",
    "    ##################GET THE ERRORS\n",
    "    error = np.nanmean(abs(np.squeeze(Y_test_CV) - np.squeeze(posterior_mean_ts)), axis=1)[:, np.newaxis]\n",
    "    print(f'mae is {error.mean()} \\n')\n",
    "    \n",
    "    errors = np.concatenate((errors, error), axis=1)  \n",
    "    \n",
    "    #################### GET THE NNL\n",
    "    \n",
    "    #SAMPLE THE LATENT VARIABLE AND GET THE SAMPLED DISTRIBUTIONS\n",
    "    N_samples = 1000\n",
    "    #Sample values of f at each point\n",
    "    sampled_f = np.random.normal(f_mean[:,:,0], f_var[:,:,0], size=(N_samples, f_var.shape[0], f_var.shape[1]))\n",
    "\n",
    "    alpha_sampled = model.likelihood.link_fn(sampled_f) * model.likelihood.scale\n",
    "    beta_sampled = model.likelihood.scale - alpha_sampled\n",
    "\n",
    "    #GET THE NEGATIVE LOG LIKELIHOOD GIVEN THE SAMPLED DISTRIBUTION AND THE OBSERVED Y VALUES\n",
    "    observed_repeated = np.repeat(Y_test_CV[np.newaxis, :, :], N_samples, axis=0)\n",
    "    observed_repeated = observed_repeated.at[observed_repeated==0].set(10e-6)\n",
    "    likelihoods = beta.pdf(observed_repeated,  alpha_sampled, beta_sampled)\n",
    "    NNL_hsteps = -np.sum(np.log(likelihoods.mean(axis=0)), axis=1)[:, np.newaxis]\n",
    "    \n",
    "    NNLs = np.concatenate((NNLs, NNL_hsteps), axis=1)  \n",
    "\n",
    "    #####################\n",
    "    \n",
    "    previous_model = model\n",
    "    \n",
    "    del t_iter, R_iter, Y_iter, t_train_CV, R_train_scaled_CV, Y_train_CV, t_test_CV, R_test_scaled_CV, Y_test_CV\n",
    "    del NNL_hsteps, observed_repeated, beta_sampled, alpha_sampled, sampled_f, error, posterior_mean_ts, posterior_var_ts\n",
    "    del mean_y, var_y, f_mean, f_var, model\n",
    "    \n",
    "error_evolution = errors[:, 1:].mean(axis=0)\n",
    "MAE_hsteps = errors[:, 1:].mean(axis=1)\n",
    "NNLs_hsteps = NNLs[:, 1:].mean(axis=1)\n",
    "\n"
   ]
  },
  {
   "cell_type": "code",
   "execution_count": null,
   "id": "bec2407a",
   "metadata": {},
   "outputs": [],
   "source": [
    "# ##################GET THE ERRORS\n",
    "# error = np.nanmean(abs(np.squeeze(Y_test_CV) - np.squeeze(posterior_mean_ts)), axis=1)[:, np.newaxis]\n",
    "# print(f'mae is {error.mean()} \\n')\n",
    "\n",
    "# errors = np.concatenate((errors, error), axis=1)  \n",
    "\n",
    "# #################### GET THE NNL\n",
    "\n",
    "# #SAMPLE THE LATENT VARIABLE AND GET THE SAMPLED DISTRIBUTIONS\n",
    "# N_samples = 1000\n",
    "# #Sample values of f at each point\n",
    "# sampled_f = np.random.normal(f_mean[:,:,0], f_var[:,:,0], size=(N_samples, f_var.shape[0], f_var.shape[1]))\n",
    "\n",
    "# alpha_sampled = model.likelihood.link_fn(sampled_f) * model.likelihood.scale\n",
    "# beta_sampled = model.likelihood.scale - alpha_sampled\n",
    "\n",
    "# #GET THE NEGATIVE LOG LIKELIHOOD GIVEN THE SAMPLED DISTRIBUTION AND THE OBSERVED Y VALUES\n",
    "# observed_repeated = np.repeat(Y_test_CV[np.newaxis, :, :], N_samples, axis=0)\n",
    "# observed_repeated = observed_repeated.at[observed_repeated==0].set(10e-6)\n",
    "# likelihoods = beta.pdf(observed_repeated,  alpha_sampled, beta_sampled)\n",
    "# NNL_hsteps = -np.sum(np.log(likelihoods.mean(axis=0)), axis=1)[:, np.newaxis]\n",
    "\n",
    "# NNLs = np.concatenate((NNLs, NNL_hsteps), axis=1)  \n",
    "\n",
    "# #####################\n",
    "\n",
    "# previous_model = model"
   ]
  },
  {
   "cell_type": "code",
   "execution_count": null,
   "id": "f3459baa",
   "metadata": {},
   "outputs": [],
   "source": [
    "plt.plot(NNLs_hsteps)"
   ]
  },
  {
   "cell_type": "code",
   "execution_count": null,
   "id": "b13db7fb",
   "metadata": {},
   "outputs": [],
   "source": [
    "plt.plot(error_evolution)"
   ]
  },
  {
   "cell_type": "code",
   "execution_count": null,
   "id": "f20384f3",
   "metadata": {},
   "outputs": [],
   "source": [
    "plt.plot(MAE_hsteps)"
   ]
  },
  {
   "cell_type": "code",
   "execution_count": null,
   "id": "8777a528",
   "metadata": {},
   "outputs": [],
   "source": [
    "NNLs_hsteps.to_csv('NNLs_hsteps')\n",
    "error_evolution.to_csv('error_evolution')\n",
    "MAE_hsteps.to_csv('MAE_hsteps')"
   ]
  },
  {
   "cell_type": "code",
   "execution_count": null,
   "id": "bc7d4e2a",
   "metadata": {},
   "outputs": [],
   "source": [
    "t_iter, R_iter, Y_iter = t[t_idx:t_idx+length_window + 24], R_scaled[t_idx:t_idx+length_window + 24], Y[t_idx:t_idx+length_window + 24]    \n",
    "t_train_CV, R_train_scaled_CV, Y_train_CV = t_iter[:length_window] , R_iter[:length_window] , Y_iter[:length_window]  \n",
    "t_test_CV, R_test_scaled_CV, Y_test_CV = t_iter[length_window:] , R_iter[length_window:] , Y_iter[length_window:]  "
   ]
  },
  {
   "cell_type": "code",
   "execution_count": null,
   "id": "39978f7c",
   "metadata": {},
   "outputs": [],
   "source": [
    "#GET THE SYSTEM SPECIFIC PREDICTIONS (NOT THE TOTAL INTERPOLATION)\n",
    "len_samples = len(t_test_CV) + 50\n",
    "test_mask_shortened = test_mask[-len_samples:]\n",
    "\n",
    "f_mean, f_var = model.predict(X=t[-len_samples:], R=R_scaled[-len_samples:])\n",
    "\n",
    "#GET THE Y PREDICTIONS FROM THE F VALUES\n",
    "f_mean = f_mean.reshape(f_mean.shape[0], -1, 1)\n",
    "f_var = f_var.reshape(f_var.shape[0], -1, 1)\n",
    "\n",
    "mean_y, var_y = vmap(model.likelihood.predict, (0, 0, None))(f_mean, f_var, None)\n",
    "posterior_mean_ts, posterior_var_ts = np.squeeze(mean_y), np.squeeze(var_y)\n",
    "\n",
    "#GET THE ERRORS\n",
    "print(f'testing using the next {len(Y[-len_samples:][test_mask_shortened])} datapoints')\n",
    "error = np.nanmean(abs(np.squeeze(Y[-len_samples:][test_mask_shortened]) - np.squeeze(posterior_mean_ts[test_mask_shortened])), axis=1)\n",
    "print(f'mae is {error}')\n",
    "\n",
    "# errors = np.concatenate((errors, error))\n"
   ]
  },
  {
   "cell_type": "code",
   "execution_count": null,
   "id": "43a2e555",
   "metadata": {
    "pycharm": {
     "name": "#%%\n"
    }
   },
   "outputs": [],
   "source": [
    "t0 = time.time()\n",
    "\n",
    "#GET THE SYSTEM SPECIFIC PREDICTIONS (NOT THE TOTAL INTERPOLATION)\n",
    "len_samples = len(t_test) + 500\n",
    "test_mask_shortened = test_mask[-len_samples:]\n",
    "\n",
    "f_mean, f_var = model.predict(X=t[-len_samples:], R=R_scaled[-len_samples:])\n",
    "\n",
    "#GET THE Y PREDICTIONS FROM THE F VALUES\n",
    "f_mean = f_mean.reshape(f_mean.shape[0], -1, 1)\n",
    "f_var = f_var.reshape(f_var.shape[0], -1, 1)\n",
    "\n",
    "mean_y, var_y = vmap(model.likelihood.predict, (0, 0, None))(f_mean, f_var, None)\n",
    "posterior_mean_ts, posterior_var_ts = np.squeeze(mean_y), np.squeeze(var_y)\n",
    "\n",
    "t1 = time.time()\n",
    "print('prediction time: %2.2f secs' % (t1-t0))"
   ]
  },
  {
   "cell_type": "code",
   "execution_count": null,
   "id": "b16de01e",
   "metadata": {
    "scrolled": false
   },
   "outputs": [],
   "source": [
    "#GET THE PREDICTION INTERVALS AND CALCULATE ERRORS\n",
    "\n",
    "posterior_pos_twostd_rescaled = posterior_mean_ts + 1.96 * np.sqrt(posterior_var_ts)\n",
    "posterior_neg_twostd_rescaled = posterior_mean_ts - 1.96 * np.sqrt(posterior_var_ts)\n",
    "\n",
    "rescaled_Y = (Y ) #* capacities)\n",
    "rescaled_posterior = posterior_mean_ts#) #* capacities\n",
    "\n",
    "#adjust this for the correct quantities\n",
    "mae = np.nanmean(abs(np.squeeze(rescaled_Y[-len_samples:]) - np.squeeze(rescaled_posterior)))\n",
    "print(f'The MAE is {mae.round(3)}')\n",
    "\n",
    "mae_train = np.nanmean(abs(np.squeeze(rescaled_Y[-len_samples:][~test_mask_shortened]) - np.squeeze(rescaled_posterior[~test_mask_shortened])))\n",
    "print(f'The train MAE is {mae_train.round(3)}')\n",
    "\n",
    "mae_test = np.nanmean(abs(np.squeeze(rescaled_Y[-len_samples:][test_mask_shortened]) - np.squeeze(rescaled_posterior[test_mask_shortened])), axis=1)\n",
    "plt.figure(figsize=(10,5))\n",
    "plt.plot(mae_test)\n",
    "plt.title('Error as function of forecast distance for Gaussian Process on validation test')\n",
    "plt.xlabel('Number of steps ahead (5min ticks)')\n",
    "plt.ylabel('Average MW error')\n",
    "\n",
    "print(f'The average 2 hours test MAE is {mae_test[:24].mean()}')\n"
   ]
  },
  {
   "cell_type": "code",
   "execution_count": null,
   "id": "9c8f601d",
   "metadata": {},
   "outputs": [],
   "source": [
    "#SAMPLE THE UNCERTAINTY BOUNDS\n",
    "\n",
    "#Sample values of f at each point\n",
    "sampled_f = np.random.normal(f_mean[:,:,0], f_var[:,:,0], size=(10, f_var.shape[0], f_var.shape[1]))\n",
    "\n",
    "alpha_sampled = model.likelihood.link_fn(sampled_f) * model.likelihood.scale\n",
    "beta_sampled = model.likelihood.scale - alpha_sampled\n",
    "\n",
    "beta_samples = np.random.beta(alpha_sampled, beta_sampled, size=(alpha_sampled.shape[0], alpha_sampled.shape[1], alpha_sampled.shape[2]))\n",
    "lower_bounds_beta_MC = np.quantile(beta_samples, 0.025, axis=0)\n",
    "upper_bounds_beta_MC = np.quantile(beta_samples, 0.975, axis=0)\n"
   ]
  },
  {
   "cell_type": "code",
   "execution_count": null,
   "id": "27642700",
   "metadata": {
    "scrolled": true
   },
   "outputs": [],
   "source": [
    "days_index = max(97, int(((len_samples / 3) // 97) * 97)) #number of time intervals to match 5 beginnings of days\n",
    "\n",
    "for i in range(SYSTEMS_NUM):\n",
    "    plt.figure(figsize=(10,7))\n",
    "    plt.title(f'Prediction for system {i}')\n",
    "    plt.plot(np.arange(len(Y))[-len_samples:], Y_iter[:,i][-len_samples:], \"xk\")\n",
    "    plt.plot(np.arange(len(Y))[-len_samples:], posterior_mean_ts[:,i][-len_samples:], c=\"C0\", lw=2, zorder=2)\n",
    "#     plt.plot(np.arange(len(Y))[-len_samples:], R[-len_samples:, i, 2], 'green', alpha = 0.1)\n",
    "    plt.vlines(t_train[-1], 0, 1, colors='k')\n",
    "\n",
    "#     plt.fill_between(\n",
    "#         np.arange(len(Y))[-len_samples:],\n",
    "#         lower_bounds_beta_MC[:,i],\n",
    "#         upper_bounds_beta_MC[:,i],\n",
    "#         color=\"C1\",\n",
    "#         alpha=0.2)\n",
    "    \n",
    "    plt.xticks(ticks = np.arange(len(Y_iter))[-len_samples:-1:days_index], labels = data_multiple.datetime[-len_samples:-1:days_index].values, size=8)\n",
    "    "
   ]
  },
  {
   "cell_type": "markdown",
   "id": "3d0617cf",
   "metadata": {},
   "source": [
    "# WARM START FOR TRAINING"
   ]
  },
  {
   "cell_type": "code",
   "execution_count": null,
   "id": "025dbfd3",
   "metadata": {},
   "outputs": [],
   "source": [
    "#FIRST INITIALISE A SECOND MODEL\n",
    "#THIS INITIALISATION USES THE SAME KERNEL AND LIKELIHOOD!\n",
    "model2 = bayesnewton.models.MarkovVariationalGP(kernel = kern, likelihood = lik, X=t, Y=Y, R=R_scaled)"
   ]
  },
  {
   "cell_type": "code",
   "execution_count": null,
   "id": "5454e689",
   "metadata": {},
   "outputs": [],
   "source": [
    "#HERE I AM SUBSTITUTING THE PREDICTIONS ETC FROM THE MODEL IN THE TRAINING LOCATIONS\n",
    "for key in model2.vars().keys():\n",
    "    if model2.vars()[key].shape  == ():\n",
    "        continue\n",
    "    else:\n",
    "        if model2.vars()[key].shape[0] == len(t):\n",
    "            shared_var = model2.vars()[key] \n",
    "            init_array = jax.numpy.pad(model.vars()[key], ((0,len(t) - len(t_train)), (0,0), (0,0)))\n",
    "            shared_var.assign(init_array) \n",
    "    \n"
   ]
  },
  {
   "cell_type": "code",
   "execution_count": null,
   "id": "f02201d0",
   "metadata": {},
   "outputs": [],
   "source": [
    "#THIS IS WHAT IT LOOKS LIKE IN THE MODEL POSTERIOR\n",
    "plt.plot(model2.vars()['(MarkovVariationalGP).posterior_mean'][:,0])"
   ]
  },
  {
   "cell_type": "code",
   "execution_count": null,
   "id": "c9b0c046",
   "metadata": {},
   "outputs": [],
   "source": [
    "@objax.Function.with_vars(model2.vars())\n",
    "def reduced_train_op(batch_ind = None):\n",
    "    model2.inference(lr=LR_NEWTON, batch_ind = batch_ind)  #perform inference and update variational params\n",
    "reduced_train_op = objax.Jit(reduced_train_op)"
   ]
  },
  {
   "cell_type": "code",
   "execution_count": null,
   "id": "fadb783e",
   "metadata": {},
   "outputs": [],
   "source": [
    "t0 = time.time()\n",
    "loss = []\n",
    "for i in range(1, 1 + 1):\n",
    "    for mini_batch in range(number_of_minibatches):\n",
    "        if number_of_minibatches > 1:\n",
    "            print(f'Doing minibatch {mini_batch}')\n",
    "        reduced_train_op(mini_batches_indices[mini_batch])\n",
    "        loss.append(model2.compute_kl().item())\n",
    "    print('iter %2d, energy: %1.4f' % (i, loss[i-1]))\n",
    "t1 = time.time()\n",
    "print('optimisation time: %2.2f secs' % (t1-t0))\n",
    "avg_time_taken = (t1-t0)/ITERS"
   ]
  },
  {
   "cell_type": "markdown",
   "id": "8b8eb0b0",
   "metadata": {},
   "source": [
    "# Compare it to the case without warm start"
   ]
  },
  {
   "cell_type": "code",
   "execution_count": null,
   "id": "33c4adbb",
   "metadata": {},
   "outputs": [],
   "source": [
    "#FIRST INITIALISE A SECOND MODEL\n",
    "#THIS INITIALISATION USES THE SAME KERNEL AND LIKELIHOOD!\n",
    "kern3 = kerns.get_periodic_kernel(variance=VAR_F,\n",
    "                                           lengthscale_time=LEN_TIME,\n",
    "                                           lengthscale_space=[LEN_SPACE, LEN_SPACE],\n",
    "                                           z=z,\n",
    "                                           sparse=SPARSE,\n",
    "                                           opt_z=OPT_Z,\n",
    "                                           conditional='FIC')\n",
    "\n",
    "lik3 = bayesnewton.likelihoods.Beta(scale = 30, fix_scale=False, link='probit')\n",
    "model3 = bayesnewton.models.MarkovVariationalGP(kernel = kern3, likelihood = lik3, X=t, Y=Y, R=R_scaled)"
   ]
  },
  {
   "cell_type": "code",
   "execution_count": null,
   "id": "e71ef4e5",
   "metadata": {},
   "outputs": [],
   "source": [
    "opt_hypers3 = objax.optimizer.Adam(model3.vars())\n",
    "energy3 = objax.GradValues(model3.energy, model3.vars())\n",
    "\n",
    "@objax.Function.with_vars(model3.vars())\n",
    "def train_op_model3(batch_ind = None):\n",
    "    model3.inference(lr=LR_NEWTON, batch_ind = batch_ind)  #perform inference and update variational params\n",
    "    dE, E = energy3()  # compute energy and its gradients w.r.t. hypers\n",
    "    opt_hypers3(LR_ADAM, dE)\n",
    "train_op_model3 = objax.Jit(train_op_model3)\n"
   ]
  },
  {
   "cell_type": "code",
   "execution_count": null,
   "id": "f46bad32",
   "metadata": {
    "scrolled": true
   },
   "outputs": [],
   "source": [
    "t0 = time.time()\n",
    "loss = []\n",
    "for i in range(1, ITERS + 1):\n",
    "    for mini_batch in range(number_of_minibatches):\n",
    "        if number_of_minibatches > 1:\n",
    "            print(f'Doing minibatch {mini_batch}')\n",
    "        train_op_model3(mini_batches_indices[mini_batch])\n",
    "        loss.append(model3.compute_kl().item())\n",
    "    print('iter %2d, energy: %1.4f' % (i, loss[i-1]))\n",
    "t1 = time.time()\n",
    "print('optimisation time: %2.2f secs' % (t1-t0))\n",
    "avg_time_taken = (t1-t0)/ITERS"
   ]
  },
  {
   "cell_type": "markdown",
   "id": "37e923dc",
   "metadata": {},
   "source": [
    "# IMPLEMENT THE CROSS VALIDATION"
   ]
  },
  {
   "cell_type": "code",
   "execution_count": null,
   "id": "68662cd8",
   "metadata": {},
   "outputs": [],
   "source": []
  },
  {
   "cell_type": "markdown",
   "id": "bb5b5238",
   "metadata": {},
   "source": [
    "# TESTING JIT AND MINIBATCHES"
   ]
  },
  {
   "cell_type": "code",
   "execution_count": null,
   "id": "912f9b50",
   "metadata": {},
   "outputs": [],
   "source": [
    "print(adfiheg)"
   ]
  },
  {
   "cell_type": "markdown",
   "id": "a3f12083",
   "metadata": {},
   "source": [
    "## JIT + no minibatches"
   ]
  },
  {
   "cell_type": "code",
   "execution_count": null,
   "id": "517f84ff",
   "metadata": {},
   "outputs": [],
   "source": [
    "MINI_BATCH_SIZE = None\n",
    "\n",
    "if MINI_BATCH_SIZE == None:\n",
    "    number_of_minibatches = 1\n",
    "    mini_batches_indices = [None] * number_of_minibatches\n",
    "else:\n",
    "    number_of_minibatches = int(len(t_train) / MINI_BATCH_SIZE)\n",
    "    idx_set = np.arange(len(t_train))\n",
    "    np.random.shuffle(idx_set)\n",
    "    mini_batches_indices = np.array_split(idx_set, number_of_minibatches)"
   ]
  },
  {
   "cell_type": "code",
   "execution_count": null,
   "id": "44bed763",
   "metadata": {},
   "outputs": [],
   "source": [
    "%%timeit\n",
    "\n",
    "t0 = time.time()\n",
    "loss = []\n",
    "for i in range(1, ITERS + 1):\n",
    "    for mini_batch in range(number_of_minibatches):\n",
    "#         model.inference(lr=LR_NEWTON, batch_ind = mini_batches_indices[mini_batch])  #perform inference and update variational params\n",
    "        reduced_train_op(mini_batches_indices[mini_batch])\n",
    "        loss.append(model.compute_kl().item())\n",
    "    print('iter %2d, energy: %1.4f' % (i, loss[i-1]))\n",
    "t1 = time.time()\n",
    "print('optimisation time: %2.2f secs' % (t1-t0))\n",
    "avg_time_taken = (t1-t0)/ITERS\n"
   ]
  },
  {
   "cell_type": "markdown",
   "id": "70c78324",
   "metadata": {},
   "source": [
    "## JIT + Time Minibatches"
   ]
  },
  {
   "cell_type": "code",
   "execution_count": null,
   "id": "d4749a5e",
   "metadata": {},
   "outputs": [],
   "source": [
    "MINI_BATCH_SIZE = 16\n",
    "\n",
    "if MINI_BATCH_SIZE == None:\n",
    "    number_of_minibatches = 1\n",
    "    mini_batches_indices = [None] * number_of_minibatches\n",
    "else:\n",
    "    number_of_minibatches = int(len(t_train) / MINI_BATCH_SIZE)\n",
    "    idx_set = np.arange(len(t_train))\n",
    "    np.random.shuffle(idx_set)\n",
    "    mini_batches_indices = np.array_split(idx_set, number_of_minibatches)\n",
    "    "
   ]
  },
  {
   "cell_type": "code",
   "execution_count": null,
   "id": "14e3b175",
   "metadata": {
    "scrolled": true
   },
   "outputs": [],
   "source": [
    "%%timeit\n",
    "\n",
    "t0 = time.time()\n",
    "loss = []\n",
    "for i in range(1, ITERS + 1):\n",
    "    for mini_batch in range(number_of_minibatches):\n",
    "#         model.inference(lr=LR_NEWTON, batch_ind = mini_batches_indices[mini_batch])  #perform inference and update variational params\n",
    "        reduced_train_op(mini_batches_indices[mini_batch])\n",
    "        loss.append(model.compute_kl().item())\n",
    "    print('iter %2d, energy: %1.4f' % (i, loss[i-1]))\n",
    "t1 = time.time()\n",
    "print('optimisation time: %2.2f secs' % (t1-t0))\n",
    "avg_time_taken = (t1-t0)/ITERS\n"
   ]
  },
  {
   "cell_type": "markdown",
   "id": "c74c2d5b",
   "metadata": {},
   "source": [
    "## no JIT + time minibatches"
   ]
  },
  {
   "cell_type": "code",
   "execution_count": null,
   "id": "ee7c2ff4",
   "metadata": {},
   "outputs": [],
   "source": [
    "MINI_BATCH_SIZE = 16\n",
    "\n",
    "if MINI_BATCH_SIZE == None:\n",
    "    number_of_minibatches = 1\n",
    "    mini_batches_indices = [None] * number_of_minibatches\n",
    "else:\n",
    "    number_of_minibatches = int(len(t_train) / MINI_BATCH_SIZE)\n",
    "    idx_set = np.arange(len(t_train))\n",
    "    np.random.shuffle(idx_set)\n",
    "    mini_batches_indices = np.array_split(idx_set, number_of_minibatches)\n",
    "    "
   ]
  },
  {
   "cell_type": "code",
   "execution_count": null,
   "id": "c00f1cea",
   "metadata": {},
   "outputs": [],
   "source": [
    "%%timeit\n",
    "\n",
    "t0 = time.time()\n",
    "loss = []\n",
    "for i in range(1, ITERS + 1):\n",
    "    for mini_batch in range(number_of_minibatches):\n",
    "        model.inference(lr=LR_NEWTON, batch_ind = mini_batches_indices[mini_batch])  #perform inference and update variational params\n",
    "#         reduced_train_op(mini_batches_indices[mini_batch])\n",
    "        loss.append(model.compute_kl().item())\n",
    "    print('iter %2d, energy: %1.4f' % (i, loss[i-1]))\n",
    "t1 = time.time()\n",
    "print('optimisation time: %2.2f secs' % (t1-t0))\n",
    "avg_time_taken = (t1-t0)/ITERS\n"
   ]
  },
  {
   "cell_type": "markdown",
   "id": "1aeca908",
   "metadata": {},
   "source": [
    "## no JIT + no minibatches"
   ]
  },
  {
   "cell_type": "code",
   "execution_count": null,
   "id": "ed5bcdca",
   "metadata": {},
   "outputs": [],
   "source": [
    "MINI_BATCH_SIZE = None\n",
    "\n",
    "if MINI_BATCH_SIZE == None:\n",
    "    number_of_minibatches = 1\n",
    "    mini_batches_indices = [None] * number_of_minibatches\n",
    "else:\n",
    "    number_of_minibatches = int(len(t_train) / MINI_BATCH_SIZE)\n",
    "    idx_set = np.arange(len(t_train))\n",
    "    np.random.shuffle(idx_set)\n",
    "    mini_batches_indices = np.array_split(idx_set, number_of_minibatches)\n",
    "    "
   ]
  },
  {
   "cell_type": "code",
   "execution_count": null,
   "id": "49110d5f",
   "metadata": {},
   "outputs": [],
   "source": [
    "%%timeit\n",
    "\n",
    "t0 = time.time()\n",
    "loss = []\n",
    "for i in range(1, ITERS + 1):\n",
    "    for mini_batch in range(number_of_minibatches):\n",
    "        model.inference(lr=LR_NEWTON, batch_ind = mini_batches_indices[mini_batch])  #perform inference and update variational params\n",
    "#         reduced_train_op(mini_batches_indices[mini_batch])\n",
    "        loss.append(model.compute_kl().item())\n",
    "    print('iter %2d, energy: %1.4f' % (i, loss[i-1]))\n",
    "t1 = time.time()\n",
    "print('optimisation time: %2.2f secs' % (t1-t0))\n",
    "avg_time_taken = (t1-t0)/ITERS\n"
   ]
  },
  {
   "cell_type": "markdown",
   "id": "a18f5033",
   "metadata": {},
   "source": [
    "## JIT + space minibatches"
   ]
  },
  {
   "cell_type": "code",
   "execution_count": null,
   "id": "9dc03b74",
   "metadata": {},
   "outputs": [],
   "source": []
  },
  {
   "cell_type": "code",
   "execution_count": null,
   "id": "203a6796",
   "metadata": {},
   "outputs": [],
   "source": []
  },
  {
   "cell_type": "markdown",
   "id": "79357a05",
   "metadata": {},
   "source": [
    "## no JIT + space minibatches"
   ]
  },
  {
   "cell_type": "code",
   "execution_count": null,
   "id": "3660a93a",
   "metadata": {},
   "outputs": [],
   "source": []
  },
  {
   "cell_type": "code",
   "execution_count": null,
   "id": "a1d9be80",
   "metadata": {},
   "outputs": [],
   "source": []
  },
  {
   "cell_type": "markdown",
   "id": "8f5cd90d",
   "metadata": {},
   "source": [
    "# INFINITE HORIZON: ONLINE LEARNING?"
   ]
  },
  {
   "cell_type": "code",
   "execution_count": null,
   "id": "5b3f0127",
   "metadata": {},
   "outputs": [],
   "source": [
    "model.update_posterior()"
   ]
  },
  {
   "cell_type": "markdown",
   "id": "b206bf0c",
   "metadata": {},
   "source": [
    "## Validation for the model\n",
    "\n",
    "the Kalman filter usually has the following loop:\n",
    "\n",
    "- For i in infinity:\n",
    "    - Get values of t, R (just add one to t and maintain the same R)\n",
    "    - model.predict(X = t, R = R)\n",
    "    - model.some_update_fn(Y = Y)"
   ]
  },
  {
   "cell_type": "code",
   "execution_count": null,
   "id": "20bc0dc7",
   "metadata": {
    "scrolled": true
   },
   "outputs": [],
   "source": [
    "mean_test, var_test = model.predict_y(X = t_test[0:2], R = R_test[0:2])\n",
    "for i in range(2, 50, 2):\n",
    "    mean_test_i, var_test_i = model.predict_y(X = t_test[i:i+5], R = R_test[i:i+5])\n",
    "    mean_test = np.concatenate([mean_test, mean_test_i])\n",
    "    var_test = np.concatenate([var_test, var_test_i])\n",
    "    model.update_posterior()\n",
    "    model.update_variational_params()"
   ]
  },
  {
   "cell_type": "code",
   "execution_count": null,
   "id": "5aeb3862",
   "metadata": {},
   "outputs": [],
   "source": [
    "model.inference()"
   ]
  },
  {
   "cell_type": "code",
   "execution_count": null,
   "id": "d1296b23",
   "metadata": {},
   "outputs": [],
   "source": [
    "mean_test[:,0]"
   ]
  },
  {
   "cell_type": "code",
   "execution_count": null,
   "id": "4c20453c",
   "metadata": {},
   "outputs": [],
   "source": [
    "model.vars()"
   ]
  },
  {
   "cell_type": "code",
   "execution_count": null,
   "id": "30d4e7f3",
   "metadata": {},
   "outputs": [],
   "source": [
    "\n",
    "posterior_mean_ts, posterior_var_ts = model.predict_y(X=t, R=R_scaled)\n"
   ]
  },
  {
   "cell_type": "code",
   "execution_count": null,
   "id": "49d6f995",
   "metadata": {
    "scrolled": true
   },
   "outputs": [],
   "source": [
    "a.shape"
   ]
  },
  {
   "cell_type": "code",
   "execution_count": null,
   "id": "82d190e3",
   "metadata": {},
   "outputs": [],
   "source": [
    "model.posterior_mean"
   ]
  },
  {
   "cell_type": "code",
   "execution_count": null,
   "id": "c693228f",
   "metadata": {
    "scrolled": true
   },
   "outputs": [],
   "source": [
    "a = model.posterior_mean\n",
    "model.X = np.append(t_train, t_test[0])\n",
    "model.Y = np.append(Y_train, Y_test[0])\n",
    "model.R = np.append(R_train_scaled, R_test_scaled[0])\n",
    "model.update_posterior()\n",
    "b = model.posterior_mean\n"
   ]
  },
  {
   "cell_type": "code",
   "execution_count": null,
   "id": "ae831113",
   "metadata": {},
   "outputs": [],
   "source": [
    "(a == b).sum()"
   ]
  },
  {
   "cell_type": "code",
   "execution_count": null,
   "id": "2c201e76",
   "metadata": {},
   "outputs": [],
   "source": [
    "a.shape"
   ]
  },
  {
   "cell_type": "code",
   "execution_count": null,
   "id": "7fafde10",
   "metadata": {},
   "outputs": [],
   "source": [
    "model.posterior_variance.shape"
   ]
  },
  {
   "cell_type": "code",
   "execution_count": null,
   "id": "ad1bc8be",
   "metadata": {},
   "outputs": [],
   "source": [
    "model.update_variational_params()"
   ]
  },
  {
   "cell_type": "code",
   "execution_count": null,
   "id": "63cb92ab",
   "metadata": {},
   "outputs": [],
   "source": [
    "model.update_posterior()"
   ]
  },
  {
   "cell_type": "code",
   "execution_count": null,
   "id": "bf5a0469",
   "metadata": {},
   "outputs": [],
   "source": [
    "# model.history"
   ]
  },
  {
   "cell_type": "code",
   "execution_count": null,
   "id": "045f595e",
   "metadata": {},
   "outputs": [],
   "source": [
    "model.filter(1, model.kernel, 0.5, model.)"
   ]
  },
  {
   "cell_type": "code",
   "execution_count": null,
   "id": "3ad6de79",
   "metadata": {
    "scrolled": true
   },
   "outputs": [],
   "source": [
    "latent_mean = model.compute_full_pseudo_lik()[0]\n",
    "latent_var = model.compute_full_pseudo_lik()[1]\n",
    "\n",
    "predictive_pseudo = model.likelihood.predict(latent_mean, latent_var, model.mask_pseudo_y)"
   ]
  },
  {
   "cell_type": "code",
   "execution_count": null,
   "id": "daf4e071",
   "metadata": {},
   "outputs": [],
   "source": [
    "# THIS METHOD GETS PREDICTIONS DONE \n",
    "\n",
    "# lik = bayesnewton.likelihoods.Gaussian(variance=VAR_Y)\n",
    "# inf = bayesnewton.inference.Taylor\n",
    "# mod = bayesnewton.basemodels.MarkovGP\n",
    "# Mod = bayesnewton.build_model(mod, inf)\n",
    "# model = Mod(kernel=kern, likelihood=lik, X=t_train, Y=Y_train, R=R_train_scaled)\n",
    "\n",
    "# model.inference()\n",
    "# peudo_y = model.compute_full_pseudo_lik()[0]\n",
    "# noise_cov = model.compute_full_pseudo_lik()[1]\n",
    "# model.update_posterior()\n",
    "# log_lik, (filter_mean, filter_cov) = model.filter(model.dt, model.kernel, peudo_y, noise_cov)\n",
    "\n",
    "# filter_mean[:,0,0]\n"
   ]
  }
 ],
 "metadata": {
  "kernelspec": {
   "display_name": "Python 3 (ipykernel)",
   "language": "python",
   "name": "python3"
  },
  "language_info": {
   "codemirror_mode": {
    "name": "ipython",
    "version": 3
   },
   "file_extension": ".py",
   "mimetype": "text/x-python",
   "name": "python",
   "nbconvert_exporter": "python",
   "pygments_lexer": "ipython3",
   "version": "3.8.12"
  }
 },
 "nbformat": 4,
 "nbformat_minor": 5
}