{
 "cells": [
  {
   "cell_type": "code",
   "execution_count": 20,
   "id": "e291ea72",
   "metadata": {},
   "outputs": [
    {
     "name": "stdout",
     "output_type": "stream",
     "text": [
      "The autoreload extension is already loaded. To reload it, use:\n",
      "  %reload_ext autoreload\n"
     ]
    }
   ],
   "source": [
    "import bayesnewton\n",
    "import numpy as np\n",
    "import matplotlib.pyplot as plt\n",
    "import matplotlib.cm as cm\n",
    "import pandas as pd\n",
    "from scipy.spatial.distance import cdist\n",
    "from bayes_opt import BayesianOptimization\n",
    "from sklearn.neighbors import NearestNeighbors\n",
    "from sklearn.preprocessing import StandardScaler\n",
    "\n",
    "import sys, os\n",
    "sys.path.append('../../Utils')\n",
    "import model_utils as mutils\n",
    "%load_ext autoreload\n",
    "%autoreload 2"
   ]
  },
  {
   "cell_type": "code",
   "execution_count": 21,
   "id": "68dddc69",
   "metadata": {},
   "outputs": [],
   "source": [
    "data =  pd.read_csv('../../../Data/pv_power_df_5day_capacity_scaled.csv', index_col='datetime')\n",
    "uk_pv = pd.read_csv('../../../Data/system_metadata_location_rounded.csv')\n",
    "uk_pv['ss_id_string'] = uk_pv['ss_id'].astype('str')\n",
    "\n",
    "lats = dict(uk_pv.set_index('ss_id')['latitude_noisy'])\n",
    "longs = dict(uk_pv.set_index('ss_id')['longitude_noisy'])"
   ]
  },
  {
   "cell_type": "code",
   "execution_count": 22,
   "id": "6b7feadd",
   "metadata": {},
   "outputs": [],
   "source": [
    "#DATA VARIABLES\n",
    "SYSTEMS_NUM = 100\n",
    "TIMESTEPS_NUM = 50000\n",
    "TRAIN_FRAC = 24  \n",
    "TEST_STATIONS = 75"
   ]
  },
  {
   "cell_type": "code",
   "execution_count": 23,
   "id": "c12a3061",
   "metadata": {},
   "outputs": [],
   "source": [
    "#TRAIN\n",
    "data_multiple = data.iloc[:, :SYSTEMS_NUM][:TIMESTEPS_NUM].reset_index()\n",
    "stacked = mutils.stack_dataframe(data_multiple, lats, longs)\n",
    "capacities = uk_pv[uk_pv.ss_id_string.isin(data_multiple.columns)].set_index('ss_id_string')['kwp'].values * 1000\n",
    "\n",
    "X = np.array(stacked[['epoch', 'longitude', 'latitude']])\n",
    "Y = np.array(stacked[['PV']])\n",
    "#Create a space-time grid from X and Y\n",
    "t, R, Y = bayesnewton.utils.create_spatiotemporal_grid(X, Y)\n",
    "\n",
    "\n",
    "#TEST\n",
    "data_unseen = data.iloc[:, SYSTEMS_NUM:SYSTEMS_NUM+TEST_STATIONS][:TIMESTEPS_NUM].reset_index()\n",
    "capacities_unseen = uk_pv[uk_pv.ss_id_string.isin(data_unseen.columns)].set_index('ss_id_string')['kwp'].values * 1000\n",
    "stacked_unseen = mutils.stack_dataframe(data_unseen, lats, longs)\n",
    "X_unseen = np.array(stacked_unseen[['epoch', 'longitude', 'latitude']])\n",
    "Y_unseen = np.array(stacked_unseen[['PV']])\n",
    "t, R_unseen, Y_unseen = bayesnewton.utils.create_spatiotemporal_grid(X_unseen, Y_unseen)\n",
    "\n",
    "del data,uk_pv"
   ]
  },
  {
   "cell_type": "code",
   "execution_count": 24,
   "id": "79247939",
   "metadata": {},
   "outputs": [],
   "source": [
    "R_scaler = StandardScaler().fit(R[0])\n",
    "R_scaled = np.tile(R_scaler.transform(R[0]), (R.shape[0],1, 1)) #renormalise R and project across time\n",
    "R_scaled_unseen = np.tile(R_scaler.transform(R_unseen[0]), (R_unseen.shape[0],1, 1)) #renormalise R and project across time\n"
   ]
  },
  {
   "cell_type": "code",
   "execution_count": 25,
   "id": "686aa1de",
   "metadata": {},
   "outputs": [],
   "source": [
    "def evaluate_IDW(power, time_factor, neighbours_space, neighbours_time, t_train, R_train, Y_train, t_test, R_test, Y_test, capacities_test, mini_batch = 1024):\n",
    "    '''\n",
    "    Function that calculates the IWD prediction for a single helf out system\n",
    "    power - power of distance metric\n",
    "    time_factor - factor that governs the weighted sum between time and space dimension\n",
    "    \n",
    "    returns:\n",
    "    - MAE of the predictor (averages over all systems)\n",
    "    - prediction for that specific location and timestep\n",
    "    \n",
    "    '''\n",
    "    print('beginning IDW')\n",
    "    \n",
    "#     print('get space neighbours')\n",
    "    nbrs_space = NearestNeighbors(n_neighbors=neighbours_space, algorithm='ball_tree').fit(R_train)\n",
    "    distances_neighbours_space, idx_neighbours_space = nbrs_space.kneighbors(R_test)\n",
    "    \n",
    "    nbrs_time = NearestNeighbors(n_neighbors=neighbours_time, algorithm = 'kd_tree', p=1).fit(t_train)\n",
    "    distances_neighbours_time, idx_neighbours_time = nbrs_time.kneighbors(t_test)\n",
    "    \n",
    "    predictions_list = []\n",
    "    MAE_list = []\n",
    "    Y_MW = Y_test * capacities_test\n",
    "    \n",
    "    for first in range(0, len(distances_neighbours_time), mini_batch):\n",
    "        distances_neighbours_time_batch = distances_neighbours_time[first:first+mini_batch]\n",
    "        idx_neighbours_time_batch = idx_neighbours_time[first:first+mini_batch]\n",
    "        len_batch = len(distances_neighbours_time_batch)\n",
    "        distances = np.add.outer(distances_neighbours_space.T, distances_neighbours_time_batch.T).swapaxes(0,3)\n",
    "        weights = (1 / distances)** power\n",
    "        del distances\n",
    "        norm_weights = weights / np.sum(weights, axis = (2,3))[:,:, np.newaxis, np.newaxis]\n",
    "        del weights\n",
    "        y_neighbours = Y_train[idx_neighbours_time_batch][:,:, idx_neighbours_space].swapaxes(1,2)\n",
    "        \n",
    "        prediction = np.sum(norm_weights * y_neighbours, axis = (2,3)) \n",
    "        predictions_list.append(prediction)\n",
    "        del norm_weights\n",
    "\n",
    "    predictions = np.vstack(predictions_list)\n",
    "    MAE = (np.nanmean((abs(Y_test - predictions) )))\n",
    "        \n",
    "    print('Terminated IDW')\n",
    "    \n",
    "    return predictions, MAE\n",
    "\n"
   ]
  },
  {
   "cell_type": "code",
   "execution_count": 7,
   "id": "c43fae53",
   "metadata": {
    "scrolled": true
   },
   "outputs": [
    {
     "name": "stdout",
     "output_type": "stream",
     "text": [
      "beginning IDW\n",
      "Terminated IDW\n"
     ]
    },
    {
     "data": {
      "text/plain": [
       "[<matplotlib.lines.Line2D at 0x17a02c820>]"
      ]
     },
     "execution_count": 7,
     "metadata": {},
     "output_type": "execute_result"
    },
    {
     "data": {
      "image/png": "[encoded data removed]",
      "text/plain": [
       "<Figure size 432x288 with 1 Axes>"
      ]
     },
     "metadata": {
      "needs_background": "light"
     },
     "output_type": "display_data"
    }
   ],
   "source": [
    "power = 2\n",
    "time_factor = 1/10\n",
    "neighbours_space = 20\n",
    "neighbours_time = 50\n",
    "predictions, MAE = evaluate_IDW(power, time_factor, neighbours_space, neighbours_time, t, R_scaled[0], Y[:,:,0], t, R_scaled_unseen[0], Y_unseen[:,:,0], capacities_unseen)\n",
    "plt.plot(predictions[:,10])\n",
    "plt.plot(Y_unseen[:,10])"
   ]
  },
  {
   "cell_type": "code",
   "execution_count": 7,
   "id": "9e66edf3",
   "metadata": {},
   "outputs": [],
   "source": [
    "def opt_IDW(power, time_factor, n_space, n_time):\n",
    "    '''\n",
    "    Wrapper function for bayesian opt of evaluate IDW\n",
    "    '''\n",
    "    \n",
    "    neighbours_space = int(n_space)\n",
    "    neighbours_time = int(n_time)\n",
    "    \n",
    "    predictions, MAE = evaluate_IDW(power, time_factor, neighbours_space, neighbours_time, t, R_scaled[0], Y[:,:,0], t, R_scaled_unseen[0], Y_unseen[:,:,0], capacities_unseen)\n",
    "    #return the negative value \n",
    "    return - MAE\n",
    "\n"
   ]
  },
  {
   "cell_type": "code",
   "execution_count": 8,
   "id": "bcf408c2",
   "metadata": {
    "scrolled": true
   },
   "outputs": [
    {
     "name": "stdout",
     "output_type": "stream",
     "text": [
      "|   iter    |  target   |  n_space  |  n_time   |   power   | time_f... |\n",
      "-------------------------------------------------------------------------\n",
      "beginning IDW\n",
      "Terminated IDW\n",
      "| \u001b[0m 1       \u001b[0m | \u001b[0m-0.11    \u001b[0m | \u001b[0m 17.55   \u001b[0m | \u001b[0m 12.5    \u001b[0m | \u001b[0m 4.86    \u001b[0m | \u001b[0m 0.08821 \u001b[0m |\n",
      "beginning IDW\n",
      "Terminated IDW\n",
      "| \u001b[95m 2       \u001b[0m | \u001b[95m-0.1008  \u001b[0m | \u001b[95m 9.702   \u001b[0m | \u001b[95m 21.78   \u001b[0m | \u001b[95m 0.754   \u001b[0m | \u001b[95m 0.1827  \u001b[0m |\n",
      "beginning IDW\n",
      "Terminated IDW\n",
      "| \u001b[0m 3       \u001b[0m | \u001b[0m-0.1028  \u001b[0m | \u001b[0m 12.9    \u001b[0m | \u001b[0m 17.56   \u001b[0m | \u001b[0m 2.331   \u001b[0m | \u001b[0m 0.5114  \u001b[0m |\n",
      "beginning IDW\n",
      "Terminated IDW\n",
      "| \u001b[0m 4       \u001b[0m | \u001b[0m-0.1071  \u001b[0m | \u001b[0m 13.8    \u001b[0m | \u001b[0m 32.12   \u001b[0m | \u001b[0m 3.618   \u001b[0m | \u001b[0m 0.8213  \u001b[0m |\n",
      "beginning IDW\n",
      "Terminated IDW\n",
      "| \u001b[0m 5       \u001b[0m | \u001b[0m-0.1012  \u001b[0m | \u001b[0m 19.78   \u001b[0m | \u001b[0m 29.97   \u001b[0m | \u001b[0m 1.43    \u001b[0m | \u001b[0m 0.936   \u001b[0m |\n",
      "beginning IDW\n",
      "Terminated IDW\n",
      "| \u001b[95m 6       \u001b[0m | \u001b[95m-0.1006  \u001b[0m | \u001b[95m 7.931   \u001b[0m | \u001b[95m 16.24   \u001b[0m | \u001b[95m 1.375   \u001b[0m | \u001b[95m 0.2229  \u001b[0m |\n",
      "beginning IDW\n",
      "Terminated IDW\n",
      "| \u001b[0m 7       \u001b[0m | \u001b[0m-0.1098  \u001b[0m | \u001b[0m 5.676   \u001b[0m | \u001b[0m 20.06   \u001b[0m | \u001b[0m 4.24    \u001b[0m | \u001b[0m 0.8948  \u001b[0m |\n",
      "beginning IDW\n",
      "Terminated IDW\n",
      "| \u001b[0m 8       \u001b[0m | \u001b[0m-0.1071  \u001b[0m | \u001b[0m 4.865   \u001b[0m | \u001b[0m 49.0    \u001b[0m | \u001b[0m 0.2261  \u001b[0m | \u001b[0m 0.6052  \u001b[0m |\n",
      "beginning IDW\n",
      "Terminated IDW\n",
      "| \u001b[0m 9       \u001b[0m | \u001b[0m-0.1098  \u001b[0m | \u001b[0m 18.45   \u001b[0m | \u001b[0m 19.84   \u001b[0m | \u001b[0m 4.755   \u001b[0m | \u001b[0m 0.2173  \u001b[0m |\n",
      "beginning IDW\n",
      "Terminated IDW\n",
      "| \u001b[0m 10      \u001b[0m | \u001b[0m-0.1107  \u001b[0m | \u001b[0m 19.09   \u001b[0m | \u001b[0m 48.55   \u001b[0m | \u001b[0m 0.07909 \u001b[0m | \u001b[0m 0.298   \u001b[0m |\n",
      "beginning IDW\n",
      "Terminated IDW\n",
      "| \u001b[95m 11      \u001b[0m | \u001b[95m-0.1002  \u001b[0m | \u001b[95m 9.671   \u001b[0m | \u001b[95m 18.57   \u001b[0m | \u001b[95m 0.9053  \u001b[0m | \u001b[95m 0.1747  \u001b[0m |\n",
      "beginning IDW\n",
      "Terminated IDW\n",
      "| \u001b[0m 12      \u001b[0m | \u001b[0m-0.1023  \u001b[0m | \u001b[0m 10.35   \u001b[0m | \u001b[0m 13.91   \u001b[0m | \u001b[0m 0.01    \u001b[0m | \u001b[0m 0.01    \u001b[0m |\n",
      "beginning IDW\n",
      "Terminated IDW\n",
      "| \u001b[0m 13      \u001b[0m | \u001b[0m-0.1044  \u001b[0m | \u001b[0m 13.71   \u001b[0m | \u001b[0m 24.5    \u001b[0m | \u001b[0m 0.01    \u001b[0m | \u001b[0m 0.01    \u001b[0m |\n",
      "beginning IDW\n",
      "Terminated IDW\n",
      "| \u001b[0m 14      \u001b[0m | \u001b[0m-0.1032  \u001b[0m | \u001b[0m 4.741   \u001b[0m | \u001b[0m 12.13   \u001b[0m | \u001b[0m 0.01    \u001b[0m | \u001b[0m 0.01    \u001b[0m |\n",
      "beginning IDW\n",
      "Terminated IDW\n",
      "| \u001b[0m 15      \u001b[0m | \u001b[0m-0.1088  \u001b[0m | \u001b[0m 20.0    \u001b[0m | \u001b[0m 34.56   \u001b[0m | \u001b[0m 0.01    \u001b[0m | \u001b[0m 1.0     \u001b[0m |\n",
      "beginning IDW\n",
      "Terminated IDW\n",
      "| \u001b[0m 16      \u001b[0m | \u001b[0m-0.1064  \u001b[0m | \u001b[0m 19.75   \u001b[0m | \u001b[0m 26.57   \u001b[0m | \u001b[0m 0.3767  \u001b[0m | \u001b[0m 0.9028  \u001b[0m |\n",
      "beginning IDW\n",
      "Terminated IDW\n",
      "| \u001b[0m 17      \u001b[0m | \u001b[0m-0.1032  \u001b[0m | \u001b[0m 11.92   \u001b[0m | \u001b[0m 20.13   \u001b[0m | \u001b[0m 0.01    \u001b[0m | \u001b[0m 1.0     \u001b[0m |\n",
      "beginning IDW\n",
      "Terminated IDW\n",
      "| \u001b[0m 18      \u001b[0m | \u001b[0m-0.1071  \u001b[0m | \u001b[0m 9.92    \u001b[0m | \u001b[0m 15.46   \u001b[0m | \u001b[0m 3.498   \u001b[0m | \u001b[0m 0.01    \u001b[0m |\n",
      "beginning IDW\n",
      "Terminated IDW\n",
      "| \u001b[0m 19      \u001b[0m | \u001b[0m-0.1024  \u001b[0m | \u001b[0m 9.347   \u001b[0m | \u001b[0m 16.66   \u001b[0m | \u001b[0m 0.01    \u001b[0m | \u001b[0m 1.0     \u001b[0m |\n",
      "beginning IDW\n",
      "Terminated IDW\n",
      "| \u001b[0m 20      \u001b[0m | \u001b[0m-0.1022  \u001b[0m | \u001b[0m 7.917   \u001b[0m | \u001b[0m 19.8    \u001b[0m | \u001b[0m 0.06313 \u001b[0m | \u001b[0m 0.2586  \u001b[0m |\n",
      "beginning IDW\n",
      "Terminated IDW\n",
      "| \u001b[0m 21      \u001b[0m | \u001b[0m-0.1021  \u001b[0m | \u001b[0m 6.28    \u001b[0m | \u001b[0m 15.34   \u001b[0m | \u001b[0m 0.01    \u001b[0m | \u001b[0m 0.01    \u001b[0m |\n",
      "beginning IDW\n",
      "Terminated IDW\n",
      "| \u001b[0m 22      \u001b[0m | \u001b[0m-0.1048  \u001b[0m | \u001b[0m 10.79   \u001b[0m | \u001b[0m 20.48   \u001b[0m | \u001b[0m 2.809   \u001b[0m | \u001b[0m 0.01    \u001b[0m |\n",
      "beginning IDW\n",
      "Terminated IDW\n",
      "| \u001b[0m 23      \u001b[0m | \u001b[0m-0.1031  \u001b[0m | \u001b[0m 8.861   \u001b[0m | \u001b[0m 24.17   \u001b[0m | \u001b[0m 0.01    \u001b[0m | \u001b[0m 0.01    \u001b[0m |\n",
      "beginning IDW\n",
      "Terminated IDW\n",
      "| \u001b[0m 24      \u001b[0m | \u001b[0m-0.1081  \u001b[0m | \u001b[0m 20.0    \u001b[0m | \u001b[0m 29.96   \u001b[0m | \u001b[0m 4.06    \u001b[0m | \u001b[0m 0.4899  \u001b[0m |\n",
      "beginning IDW\n",
      "Terminated IDW\n",
      "| \u001b[0m 25      \u001b[0m | \u001b[0m-0.1006  \u001b[0m | \u001b[0m 7.771   \u001b[0m | \u001b[0m 13.74   \u001b[0m | \u001b[0m 0.7059  \u001b[0m | \u001b[0m 1.0     \u001b[0m |\n",
      "beginning IDW\n",
      "Terminated IDW\n",
      "| \u001b[0m 26      \u001b[0m | \u001b[0m-0.102   \u001b[0m | \u001b[0m 8.231   \u001b[0m | \u001b[0m 11.57   \u001b[0m | \u001b[0m 0.01    \u001b[0m | \u001b[0m 0.01    \u001b[0m |\n",
      "beginning IDW\n",
      "Terminated IDW\n",
      "| \u001b[0m 27      \u001b[0m | \u001b[0m-0.1044  \u001b[0m | \u001b[0m 6.341   \u001b[0m | \u001b[0m 13.81   \u001b[0m | \u001b[0m 2.31    \u001b[0m | \u001b[0m 0.1788  \u001b[0m |\n",
      "beginning IDW\n",
      "Terminated IDW\n",
      "| \u001b[0m 28      \u001b[0m | \u001b[0m-0.1071  \u001b[0m | \u001b[0m 17.99   \u001b[0m | \u001b[0m 30.13   \u001b[0m | \u001b[0m 0.01    \u001b[0m | \u001b[0m 1.0     \u001b[0m |\n",
      "beginning IDW\n",
      "Terminated IDW\n",
      "| \u001b[0m 29      \u001b[0m | \u001b[0m-0.1012  \u001b[0m | \u001b[0m 7.147   \u001b[0m | \u001b[0m 17.49   \u001b[0m | \u001b[0m 0.5042  \u001b[0m | \u001b[0m 1.0     \u001b[0m |\n",
      "beginning IDW\n",
      "Terminated IDW\n",
      "| \u001b[0m 30      \u001b[0m | \u001b[0m-0.1027  \u001b[0m | \u001b[0m 9.692   \u001b[0m | \u001b[0m 20.05   \u001b[0m | \u001b[0m 0.01    \u001b[0m | \u001b[0m 1.0     \u001b[0m |\n",
      "beginning IDW\n",
      "Terminated IDW\n",
      "| \u001b[0m 31      \u001b[0m | \u001b[0m-0.102   \u001b[0m | \u001b[0m 10.62   \u001b[0m | \u001b[0m 10.72   \u001b[0m | \u001b[0m 0.1804  \u001b[0m | \u001b[0m 0.9326  \u001b[0m |\n",
      "beginning IDW\n",
      "Terminated IDW\n",
      "| \u001b[0m 32      \u001b[0m | \u001b[0m-0.1031  \u001b[0m | \u001b[0m 8.632   \u001b[0m | \u001b[0m 9.631   \u001b[0m | \u001b[0m 2.203   \u001b[0m | \u001b[0m 1.0     \u001b[0m |\n",
      "beginning IDW\n",
      "Terminated IDW\n",
      "| \u001b[0m 33      \u001b[0m | \u001b[0m-0.1029  \u001b[0m | \u001b[0m 11.8    \u001b[0m | \u001b[0m 17.47   \u001b[0m | \u001b[0m 0.01    \u001b[0m | \u001b[0m 0.01    \u001b[0m |\n",
      "beginning IDW\n",
      "Terminated IDW\n",
      "| \u001b[0m 34      \u001b[0m | \u001b[0m-0.1018  \u001b[0m | \u001b[0m 10.52   \u001b[0m | \u001b[0m 7.325   \u001b[0m | \u001b[0m 0.2722  \u001b[0m | \u001b[0m 0.03194 \u001b[0m |\n",
      "beginning IDW\n",
      "Terminated IDW\n",
      "| \u001b[0m 35      \u001b[0m | \u001b[0m-0.1034  \u001b[0m | \u001b[0m 13.13   \u001b[0m | \u001b[0m 8.218   \u001b[0m | \u001b[0m 0.01    \u001b[0m | \u001b[0m 1.0     \u001b[0m |\n",
      "beginning IDW\n",
      "Terminated IDW\n",
      "| \u001b[0m 36      \u001b[0m | \u001b[0m-0.1013  \u001b[0m | \u001b[0m 7.731   \u001b[0m | \u001b[0m 6.22    \u001b[0m | \u001b[0m 0.4588  \u001b[0m | \u001b[0m 0.5791  \u001b[0m |\n",
      "beginning IDW\n",
      "Terminated IDW\n",
      "| \u001b[0m 37      \u001b[0m | \u001b[0m-0.105   \u001b[0m | \u001b[0m 9.656   \u001b[0m | \u001b[0m 5.258   \u001b[0m | \u001b[0m 2.799   \u001b[0m | \u001b[0m 0.6271  \u001b[0m |\n",
      "beginning IDW\n",
      "Terminated IDW\n",
      "| \u001b[0m 38      \u001b[0m | \u001b[0m-0.1021  \u001b[0m | \u001b[0m 6.619   \u001b[0m | \u001b[0m 8.358   \u001b[0m | \u001b[0m 0.01    \u001b[0m | \u001b[0m 0.01    \u001b[0m |\n",
      "beginning IDW\n",
      "Terminated IDW\n",
      "| \u001b[0m 39      \u001b[0m | \u001b[0m-0.1036  \u001b[0m | \u001b[0m 4.965   \u001b[0m | \u001b[0m 5.494   \u001b[0m | \u001b[0m 0.01    \u001b[0m | \u001b[0m 1.0     \u001b[0m |\n",
      "beginning IDW\n",
      "Terminated IDW\n",
      "| \u001b[0m 40      \u001b[0m | \u001b[0m-0.1074  \u001b[0m | \u001b[0m 5.785   \u001b[0m | \u001b[0m 7.669   \u001b[0m | \u001b[0m 3.133   \u001b[0m | \u001b[0m 0.3883  \u001b[0m |\n",
      "beginning IDW\n",
      "Terminated IDW\n",
      "| \u001b[0m 41      \u001b[0m | \u001b[0m-0.101   \u001b[0m | \u001b[0m 8.224   \u001b[0m | \u001b[0m 18.1    \u001b[0m | \u001b[0m 1.624   \u001b[0m | \u001b[0m 0.01    \u001b[0m |\n",
      "beginning IDW\n",
      "Terminated IDW\n",
      "| \u001b[0m 42      \u001b[0m | \u001b[0m-0.1141  \u001b[0m | \u001b[0m 2.117   \u001b[0m | \u001b[0m 36.32   \u001b[0m | \u001b[0m 4.878   \u001b[0m | \u001b[0m 0.314   \u001b[0m |\n",
      "beginning IDW\n",
      "Terminated IDW\n",
      "| \u001b[0m 43      \u001b[0m | \u001b[0m-0.1104  \u001b[0m | \u001b[0m 12.35   \u001b[0m | \u001b[0m 42.02   \u001b[0m | \u001b[0m 5.0     \u001b[0m | \u001b[0m 0.01    \u001b[0m |\n",
      "beginning IDW\n",
      "Terminated IDW\n",
      "| \u001b[0m 44      \u001b[0m | \u001b[0m-0.1039  \u001b[0m | \u001b[0m 19.22   \u001b[0m | \u001b[0m 5.238   \u001b[0m | \u001b[0m 0.6267  \u001b[0m | \u001b[0m 0.3037  \u001b[0m |\n",
      "beginning IDW\n",
      "Terminated IDW\n",
      "| \u001b[0m 45      \u001b[0m | \u001b[0m-0.1056  \u001b[0m | \u001b[0m 2.0     \u001b[0m | \u001b[0m 27.1    \u001b[0m | \u001b[0m 0.01    \u001b[0m | \u001b[0m 0.01    \u001b[0m |\n",
      "beginning IDW\n",
      "Terminated IDW\n",
      "| \u001b[0m 46      \u001b[0m | \u001b[0m-0.1103  \u001b[0m | \u001b[0m 15.95   \u001b[0m | \u001b[0m 5.277   \u001b[0m | \u001b[0m 4.976   \u001b[0m | \u001b[0m 0.03562 \u001b[0m |\n",
      "beginning IDW\n",
      "Terminated IDW\n",
      "| \u001b[0m 47      \u001b[0m | \u001b[0m-0.1049  \u001b[0m | \u001b[0m 2.0     \u001b[0m | \u001b[0m 15.86   \u001b[0m | \u001b[0m 0.01    \u001b[0m | \u001b[0m 1.0     \u001b[0m |\n",
      "beginning IDW\n",
      "Terminated IDW\n",
      "| \u001b[0m 48      \u001b[0m | \u001b[0m-0.1103  \u001b[0m | \u001b[0m 8.037   \u001b[0m | \u001b[0m 28.03   \u001b[0m | \u001b[0m 4.814   \u001b[0m | \u001b[0m 0.4569  \u001b[0m |\n",
      "beginning IDW\n",
      "Terminated IDW\n",
      "| \u001b[0m 49      \u001b[0m | \u001b[0m-0.1096  \u001b[0m | \u001b[0m 11.0    \u001b[0m | \u001b[0m 49.99   \u001b[0m | \u001b[0m 4.561   \u001b[0m | \u001b[0m 0.8448  \u001b[0m |\n",
      "beginning IDW\n",
      "Terminated IDW\n",
      "| \u001b[0m 50      \u001b[0m | \u001b[0m-0.1142  \u001b[0m | \u001b[0m 2.0     \u001b[0m | \u001b[0m 45.94   \u001b[0m | \u001b[0m 5.0     \u001b[0m | \u001b[0m 1.0     \u001b[0m |\n",
      "beginning IDW\n",
      "Terminated IDW\n",
      "| \u001b[0m 51      \u001b[0m | \u001b[0m-0.1063  \u001b[0m | \u001b[0m 20.0    \u001b[0m | \u001b[0m 9.542   \u001b[0m | \u001b[0m 0.01    \u001b[0m | \u001b[0m 1.0     \u001b[0m |\n",
      "beginning IDW\n",
      "Terminated IDW\n",
      "| \u001b[0m 52      \u001b[0m | \u001b[0m-0.1103  \u001b[0m | \u001b[0m 20.0    \u001b[0m | \u001b[0m 41.18   \u001b[0m | \u001b[0m 5.0     \u001b[0m | \u001b[0m 1.0     \u001b[0m |\n",
      "beginning IDW\n",
      "Terminated IDW\n",
      "| \u001b[0m 53      \u001b[0m | \u001b[0m-0.1052  \u001b[0m | \u001b[0m 16.09   \u001b[0m | \u001b[0m 16.31   \u001b[0m | \u001b[0m 0.01    \u001b[0m | \u001b[0m 1.0     \u001b[0m |\n",
      "beginning IDW\n",
      "Terminated IDW\n",
      "| \u001b[0m 54      \u001b[0m | \u001b[0m-0.1051  \u001b[0m | \u001b[0m 9.7     \u001b[0m | \u001b[0m 36.1    \u001b[0m | \u001b[0m 0.01    \u001b[0m | \u001b[0m 0.01    \u001b[0m |\n",
      "beginning IDW\n"
     ]
    },
    {
     "name": "stdout",
     "output_type": "stream",
     "text": [
      "Terminated IDW\n",
      "| \u001b[0m 55      \u001b[0m | \u001b[0m-0.1021  \u001b[0m | \u001b[0m 8.789   \u001b[0m | \u001b[0m 8.264   \u001b[0m | \u001b[0m 0.01    \u001b[0m | \u001b[0m 1.0     \u001b[0m |\n",
      "beginning IDW\n",
      "Terminated IDW\n",
      "| \u001b[0m 56      \u001b[0m | \u001b[0m-0.1053  \u001b[0m | \u001b[0m 2.0     \u001b[0m | \u001b[0m 9.017   \u001b[0m | \u001b[0m 0.01    \u001b[0m | \u001b[0m 0.01    \u001b[0m |\n",
      "=========================================================================\n",
      "final result {'target': -0.10023910205000514, 'params': {'n_space': 9.670563315718798, 'n_time': 18.570011476844705, 'power': 0.9053430128116193, 'time_factor': 0.1746815006862631}}\n"
     ]
    }
   ],
   "source": [
    "optimiser = BayesianOptimization(\n",
    "        f = opt_IDW,\n",
    "        pbounds = {'power' : (0.01, 5), 'time_factor': (0.01, 1), 'n_space': (2, 20), 'n_time': (5, 50)},\n",
    "        verbose = 2\n",
    "        )\n",
    "optimiser.maximize(n_iter = 50, init_points = 6)\n",
    "print('final result',optimiser.max)"
   ]
  },
  {
   "cell_type": "markdown",
   "id": "05300ba7",
   "metadata": {},
   "source": [
    "# RUN WITH OPTIMAL HYPERPARAMS"
   ]
  },
  {
   "cell_type": "code",
   "execution_count": 26,
   "id": "449f3853",
   "metadata": {},
   "outputs": [],
   "source": [
    "optimiser_max = {'target': -0.10023910205000514, 'params': {'n_space': 9.670563315718798, 'n_time': 18.570011476844705, 'power': 0.9053430128116193, 'time_factor': 0.1746815006862631}}"
   ]
  },
  {
   "cell_type": "code",
   "execution_count": 27,
   "id": "4522cfd5",
   "metadata": {},
   "outputs": [
    {
     "name": "stdout",
     "output_type": "stream",
     "text": [
      "beginning IDW\n",
      "Terminated IDW\n"
     ]
    },
    {
     "data": {
      "text/plain": [
       "[<matplotlib.lines.Line2D at 0x2923bb8b0>]"
      ]
     },
     "execution_count": 27,
     "metadata": {},
     "output_type": "execute_result"
    },
    {
     "data": {
      "image/png": "[encoded data removed]",
      "text/plain": [
       "<Figure size 432x288 with 1 Axes>"
      ]
     },
     "metadata": {
      "needs_background": "light"
     },
     "output_type": "display_data"
    }
   ],
   "source": [
    "power = optimiser_max['params']['power']\n",
    "time_factor = optimiser_max['params']['time_factor']\n",
    "neighbours_space = int(optimiser_max['params']['n_space'])\n",
    "neighbours_time = int(optimiser_max['params']['n_time'])\n",
    "predictions, MAE = evaluate_IDW(power, time_factor, neighbours_space, neighbours_time, t, R_scaled[0], Y[:,:,0], t, R_scaled_unseen[0], Y_unseen[:,:,0], capacities_unseen)\n",
    "plt.plot(predictions[:,10])\n",
    "plt.plot(Y_unseen[:,10])"
   ]
  },
  {
   "cell_type": "code",
   "execution_count": 28,
   "id": "37981d9e",
   "metadata": {},
   "outputs": [
    {
     "name": "stdout",
     "output_type": "stream",
     "text": [
      "THE BENCHMARK MAE IS 0.10072008335928678\n"
     ]
    }
   ],
   "source": [
    "print(f'THE BENCHMARK MAE IS {MAE}')"
   ]
  },
  {
   "cell_type": "code",
   "execution_count": null,
   "id": "e71344d2",
   "metadata": {},
   "outputs": [],
   "source": []
  }
 ],
 "metadata": {
  "kernelspec": {
   "display_name": "Python 3 (ipykernel)",
   "language": "python",
   "name": "python3"
  },
  "language_info": {
   "codemirror_mode": {
    "name": "ipython",
    "version": 3
   },
   "file_extension": ".py",
   "mimetype": "text/x-python",
   "name": "python",
   "nbconvert_exporter": "python",
   "pygments_lexer": "ipython3",
   "version": "3.8.12"
  }
 },
 "nbformat": 4,
 "nbformat_minor": 5
}
