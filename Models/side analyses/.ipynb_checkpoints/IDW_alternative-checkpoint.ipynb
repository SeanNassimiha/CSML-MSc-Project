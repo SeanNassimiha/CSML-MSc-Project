{
 "cells": [
  {
   "cell_type": "code",
   "execution_count": 1,
   "id": "ce20579f",
   "metadata": {},
   "outputs": [
    {
     "name": "stderr",
     "output_type": "stream",
     "text": [
      "/Users/SeanNassimiha/miniforge3/envs/mscjax_dev/lib/python3.8/site-packages/jax/_src/lib/__init__.py:33: UserWarning: JAX on Mac ARM machines is experimental and minimally tested. Please see https://github.com/google/jax/issues/5501 in the event of problems.\n",
      "  warnings.warn(\"JAX on Mac ARM machines is experimental and minimally tested. \"\n"
     ]
    }
   ],
   "source": [
    "import bayesnewton\n",
    "import numpy as np\n",
    "import matplotlib.pyplot as plt\n",
    "import matplotlib.cm as cm\n",
    "import pandas as pd\n",
    "from scipy.spatial.distance import cdist\n",
    "from bayes_opt import BayesianOptimization\n",
    "from sklearn.preprocessing import StandardScaler\n",
    "from sklearn.neighbors import NearestNeighbors\n",
    "\n",
    "\n",
    "import sys, os\n",
    "sys.path.append('../../Utils')\n",
    "import model_utils as mutils\n",
    "%load_ext autoreload\n",
    "%autoreload 2"
   ]
  },
  {
   "cell_type": "code",
   "execution_count": 2,
   "id": "446decdd",
   "metadata": {},
   "outputs": [],
   "source": [
    "data =  pd.read_csv('../../../Data/pv_power_df_5day_capacity_scaled.csv', index_col='datetime').drop(columns=['2657', '2828']) #DROPPING FAULTY SYSTEMS\n",
    "uk_pv = pd.read_csv('../../../Data/system_metadata_location_rounded.csv')\n",
    "uk_pv['ss_id_string'] = uk_pv['ss_id'].astype('str')\n",
    "\n",
    "lats = dict(uk_pv.set_index('ss_id')['latitude_rounded'])\n",
    "longs = dict(uk_pv.set_index('ss_id')['longitude_rounded'])"
   ]
  },
  {
   "cell_type": "code",
   "execution_count": 3,
   "id": "878a679e",
   "metadata": {},
   "outputs": [],
   "source": [
    "#DATA VARIABLES\n",
    "# SYSTEMS_NUM = 50\n",
    "# TIMESTEPS_NUM = int(len(data) / 5)\n",
    "# TRAIN_FRAC = 0.9\n",
    "# TEST_STATIONS = 40\n",
    "\n",
    "#DATA VARIABLES\n",
    "SYSTEMS_NUM = 400\n",
    "TIMESTEPS_NUM = 500\n",
    "TRAIN_FRAC = 0.9\n",
    "TEST_STATIONS = 400"
   ]
  },
  {
   "cell_type": "code",
   "execution_count": 4,
   "id": "6f744350",
   "metadata": {},
   "outputs": [],
   "source": [
    "data_multiple = data.iloc[:, :SYSTEMS_NUM][:TIMESTEPS_NUM].reset_index()\n",
    "\n",
    "capacities = uk_pv[uk_pv.ss_id_string.isin(data_multiple.columns)].set_index('ss_id_string')['kwp'].values * 1000\n",
    "stacked = mutils.stack_dataframe(data_multiple, lats, longs)\n",
    "\n",
    "X = np.array(stacked[['epoch', 'longitude', 'latitude']])\n",
    "Y = np.array(stacked[['PV']])"
   ]
  },
  {
   "cell_type": "code",
   "execution_count": 5,
   "id": "2ba41f53",
   "metadata": {},
   "outputs": [],
   "source": [
    "X_train, X_test, _, _, Y_train, Y_test = mutils.train_split_3d(t = X, R=None, Y = Y, train_frac = TRAIN_FRAC, split_by_day = False)\n"
   ]
  },
  {
   "cell_type": "code",
   "execution_count": 6,
   "id": "78867ed3",
   "metadata": {},
   "outputs": [],
   "source": [
    "data_unseen = data.iloc[:, SYSTEMS_NUM:SYSTEMS_NUM+TEST_STATIONS][:TIMESTEPS_NUM + 60].reset_index()\n",
    "\n",
    "capacities_unseen = uk_pv[uk_pv.ss_id_string.isin(data_unseen.columns)].set_index('ss_id_string')['kwp'].values * 1000\n",
    "stacked_unseen = mutils.stack_dataframe(data_unseen, lats, longs)\n",
    "\n",
    "del data,uk_pv\n",
    "\n",
    "X_unseen = np.array(stacked_unseen[['epoch', 'longitude', 'latitude']])\n",
    "Y_unseen = np.array(stacked_unseen[['PV']])\n"
   ]
  },
  {
   "cell_type": "code",
   "execution_count": 7,
   "id": "d18499e3",
   "metadata": {},
   "outputs": [],
   "source": [
    "X_scaler = StandardScaler().fit(X_train)\n",
    "X_train_scaled = X_scaler.transform(X_train)\n",
    "X_test_scaled = X_scaler.transform(X_test)\n",
    "X_unseen_scaled =  X_scaler.transform(X_unseen)"
   ]
  },
  {
   "cell_type": "code",
   "execution_count": 8,
   "id": "fb4fee4c",
   "metadata": {},
   "outputs": [],
   "source": [
    "nbrs = NearestNeighbors(n_neighbors=500, algorithm='ball_tree').fit(X_train_scaled)\n",
    "distances_neighbours, idx_neighbours = nbrs.kneighbors(X_unseen_scaled)\n",
    "values_neighbours = Y_unseen[:,0][idx_neighbours]"
   ]
  },
  {
   "cell_type": "code",
   "execution_count": 10,
   "id": "e74260d0",
   "metadata": {
    "scrolled": true
   },
   "outputs": [],
   "source": [
    "power = 2\n",
    "c = 0.1 #smoothing parameter as described in https://spacetimewithr.org/Spatio-Temporal%20Statistics%20with%20R.pdf\n",
    "weights = 1 / (distances_neighbours + 0.01)**2\n",
    "norm_weights = weights / weights.sum(axis=1)[:, np.newaxis]\n",
    "predictions = np.sum(norm_weights * values_neighbours, axis = 1)\n",
    "\n",
    "Y_MW =  Y_unseen.reshape((TIMESTEPS_NUM + 60,TEST_STATIONS)) * capacities_unseen\n",
    "predicted_MW = predictions.reshape((TIMESTEPS_NUM + 60,TEST_STATIONS)) * capacities_unseen\n",
    "MAE = np.sqrt(np.nanmean((Y_MW - predicted_MW)**2))\n"
   ]
  },
  {
   "cell_type": "code",
   "execution_count": 14,
   "id": "e68d2595",
   "metadata": {
    "scrolled": true
   },
   "outputs": [
    {
     "data": {
      "text/plain": [
       "[<matplotlib.lines.Line2D at 0x2927c7730>]"
      ]
     },
     "execution_count": 14,
     "metadata": {},
     "output_type": "execute_result"
    },
    {
     "data": {
      "image/png": "[encoded data removed]",
      "text/plain": [
       "<Figure size 432x288 with 1 Axes>"
      ]
     },
     "metadata": {
      "needs_background": "light"
     },
     "output_type": "display_data"
    }
   ],
   "source": [
    "plt.plot( Y_MW[1,:500])\n",
    "plt.plot(predicted_MW[1,:500])"
   ]
  },
  {
   "cell_type": "code",
   "execution_count": null,
   "id": "c41dd4fb",
   "metadata": {},
   "outputs": [],
   "source": [
    "weights = (1 / distances)** power\n",
    "norm_weights = weights / np.sum(weights, axis = (2,3))[:,:, np.newaxis, np.newaxis]\n",
    "predictions = np.sum(norm_weights * Y_train[np.newaxis,np.newaxis,:,:], axis = (2,3))\n",
    "Y_MW = Y_test * capacities_test\n",
    "predicted_MW = predictions * capacities_test\n",
    "MAE = np.sqrt(np.nanmean((Y_MW - predicted_MW)**2))"
   ]
  },
  {
   "cell_type": "code",
   "execution_count": null,
   "id": "8c838603",
   "metadata": {},
   "outputs": [],
   "source": []
  },
  {
   "cell_type": "code",
   "execution_count": null,
   "id": "b0a2749b",
   "metadata": {},
   "outputs": [],
   "source": []
  },
  {
   "cell_type": "code",
   "execution_count": null,
   "id": "04667bbd",
   "metadata": {},
   "outputs": [],
   "source": []
  },
  {
   "cell_type": "code",
   "execution_count": null,
   "id": "e44147bf",
   "metadata": {},
   "outputs": [],
   "source": []
  },
  {
   "cell_type": "code",
   "execution_count": null,
   "id": "6efe145a",
   "metadata": {},
   "outputs": [],
   "source": []
  },
  {
   "cell_type": "code",
   "execution_count": null,
   "id": "3f091248",
   "metadata": {},
   "outputs": [],
   "source": []
  },
  {
   "cell_type": "code",
   "execution_count": null,
   "id": "aef2a6e4",
   "metadata": {},
   "outputs": [],
   "source": [
    "data_multiple = data.iloc[:, :SYSTEMS_NUM][:TIMESTEPS_NUM].reset_index()\n",
    "\n",
    "capacities = uk_pv[uk_pv.ss_id_string.isin(data_multiple.columns)].set_index('ss_id_string')['kwp'].values * 1000\n",
    "stacked = mutils.stack_dataframe(data_multiple, lats, longs)\n",
    "\n",
    "X = np.array(stacked[['epoch', 'longitude', 'latitude']])\n",
    "Y = np.array(stacked[['PV']])\n",
    "#Create a space-time grid from X and Y\n",
    "t, R, Y = bayesnewton.utils.create_spatiotemporal_grid(X, Y)\n",
    "\n",
    "#train test split for 3 dimensional data\n",
    "t_train, t_test, R_train, R_test, Y_train, Y_test = mutils.train_split_3d(t, R, Y, train_frac = TRAIN_FRAC, split_by_day = False)\n",
    "\n",
    "#Scale the data\n",
    "scaled_values = mutils.scale_2d_train_test_data(R, Y, R_train, R_test, Y_train, Y_test )\n",
    "R_scaler, R_scaled, R_train_scaled, R_test_scaled, _, _, _, _ = scaled_values\n"
   ]
  },
  {
   "cell_type": "code",
   "execution_count": null,
   "id": "b21dbd1b",
   "metadata": {},
   "outputs": [],
   "source": []
  },
  {
   "cell_type": "code",
   "execution_count": null,
   "id": "dd600195",
   "metadata": {},
   "outputs": [],
   "source": []
  },
  {
   "cell_type": "code",
   "execution_count": null,
   "id": "5fda0caa",
   "metadata": {},
   "outputs": [],
   "source": [
    "data_unseen = data.iloc[:, SYSTEMS_NUM:SYSTEMS_NUM+TEST_STATIONS][:TIMESTEPS_NUM].reset_index()\n",
    "\n",
    "capacities_unseen = uk_pv[uk_pv.ss_id_string.isin(data_unseen.columns)].set_index('ss_id_string')['kwp'].values * 1000\n",
    "stacked_unseen = mutils.stack_dataframe(data_unseen, lats, longs)\n",
    "\n",
    "del data,uk_pv\n",
    "\n",
    "X_unseen = np.array(stacked_unseen[['epoch', 'longitude', 'latitude']])\n",
    "Y_unseen = np.array(stacked_unseen[['PV']])\n",
    "\n",
    "t, R_unseen, Y_unseen = bayesnewton.utils.create_spatiotemporal_grid(X_unseen, Y_unseen)\n",
    "\n",
    "R_scaled_unseen = np.tile(R_scaler.transform(R_unseen[0]), (R_unseen.shape[0],1, 1)) #renormalise R and project across time\n",
    "\n"
   ]
  },
  {
   "cell_type": "code",
   "execution_count": null,
   "id": "2d368e6e",
   "metadata": {},
   "outputs": [],
   "source": [
    "time_scale = 20\n",
    "X_unseen_scaled = X_unseen\n",
    "X_unseen_scaled[:,0] = X_unseen[:,0] / time_scale"
   ]
  },
  {
   "cell_type": "code",
   "execution_count": null,
   "id": "bb920766",
   "metadata": {},
   "outputs": [],
   "source": []
  },
  {
   "cell_type": "code",
   "execution_count": null,
   "id": "60e94402",
   "metadata": {
    "scrolled": true
   },
   "outputs": [],
   "source": []
  },
  {
   "cell_type": "code",
   "execution_count": null,
   "id": "f27a0515",
   "metadata": {},
   "outputs": [],
   "source": []
  },
  {
   "cell_type": "code",
   "execution_count": null,
   "id": "e9fff914",
   "metadata": {},
   "outputs": [],
   "source": [
    "distances_neighbours"
   ]
  },
  {
   "cell_type": "code",
   "execution_count": null,
   "id": "ba30ad6f",
   "metadata": {
    "scrolled": true
   },
   "outputs": [],
   "source": [
    "cdist(R_train_scaled[0], R_scaled_unseen[0])"
   ]
  },
  {
   "cell_type": "code",
   "execution_count": null,
   "id": "629decf5",
   "metadata": {},
   "outputs": [],
   "source": [
    "def evaluate_IDW(power, time_factor, t_train, R_train, Y_train, t_test, R_test, Y_test, capacities_test):\n",
    "    '''\n",
    "    Function that calculates the IWD prediction for a single helf out system\n",
    "    power - power of distance metric\n",
    "    time_factor - factor that governs the weighted sum between time and space dimension\n",
    "    \n",
    "    returns:\n",
    "    - MAE of the predictor (averages over all systems)\n",
    "    - prediction for that specific location and timestep\n",
    "    \n",
    "    '''\n",
    "    \n",
    "    #NEW VECTORIZED WAY\n",
    "    space_distances = cdist(R_train, R_test)\n",
    "    time_distances = time_factor * cdist(t_train, t_test) \n",
    "\n",
    "    batch_size = 1\n",
    "    number_of_minibatches = int(len(time_distances) / batch_size)\n",
    "    time_indices_batches = np.array_split(time_distances, number_of_minibatches)\n",
    "    distances = np.add.outer(space_distances, time_indices_batches[0]).swapaxes(0,3)\n",
    "    for mini_batch in range(1, number_of_minibatches):\n",
    "        print(f'doing batch {mini_batch}')\n",
    "        dist = np.add.outer(space_distances, time_indices_batches[mini_batch]).swapaxes(0,3)\n",
    "        print(dist.shape)\n",
    "        distances = np.append(distances, dist, axis = 2)\n",
    "        \n",
    "    del space_distances, time_distances\n",
    "    weights = (1 / distances)** power\n",
    "    del distances\n",
    "    norm_weights = weights / np.sum(weights, axis = (2,3))[:,:, np.newaxis, np.newaxis]\n",
    "    del weights\n",
    "    predictions = np.sum(norm_weights * Y_train[np.newaxis,np.newaxis,:,:], axis = (2,3))\n",
    "    del norm_weights\n",
    "    Y_MW = Y_test * capacities_test\n",
    "    predicted_MW = predictions * capacities_test\n",
    "    MAE = np.sqrt(np.nanmean((Y_MW - predicted_MW)**2))\n",
    "    \n",
    "    return MAE, predictions"
   ]
  },
  {
   "cell_type": "code",
   "execution_count": null,
   "id": "751c99d0",
   "metadata": {},
   "outputs": [],
   "source": [
    "power = 2\n",
    "time_factor = 1/10\n",
    "MAE, predictions = evaluate_IDW(power, time_factor, t_train, R_train_scaled[0], Y_train[:,:,0], t, R_scaled_unseen[0], Y_unseen[:,:,0], capacities_unseen)\n"
   ]
  },
  {
   "cell_type": "code",
   "execution_count": null,
   "id": "2f6bec16",
   "metadata": {},
   "outputs": [],
   "source": []
  }
 ],
 "metadata": {
  "kernelspec": {
   "display_name": "Python 3 (ipykernel)",
   "language": "python",
   "name": "python3"
  },
  "language_info": {
   "codemirror_mode": {
    "name": "ipython",
    "version": 3
   },
   "file_extension": ".py",
   "mimetype": "text/x-python",
   "name": "python",
   "nbconvert_exporter": "python",
   "pygments_lexer": "ipython3",
   "version": "3.8.12"
  }
 },
 "nbformat": 4,
 "nbformat_minor": 5
}
