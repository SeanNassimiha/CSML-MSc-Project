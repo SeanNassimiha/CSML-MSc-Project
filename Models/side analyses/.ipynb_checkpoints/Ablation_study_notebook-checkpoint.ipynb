{
 "cells": [
  {
   "cell_type": "markdown",
   "id": "18bc82ec",
   "metadata": {},
   "source": [
    "# Ablation Study\n",
    "\n",
    "In this notebook I will perform an 'ablation' study, in which rather than training the systems jointly, I train the systems individually and (keeping everything else constant) and compare their prediction accuracies and uncertainty bounds. Doing so, I will be able to understand if it is actually beneficial to use the space dimension or not. \n"
   ]
  },
  {
   "cell_type": "code",
   "execution_count": 1,
   "id": "2d96e34e",
   "metadata": {},
   "outputs": [
    {
     "name": "stderr",
     "output_type": "stream",
     "text": [
      "/Users/SeanNassimiha/miniforge3/envs/mscjax_dev/lib/python3.8/site-packages/jax/_src/lib/__init__.py:33: UserWarning: JAX on Mac ARM machines is experimental and minimally tested. Please see https://github.com/google/jax/issues/5501 in the event of problems.\n",
      "  warnings.warn(\"JAX on Mac ARM machines is experimental and minimally tested. \"\n"
     ]
    }
   ],
   "source": [
    "import jax\n",
    "import objax\n",
    "import bayesnewton\n",
    "import numpy as np\n",
    "import matplotlib.pyplot as plt\n",
    "import matplotlib.cm as cm\n",
    "import pandas as pd\n",
    "from sklearn.preprocessing import StandardScaler\n",
    "from convertbng.util import convert_bng, convert_lonlat\n",
    "import time\n",
    "from sklearn.model_selection import train_test_split\n",
    "import datetime\n",
    "import math   \n",
    "\n",
    "import cv2\n",
    "import sys, os\n",
    "sys.path.append('../Utils')\n",
    "import model_utils as mutils\n",
    "import kernels_definitions as kerns\n",
    "%load_ext autoreload\n",
    "%autoreload 2"
   ]
  },
  {
   "cell_type": "code",
   "execution_count": 2,
   "id": "9c004eaa",
   "metadata": {},
   "outputs": [],
   "source": [
    "#DATA VARIABLES\n",
    "SYSTEMS_NUM = 40 #len(data.columns)\n",
    "TIMESTEPS_NUM = 5000 #len(data.index)\n",
    "TRAIN_FRAC = 0.9\n",
    "GRID_PIXELS = 20\n",
    "\n",
    "#OPTIMISATION VARIABLES\n",
    "LR_ADAM = 0.05\n",
    "LR_NEWTON = 0.5\n",
    "ITERS = 10\n",
    "\n",
    "#GP Variables\n",
    "VAR_Y = 1.\n",
    "VAR_F = 1.\n",
    "LEN_TIME = 20  # step size = 1 (hour)\n",
    "LEN_SPACE = 1.5 \n",
    "\n",
    "#Want to use a sparse approximation\n",
    "SPARSE = True\n",
    "#Should we optimise the inducing points\n",
    "OPT_Z = False  # will be set to False if SPARSE=False\n",
    "\n",
    "#use a mean field approximation?\n",
    "MEAN_FIELD = False\n",
    "MINI_BATCH_SIZE = None #none if you don't want them\n",
    "\n",
    "SPLIT_BY_DAY = False"
   ]
  },
  {
   "cell_type": "code",
   "execution_count": 3,
   "id": "34353cd5",
   "metadata": {},
   "outputs": [],
   "source": [
    "data =  pd.read_csv('../../Data/pv_power_df_5day_capacity_scaled.csv', index_col='datetime').drop(columns=['2657', '2828']) #DROPPING FAULTY SYSTEMS\n",
    "uk_pv = pd.read_csv('../../Data/system_metadata_location_rounded.csv')\n",
    "uk_pv['ss_id_string'] = uk_pv['ss_id'].astype('str')\n",
    "data_multiple = data.iloc[:, :SYSTEMS_NUM][:TIMESTEPS_NUM]\n",
    "#data_multiple.plot(legend=False)\n",
    "lats = dict(uk_pv.set_index('ss_id')['latitude_rounded'])\n",
    "longs = dict(uk_pv.set_index('ss_id')['longitude_rounded'])\n",
    "capacities = uk_pv[uk_pv.ss_id_string.isin(data_multiple.columns)].set_index('ss_id_string')['kwp'].values * 1000\n",
    "a = data_multiple.reset_index()\n",
    "stacked = mutils.stack_dataframe(a, lats, longs)\n"
   ]
  },
  {
   "cell_type": "code",
   "execution_count": 4,
   "id": "0d705c56",
   "metadata": {},
   "outputs": [],
   "source": [
    "X = np.array(stacked[['epoch', 'longitude', 'latitude']])\n",
    "Y = np.array(stacked[['PV']])\n",
    "\n",
    "# convert to easting and northings\n",
    "british_national_grid_coords = convert_bng(X[:, 1], X[:, 2])\n",
    "X = np.vstack([X[:, 0],\n",
    "              np.array(british_national_grid_coords[0]),\n",
    "              np.array(british_national_grid_coords[1])]).T"
   ]
  },
  {
   "cell_type": "code",
   "execution_count": 5,
   "id": "dc04a594",
   "metadata": {},
   "outputs": [
    {
     "name": "stderr",
     "output_type": "stream",
     "text": [
      "WARNING:absl:No GPU/TPU found, falling back to CPU. (Set TF_CPP_MIN_LOG_LEVEL=0 and rerun for more info.)\n"
     ]
    },
    {
     "data": {
      "text/plain": [
       "Text(0.5, 1.0, 'Grid of initial inducing points')"
      ]
     },
     "execution_count": 5,
     "metadata": {},
     "output_type": "execute_result"
    },
    {
     "data": {
      "image/png": "[encoded data removed]",
      "text/plain": [
       "<Figure size 432x288 with 1 Axes>"
      ]
     },
     "metadata": {
      "needs_background": "light"
     },
     "output_type": "display_data"
    }
   ],
   "source": [
    "#Create a space-time grid from X and Y\n",
    "t, R, Y = bayesnewton.utils.create_spatiotemporal_grid(X, Y)\n",
    "\n",
    "#train test split for 3 dimensional data\n",
    "t_train, t_test, R_train, R_test, Y_train, Y_test = mutils.train_split_3d(t, R, Y, train_frac = TRAIN_FRAC, split_by_day = SPLIT_BY_DAY)\n",
    "\n",
    "#get the mask of the test points\n",
    "test_mask = np.in1d(t.squeeze(), t_test.squeeze())\n",
    "\n",
    "#Scale the data\n",
    "scaled_values = mutils.scale_2d_train_test_data(R, Y, R_train, R_test, Y_train, Y_test )\n",
    "R_scaler, R_scaled, R_train_scaled, R_test_scaled, Y_scaler, Y_scaled, Y_train_scaled, Y_test_scaled = scaled_values\n",
    "\n",
    "#here get a list of scaled coordinates (frozen because at some point in time)\n",
    "R_scaled_frozen = R_scaled[0]\n",
    "\n",
    "#Create a grid to perform prediction/interpolation on\n",
    "r1, r2, Rplot = mutils.create_grid_from_coords(R = R_scaled_frozen, t = t, R_scaler = R_scaler, N_pixels = GRID_PIXELS)\n",
    "\n",
    "#z = mutils.create_ind_point_grid(R_scaled_frozen, n_points = None)\n",
    "z = R_scaled[0, ...] \n",
    "plt.scatter(*zip(*z), marker='o', s=30, color='red')\n",
    "plt.title('Grid of initial inducing points')\n",
    "\n",
    "\n"
   ]
  },
  {
   "cell_type": "code",
   "execution_count": 6,
   "id": "6439c012",
   "metadata": {},
   "outputs": [],
   "source": [
    "kern = bayesnewton.kernels.Matern32(variance=VAR_F,\n",
    "                            lengthscale=LEN_TIME)\n",
    "\n",
    "lik = bayesnewton.likelihoods.Gaussian(variance=VAR_Y)"
   ]
  },
  {
   "cell_type": "code",
   "execution_count": 7,
   "id": "731028fe",
   "metadata": {
    "scrolled": true
   },
   "outputs": [
    {
     "name": "stdout",
     "output_type": "stream",
     "text": [
      "Doing system 0\n"
     ]
    },
    {
     "name": "stderr",
     "output_type": "stream",
     "text": [
      "/Users/SeanNassimiha/miniforge3/envs/mscjax_dev/lib/python3.8/site-packages/jax/_src/numpy/lax_numpy.py:5373: UserWarning: 'kind' argument to argsort is ignored; only 'stable' sorts are supported.\n",
      "  warnings.warn(\"'kind' argument to argsort is ignored; only 'stable' sorts \"\n"
     ]
    },
    {
     "name": "stdout",
     "output_type": "stream",
     "text": [
      "optimisation time: 21.46 secs\n",
      "Doing system 1\n",
      "optimisation time: 6.05 secs\n",
      "Doing system 2\n",
      "optimisation time: 6.18 secs\n",
      "Doing system 3\n",
      "optimisation time: 6.53 secs\n",
      "Doing system 4\n",
      "optimisation time: 6.07 secs\n",
      "Doing system 5\n",
      "optimisation time: 6.06 secs\n",
      "Doing system 6\n",
      "optimisation time: 6.27 secs\n",
      "Doing system 7\n",
      "optimisation time: 6.66 secs\n",
      "Doing system 8\n",
      "optimisation time: 6.26 secs\n",
      "Doing system 9\n",
      "optimisation time: 6.13 secs\n",
      "Doing system 10\n",
      "optimisation time: 6.99 secs\n",
      "Doing system 11\n",
      "optimisation time: 6.04 secs\n",
      "Doing system 12\n",
      "optimisation time: 6.41 secs\n",
      "Doing system 13\n",
      "optimisation time: 6.30 secs\n",
      "Doing system 14\n",
      "optimisation time: 5.42 secs\n",
      "Doing system 15\n",
      "optimisation time: 5.68 secs\n",
      "Doing system 16\n",
      "optimisation time: 6.44 secs\n",
      "Doing system 17\n",
      "optimisation time: 6.89 secs\n",
      "Doing system 18\n",
      "optimisation time: 17.51 secs\n",
      "Doing system 19\n",
      "optimisation time: 6.73 secs\n",
      "Doing system 20\n",
      "optimisation time: 6.07 secs\n",
      "Doing system 21\n",
      "optimisation time: 6.13 secs\n",
      "Doing system 22\n",
      "optimisation time: 6.20 secs\n",
      "Doing system 23\n",
      "optimisation time: 6.23 secs\n",
      "Doing system 24\n",
      "optimisation time: 6.12 secs\n",
      "Doing system 25\n",
      "optimisation time: 6.09 secs\n",
      "Doing system 26\n",
      "optimisation time: 6.13 secs\n",
      "Doing system 27\n",
      "optimisation time: 6.26 secs\n",
      "Doing system 28\n",
      "optimisation time: 6.94 secs\n",
      "Doing system 29\n",
      "optimisation time: 7.10 secs\n",
      "Doing system 30\n",
      "optimisation time: 6.56 secs\n",
      "Doing system 31\n",
      "optimisation time: 7.06 secs\n",
      "Doing system 32\n",
      "optimisation time: 6.26 secs\n",
      "Doing system 33\n",
      "optimisation time: 6.50 secs\n",
      "Doing system 34\n",
      "optimisation time: 6.79 secs\n",
      "Doing system 35\n",
      "optimisation time: 6.73 secs\n",
      "Doing system 36\n",
      "optimisation time: 6.13 secs\n",
      "Doing system 37\n",
      "optimisation time: 6.20 secs\n",
      "Doing system 38\n",
      "optimisation time: 6.12 secs\n",
      "Doing system 39\n",
      "optimisation time: 6.50 secs\n"
     ]
    }
   ],
   "source": [
    "data_dict = {}\n",
    "for system_IDX in range(SYSTEMS_NUM):\n",
    "    print(f'Doing system {system_IDX}')\n",
    "    \n",
    "    if MEAN_FIELD:\n",
    "        model = bayesnewton.models.MarkovVariationalMeanFieldGP(kernel=kern, likelihood=lik, X=t_train, Y=Y_train_scaled[:, 0], parallel = True)\n",
    "    else:\n",
    "        model = bayesnewton.models.MarkovVariationalGP(kernel=kern, likelihood=lik, X=t_train, Y=Y_train_scaled[:, system_IDX], parallel = True)\n",
    "\n",
    "    opt_hypers = objax.optimizer.Adam(model.vars())\n",
    "    energy = objax.GradValues(model.energy, model.vars())\n",
    "\n",
    "    @objax.Function.with_vars(model.vars() + opt_hypers.vars())\n",
    "    def train_op(batch_ind = None):\n",
    "        model.inference(lr=LR_NEWTON, batch_ind = batch_ind)  # perform inference and update variational params\n",
    "        dE, E = energy()  # compute energy and its gradients w.r.t. hypers\n",
    "        opt_hypers(LR_ADAM, dE)\n",
    "        return E\n",
    "\n",
    "    # train_op = objax.Jit(train_op)\n",
    "\n",
    "    if MINI_BATCH_SIZE == None:\n",
    "        number_of_minibatches = 1\n",
    "        mini_batches_indices = [None] * number_of_minibatches\n",
    "    else:\n",
    "        number_of_minibatches = int(len(t_train) / MINI_BATCH_SIZE)\n",
    "        idx_set = np.arange(len(t_train))\n",
    "        np.random.shuffle(idx_set)\n",
    "        mini_batches_indices = np.array_split(idx_set, number_of_minibatches)\n",
    "\n",
    "\n",
    "    t0 = time.time()\n",
    "    for i in range(1, ITERS + 1):\n",
    "        for mini_batch in range(number_of_minibatches):\n",
    "            loss = train_op(mini_batches_indices[mini_batch])\n",
    "    t1 = time.time()\n",
    "    print('optimisation time: %2.2f secs' % (t1-t0))\n",
    "    avg_time_taken = (t1-t0)/ITERS\n",
    "\n",
    "    nlpd = model.negative_log_predictive_density(X=t_test,  Y=Y_test_scaled[:,system_IDX])\n",
    "\n",
    "    #GET THE SYSTEM SPECIFIC PREDICTIONS (NOT THE TOTAL INTERPOLATION)\n",
    "    posterior_mean_ts, posterior_var_ts = model.predict(X=t)\n",
    "    posterior_mean_ts, posterior_var_ts = posterior_mean_ts[:, np.newaxis], posterior_var_ts[:, np.newaxis]\n",
    "    posterior_mean_rescaled = Y_scaler.inverse_transform(posterior_mean_ts)\n",
    "    posterior_pos_twostd_rescaled = Y_scaler.inverse_transform(posterior_mean_ts + 1.96 * np.sqrt(posterior_var_ts))\n",
    "    posterior_neg_twostd_rescaled = Y_scaler.inverse_transform(posterior_mean_ts - 1.96 * np.sqrt(posterior_var_ts))\n",
    "\n",
    "    rescaled_Y = (Y * capacities[system_IDX])\n",
    "    doubly_rescaled_posterior = posterior_mean_rescaled * capacities\n",
    "\n",
    "    #adjust this for the correct quantities\n",
    "    rmse = np.sqrt(np.nanmean((np.squeeze(rescaled_Y) - np.squeeze(doubly_rescaled_posterior))**2))\n",
    "    rmse_train = np.sqrt(np.nanmean((np.squeeze(rescaled_Y[~test_mask]) - np.squeeze(doubly_rescaled_posterior[~test_mask]))**2))\n",
    "    rmse_test = np.sqrt(np.nanmean((np.squeeze(rescaled_Y[test_mask]) - np.squeeze(doubly_rescaled_posterior[test_mask]))**2))\n",
    "\n",
    "    avg_variance = posterior_var_ts.mean()\n",
    "    \n",
    "    \n",
    "    data_dict[system_IDX] = [rmse, rmse_train, rmse_test, avg_variance.item()]\n",
    "\n",
    "\n"
   ]
  },
  {
   "cell_type": "code",
   "execution_count": 8,
   "id": "6ee8589f",
   "metadata": {
    "scrolled": true
   },
   "outputs": [
    {
     "data": {
      "text/plain": [
       "rmse            635.179638\n",
       "rmse_train      636.345393\n",
       "rmse_test       624.498399\n",
       "avg_variance      0.017370\n",
       "dtype: float64"
      ]
     },
     "execution_count": 8,
     "metadata": {},
     "output_type": "execute_result"
    }
   ],
   "source": [
    "results = pd.DataFrame.from_dict(data_dict).T\n",
    "results.columns = ['rmse', 'rmse_train', 'rmse_test', 'avg_variance']\n",
    "results.mean()"
   ]
  },
  {
   "cell_type": "code",
   "execution_count": 12,
   "id": "3f776283",
   "metadata": {},
   "outputs": [
    {
     "data": {
      "text/plain": [
       "(300.0, 800.0)"
      ]
     },
     "execution_count": 12,
     "metadata": {},
     "output_type": "execute_result"
    },
    {
     "data": {
      "image/png": "[encoded data removed]",
      "text/plain": [
       "<Figure size 720x504 with 1 Axes>"
      ]
     },
     "metadata": {
      "needs_background": "light"
     },
     "output_type": "display_data"
    }
   ],
   "source": [
    "plt.figure(figsize=(10,7))\n",
    "plt.title(f'Prediction for system {i}')\n",
    "plt.plot(np.arange(len(Y)), Y[:,i], \"xk\")\n",
    "plt.plot(np.arange(len(Y)), posterior_mean_rescaled, c=\"C0\", lw=2, zorder=2)\n",
    "plt.fill_between(\n",
    "    np.arange(len(Y)),\n",
    "    posterior_neg_twostd_rescaled[:,0],\n",
    "    posterior_pos_twostd_rescaled[:,0],\n",
    "    color=\"C0\",\n",
    "    alpha=0.2)\n",
    "# plt.xticks(ticks = np.arange(len(Y))[0:-1:days_index], labels = a.datetime[0:-1:days_index].values, size=8)\n",
    "plt.xlim(300,800)"
   ]
  },
  {
   "cell_type": "code",
   "execution_count": null,
   "id": "b73f700c",
   "metadata": {},
   "outputs": [],
   "source": []
  }
 ],
 "metadata": {
  "kernelspec": {
   "display_name": "Python 3 (ipykernel)",
   "language": "python",
   "name": "python3"
  },
  "language_info": {
   "codemirror_mode": {
    "name": "ipython",
    "version": 3
   },
   "file_extension": ".py",
   "mimetype": "text/x-python",
   "name": "python",
   "nbconvert_exporter": "python",
   "pygments_lexer": "ipython3",
   "version": "3.10.5"
  }
 },
 "nbformat": 4,
 "nbformat_minor": 5
}
