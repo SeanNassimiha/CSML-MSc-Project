{
 "cells": [
  {
   "cell_type": "code",
   "execution_count": 1,
   "id": "e291ea72",
   "metadata": {},
   "outputs": [
    {
     "name": "stderr",
     "output_type": "stream",
     "text": [
      "/Users/SeanNassimiha/miniforge3/envs/mscjax_dev/lib/python3.8/site-packages/jax/_src/lib/__init__.py:33: UserWarning: JAX on Mac ARM machines is experimental and minimally tested. Please see https://github.com/google/jax/issues/5501 in the event of problems.\n",
      "  warnings.warn(\"JAX on Mac ARM machines is experimental and minimally tested. \"\n"
     ]
    }
   ],
   "source": [
    "import bayesnewton\n",
    "import numpy as np\n",
    "import matplotlib.pyplot as plt\n",
    "import matplotlib.cm as cm\n",
    "import pandas as pd\n",
    "from scipy.spatial.distance import cdist\n",
    "from bayes_opt import BayesianOptimization\n",
    "from sklearn.neighbors import NearestNeighbors\n",
    "from sklearn.preprocessing import StandardScaler\n",
    "\n",
    "import sys, os\n",
    "sys.path.append('../../Utils')\n",
    "import model_utils as mutils\n",
    "%load_ext autoreload\n",
    "%autoreload 2"
   ]
  },
  {
   "cell_type": "code",
   "execution_count": 2,
   "id": "68dddc69",
   "metadata": {},
   "outputs": [],
   "source": [
    "data =  pd.read_csv('../../../Data/pv_power_df_5day_capacity_scaled.csv', index_col='datetime').drop(columns=['2657', '2828']) #DROPPING FAULTY SYSTEMS\n",
    "uk_pv = pd.read_csv('../../../Data/system_metadata_location_rounded.csv')\n",
    "uk_pv['ss_id_string'] = uk_pv['ss_id'].astype('str')\n",
    "\n",
    "lats = dict(uk_pv.set_index('ss_id')['latitude_noisy'])\n",
    "longs = dict(uk_pv.set_index('ss_id')['longitude_noisy'])"
   ]
  },
  {
   "cell_type": "code",
   "execution_count": 3,
   "id": "6b7feadd",
   "metadata": {},
   "outputs": [],
   "source": [
    "#DATA VARIABLES\n",
    "# SYSTEMS_NUM = 400\n",
    "# TIMESTEPS_NUM = int(len(data) / 5)\n",
    "# TRAIN_FRAC = 0.9\n",
    "# TEST_STATIONS = 400\n",
    "\n",
    "\n",
    "# #DATA VARIABLES\n",
    "SYSTEMS_NUM = 700\n",
    "TIMESTEPS_NUM = len(data)\n",
    "TRAIN_FRAC = 0.9\n",
    "TEST_STATIONS = 179"
   ]
  },
  {
   "cell_type": "code",
   "execution_count": 4,
   "id": "c12a3061",
   "metadata": {},
   "outputs": [
    {
     "name": "stderr",
     "output_type": "stream",
     "text": [
      "WARNING:absl:No GPU/TPU found, falling back to CPU. (Set TF_CPP_MIN_LOG_LEVEL=0 and rerun for more info.)\n"
     ]
    }
   ],
   "source": [
    "#TRAIN\n",
    "data_multiple = data.iloc[:, :SYSTEMS_NUM][:TIMESTEPS_NUM].reset_index()\n",
    "capacities = uk_pv[uk_pv.ss_id_string.isin(data_multiple.columns)].set_index('ss_id_string')['kwp'].values * 1000\n",
    "stacked = mutils.stack_dataframe(data_multiple, lats, longs)\n",
    "X = np.array(stacked[['epoch', 'longitude', 'latitude']])\n",
    "Y = np.array(stacked[['PV']])\n",
    "#Create a space-time grid from X and Y\n",
    "t, R, Y = bayesnewton.utils.create_spatiotemporal_grid(X, Y)\n",
    "\n",
    "\n",
    "#TEST\n",
    "data_unseen = data.iloc[:, SYSTEMS_NUM:SYSTEMS_NUM+TEST_STATIONS][:TIMESTEPS_NUM].reset_index()\n",
    "capacities_unseen = uk_pv[uk_pv.ss_id_string.isin(data_unseen.columns)].set_index('ss_id_string')['kwp'].values * 1000\n",
    "stacked_unseen = mutils.stack_dataframe(data_unseen, lats, longs)\n",
    "X_unseen = np.array(stacked_unseen[['epoch', 'longitude', 'latitude']])\n",
    "Y_unseen = np.array(stacked_unseen[['PV']])\n",
    "t, R_unseen, Y_unseen = bayesnewton.utils.create_spatiotemporal_grid(X_unseen, Y_unseen)\n",
    "\n",
    "del data,uk_pv"
   ]
  },
  {
   "cell_type": "code",
   "execution_count": 5,
   "id": "79247939",
   "metadata": {},
   "outputs": [],
   "source": [
    "R_scaler = StandardScaler().fit(R[0])\n",
    "R_scaled = np.tile(R_scaler.transform(R[0]), (R.shape[0],1, 1)) #renormalise R and project across time\n",
    "R_scaled_unseen = np.tile(R_scaler.transform(R_unseen[0]), (R_unseen.shape[0],1, 1)) #renormalise R and project across time\n"
   ]
  },
  {
   "cell_type": "code",
   "execution_count": 6,
   "id": "686aa1de",
   "metadata": {},
   "outputs": [],
   "source": [
    "def evaluate_IDW(power, time_factor, neighbours_space, neighbours_time, t_train, R_train, Y_train, t_test, R_test, Y_test, capacities_test, mini_batch = 1024):\n",
    "    '''\n",
    "    Function that calculates the IWD prediction for a single helf out system\n",
    "    power - power of distance metric\n",
    "    time_factor - factor that governs the weighted sum between time and space dimension\n",
    "    \n",
    "    returns:\n",
    "    - MAE of the predictor (averages over all systems)\n",
    "    - prediction for that specific location and timestep\n",
    "    \n",
    "    '''\n",
    "    print('beginning IDW')\n",
    "    \n",
    "#     print('get space neighbours')\n",
    "    nbrs_space = NearestNeighbors(n_neighbors=neighbours_space, algorithm='ball_tree').fit(R_train)\n",
    "    distances_neighbours_space, idx_neighbours_space = nbrs_space.kneighbors(R_test)\n",
    "    \n",
    "    nbrs_time = NearestNeighbors(n_neighbors=neighbours_time, algorithm = 'kd_tree', p=1).fit(t_train)\n",
    "    distances_neighbours_time, idx_neighbours_time = nbrs_time.kneighbors(t_test)\n",
    "    \n",
    "    predictions_list = []\n",
    "    MAE_list = []\n",
    "    Y_MW = Y_test * capacities_test\n",
    "    \n",
    "    for first in range(0, len(distances_neighbours_time), mini_batch):\n",
    "        distances_neighbours_time_batch = distances_neighbours_time[first:first+mini_batch]\n",
    "        idx_neighbours_time_batch = idx_neighbours_time[first:first+mini_batch]\n",
    "        len_batch = len(distances_neighbours_time_batch)\n",
    "        distances = np.add.outer(distances_neighbours_space.T, distances_neighbours_time_batch.T).swapaxes(0,3)\n",
    "        weights = (1 / distances)** power\n",
    "        del distances\n",
    "        norm_weights = weights / np.sum(weights, axis = (2,3))[:,:, np.newaxis, np.newaxis]\n",
    "        del weights\n",
    "        y_neighbours = Y_train[idx_neighbours_time_batch][:,:, idx_neighbours_space].swapaxes(1,2)\n",
    "        \n",
    "        prediction = np.sum(norm_weights * y_neighbours, axis = (2,3)) \n",
    "        predictions_list.append(prediction)\n",
    "        del norm_weights\n",
    "\n",
    "    predictions = np.vstack(predictions_list)\n",
    "    MAE = (np.nanmean((abs(Y_test - predictions) * capacities_test)))\n",
    "        \n",
    "    print('Terminated IDW')\n",
    "    \n",
    "    return predictions, MAE\n",
    "\n"
   ]
  },
  {
   "cell_type": "code",
   "execution_count": 7,
   "id": "c43fae53",
   "metadata": {
    "scrolled": true
   },
   "outputs": [
    {
     "name": "stdout",
     "output_type": "stream",
     "text": [
      "beginning IDW\n",
      "Terminated IDW\n"
     ]
    },
    {
     "data": {
      "text/plain": [
       "[<matplotlib.lines.Line2D at 0x17a02c820>]"
      ]
     },
     "execution_count": 7,
     "metadata": {},
     "output_type": "execute_result"
    },
    {
     "data": {
      "image/png": "[encoded data removed]",
      "text/plain": [
       "<Figure size 432x288 with 1 Axes>"
      ]
     },
     "metadata": {
      "needs_background": "light"
     },
     "output_type": "display_data"
    }
   ],
   "source": [
    "power = 2\n",
    "time_factor = 1/10\n",
    "neighbours_space = 20\n",
    "neighbours_time = 50\n",
    "predictions, MAE = evaluate_IDW(power, time_factor, neighbours_space, neighbours_time, t, R_scaled[0], Y[:,:,0], t, R_scaled_unseen[0], Y_unseen[:,:,0], capacities_unseen)\n",
    "plt.plot(predictions[:,10])\n",
    "plt.plot(Y_unseen[:,10])"
   ]
  },
  {
   "cell_type": "code",
   "execution_count": 8,
   "id": "9e66edf3",
   "metadata": {},
   "outputs": [],
   "source": [
    "def opt_IDW(power, time_factor, n_space, n_time):\n",
    "    '''\n",
    "    Wrapper function for bayesian opt of evaluate IDW\n",
    "    '''\n",
    "    \n",
    "    neighbours_space = int(n_space)\n",
    "    neighbours_time = int(n_time)\n",
    "    \n",
    "    predictions, MAE = evaluate_IDW(power, time_factor, neighbours_space, neighbours_time, t, R_scaled[0], Y[:,:,0], t, R_scaled_unseen[0], Y_unseen[:,:,0], capacities_unseen)\n",
    "    #return the negative value \n",
    "    return - MAE\n",
    "\n"
   ]
  },
  {
   "cell_type": "code",
   "execution_count": 9,
   "id": "bcf408c2",
   "metadata": {
    "scrolled": false
   },
   "outputs": [
    {
     "name": "stdout",
     "output_type": "stream",
     "text": [
      "|   iter    |  target   |  n_space  |  n_time   |   power   | time_f... |\n",
      "-------------------------------------------------------------------------\n",
      "beginning IDW\n",
      "Terminated IDW\n",
      "| \u001b[0m 1       \u001b[0m | \u001b[0m-440.4   \u001b[0m | \u001b[0m 4.285   \u001b[0m | \u001b[0m 10.83   \u001b[0m | \u001b[0m 4.939   \u001b[0m | \u001b[0m 0.5213  \u001b[0m |\n",
      "beginning IDW\n",
      "Terminated IDW\n",
      "| \u001b[0m 2       \u001b[0m | \u001b[0m-442.7   \u001b[0m | \u001b[0m 3.375   \u001b[0m | \u001b[0m 22.97   \u001b[0m | \u001b[0m 4.768   \u001b[0m | \u001b[0m 0.1571  \u001b[0m |\n",
      "beginning IDW\n",
      "Terminated IDW\n",
      "| \u001b[95m 3       \u001b[0m | \u001b[95m-418.0   \u001b[0m | \u001b[95m 6.398   \u001b[0m | \u001b[95m 6.579   \u001b[0m | \u001b[95m 2.383   \u001b[0m | \u001b[95m 0.4989  \u001b[0m |\n",
      "beginning IDW\n",
      "Terminated IDW\n",
      "| \u001b[95m 4       \u001b[0m | \u001b[95m-399.5   \u001b[0m | \u001b[95m 10.24   \u001b[0m | \u001b[95m 21.36   \u001b[0m | \u001b[95m 1.367   \u001b[0m | \u001b[95m 0.3634  \u001b[0m |\n",
      "beginning IDW\n",
      "Terminated IDW\n",
      "| \u001b[0m 5       \u001b[0m | \u001b[0m-400.8   \u001b[0m | \u001b[0m 12.62   \u001b[0m | \u001b[0m 27.42   \u001b[0m | \u001b[0m 0.4768  \u001b[0m | \u001b[0m 0.1403  \u001b[0m |\n",
      "beginning IDW\n",
      "Terminated IDW\n",
      "| \u001b[0m 6       \u001b[0m | \u001b[0m-434.8   \u001b[0m | \u001b[0m 11.73   \u001b[0m | \u001b[0m 49.54   \u001b[0m | \u001b[0m 4.651   \u001b[0m | \u001b[0m 0.5939  \u001b[0m |\n",
      "beginning IDW\n",
      "Terminated IDW\n",
      "| \u001b[0m 7       \u001b[0m | \u001b[0m-416.5   \u001b[0m | \u001b[0m 4.18    \u001b[0m | \u001b[0m 33.88   \u001b[0m | \u001b[0m 0.1453  \u001b[0m | \u001b[0m 0.2856  \u001b[0m |\n",
      "beginning IDW\n",
      "Terminated IDW\n",
      "| \u001b[95m 8       \u001b[0m | \u001b[95m-398.2   \u001b[0m | \u001b[95m 12.11   \u001b[0m | \u001b[95m 23.97   \u001b[0m | \u001b[95m 0.5578  \u001b[0m | \u001b[95m 0.2862  \u001b[0m |\n",
      "beginning IDW\n",
      "Terminated IDW\n",
      "| \u001b[0m 9       \u001b[0m | \u001b[0m-403.2   \u001b[0m | \u001b[0m 15.93   \u001b[0m | \u001b[0m 18.51   \u001b[0m | \u001b[0m 0.01    \u001b[0m | \u001b[0m 0.597   \u001b[0m |\n",
      "beginning IDW\n",
      "Terminated IDW\n",
      "| \u001b[0m 10      \u001b[0m | \u001b[0m-436.6   \u001b[0m | \u001b[0m 19.03   \u001b[0m | \u001b[0m 25.46   \u001b[0m | \u001b[0m 5.0     \u001b[0m | \u001b[0m 1.0     \u001b[0m |\n",
      "beginning IDW\n",
      "Terminated IDW\n",
      "| \u001b[0m 11      \u001b[0m | \u001b[0m-401.9   \u001b[0m | \u001b[0m 11.59   \u001b[0m | \u001b[0m 15.75   \u001b[0m | \u001b[0m 0.01    \u001b[0m | \u001b[0m 1.0     \u001b[0m |\n",
      "beginning IDW\n",
      "Terminated IDW\n",
      "| \u001b[0m 12      \u001b[0m | \u001b[0m-401.1   \u001b[0m | \u001b[0m 17.56   \u001b[0m | \u001b[0m 8.564   \u001b[0m | \u001b[0m 0.01    \u001b[0m | \u001b[0m 0.01    \u001b[0m |\n",
      "beginning IDW\n",
      "Terminated IDW\n",
      "| \u001b[0m 13      \u001b[0m | \u001b[0m-436.5   \u001b[0m | \u001b[0m 20.0    \u001b[0m | \u001b[0m 5.0     \u001b[0m | \u001b[0m 5.0     \u001b[0m | \u001b[0m 1.0     \u001b[0m |\n",
      "beginning IDW\n",
      "Terminated IDW\n",
      "| \u001b[0m 14      \u001b[0m | \u001b[0m-403.1   \u001b[0m | \u001b[0m 19.96   \u001b[0m | \u001b[0m 13.46   \u001b[0m | \u001b[0m 0.01    \u001b[0m | \u001b[0m 0.01    \u001b[0m |\n",
      "beginning IDW\n",
      "Terminated IDW\n",
      "| \u001b[0m 15      \u001b[0m | \u001b[0m-411.8   \u001b[0m | \u001b[0m 14.25   \u001b[0m | \u001b[0m 35.83   \u001b[0m | \u001b[0m 0.01    \u001b[0m | \u001b[0m 0.01    \u001b[0m |\n",
      "beginning IDW\n",
      "Terminated IDW\n",
      "| \u001b[0m 16      \u001b[0m | \u001b[0m-401.0   \u001b[0m | \u001b[0m 13.42   \u001b[0m | \u001b[0m 10.55   \u001b[0m | \u001b[0m 0.01    \u001b[0m | \u001b[0m 0.01    \u001b[0m |\n",
      "beginning IDW\n",
      "Terminated IDW\n",
      "| \u001b[0m 17      \u001b[0m | \u001b[0m-436.0   \u001b[0m | \u001b[0m 2.002   \u001b[0m | \u001b[0m 47.38   \u001b[0m | \u001b[0m 0.08581 \u001b[0m | \u001b[0m 0.8727  \u001b[0m |\n",
      "beginning IDW\n",
      "Terminated IDW\n",
      "| \u001b[0m 18      \u001b[0m | \u001b[0m-404.0   \u001b[0m | \u001b[0m 19.98   \u001b[0m | \u001b[0m 42.99   \u001b[0m | \u001b[0m 0.6011  \u001b[0m | \u001b[0m 0.1454  \u001b[0m |\n",
      "beginning IDW\n",
      "Terminated IDW\n",
      "| \u001b[0m 19      \u001b[0m | \u001b[0m-436.5   \u001b[0m | \u001b[0m 20.0    \u001b[0m | \u001b[0m 38.87   \u001b[0m | \u001b[0m 5.0     \u001b[0m | \u001b[0m 1.0     \u001b[0m |\n",
      "beginning IDW\n",
      "Terminated IDW\n",
      "| \u001b[0m 20      \u001b[0m | \u001b[0m-406.3   \u001b[0m | \u001b[0m 19.95   \u001b[0m | \u001b[0m 49.21   \u001b[0m | \u001b[0m 0.5946  \u001b[0m | \u001b[0m 0.707   \u001b[0m |\n",
      "beginning IDW\n",
      "Terminated IDW\n",
      "| \u001b[0m 21      \u001b[0m | \u001b[0m-436.7   \u001b[0m | \u001b[0m 15.25   \u001b[0m | \u001b[0m 14.68   \u001b[0m | \u001b[0m 5.0     \u001b[0m | \u001b[0m 0.01    \u001b[0m |\n",
      "beginning IDW\n",
      "Terminated IDW\n",
      "| \u001b[0m 22      \u001b[0m | \u001b[0m-399.4   \u001b[0m | \u001b[0m 12.58   \u001b[0m | \u001b[0m 5.0     \u001b[0m | \u001b[0m 0.01    \u001b[0m | \u001b[0m 0.01    \u001b[0m |\n",
      "beginning IDW\n",
      "Terminated IDW\n",
      "| \u001b[0m 23      \u001b[0m | \u001b[0m-409.6   \u001b[0m | \u001b[0m 8.613   \u001b[0m | \u001b[0m 26.52   \u001b[0m | \u001b[0m 0.01    \u001b[0m | \u001b[0m 1.0     \u001b[0m |\n",
      "beginning IDW\n",
      "Terminated IDW\n",
      "| \u001b[0m 24      \u001b[0m | \u001b[0m-404.7   \u001b[0m | \u001b[0m 12.06   \u001b[0m | \u001b[0m 20.36   \u001b[0m | \u001b[0m 0.01    \u001b[0m | \u001b[0m 1.0     \u001b[0m |\n",
      "beginning IDW\n",
      "Terminated IDW\n",
      "| \u001b[0m 25      \u001b[0m | \u001b[0m-437.1   \u001b[0m | \u001b[0m 10.43   \u001b[0m | \u001b[0m 31.65   \u001b[0m | \u001b[0m 5.0     \u001b[0m | \u001b[0m 0.01    \u001b[0m |\n",
      "beginning IDW\n",
      "Terminated IDW\n",
      "| \u001b[0m 26      \u001b[0m | \u001b[0m-417.1   \u001b[0m | \u001b[0m 14.97   \u001b[0m | \u001b[0m 43.35   \u001b[0m | \u001b[0m 0.01    \u001b[0m | \u001b[0m 0.01    \u001b[0m |\n",
      "beginning IDW\n",
      "Terminated IDW\n",
      "| \u001b[0m 27      \u001b[0m | \u001b[0m-405.6   \u001b[0m | \u001b[0m 7.402   \u001b[0m | \u001b[0m 17.82   \u001b[0m | \u001b[0m 0.01    \u001b[0m | \u001b[0m 0.01    \u001b[0m |\n",
      "beginning IDW\n",
      "Terminated IDW\n",
      "| \u001b[0m 28      \u001b[0m | \u001b[0m-405.6   \u001b[0m | \u001b[0m 20.0    \u001b[0m | \u001b[0m 19.33   \u001b[0m | \u001b[0m 0.01    \u001b[0m | \u001b[0m 0.01    \u001b[0m |\n",
      "beginning IDW\n",
      "Terminated IDW\n",
      "| \u001b[0m 29      \u001b[0m | \u001b[0m-399.8   \u001b[0m | \u001b[0m 10.52   \u001b[0m | \u001b[0m 8.02    \u001b[0m | \u001b[0m 0.01    \u001b[0m | \u001b[0m 1.0     \u001b[0m |\n",
      "beginning IDW\n",
      "Terminated IDW\n",
      "| \u001b[0m 30      \u001b[0m | \u001b[0m-406.5   \u001b[0m | \u001b[0m 16.07   \u001b[0m | \u001b[0m 25.52   \u001b[0m | \u001b[0m 0.01    \u001b[0m | \u001b[0m 0.01    \u001b[0m |\n",
      "beginning IDW\n",
      "Terminated IDW\n",
      "| \u001b[0m 31      \u001b[0m | \u001b[0m-436.5   \u001b[0m | \u001b[0m 20.0    \u001b[0m | \u001b[0m 48.06   \u001b[0m | \u001b[0m 5.0     \u001b[0m | \u001b[0m 0.01    \u001b[0m |\n",
      "beginning IDW\n",
      "Terminated IDW\n",
      "| \u001b[0m 32      \u001b[0m | \u001b[0m-412.2   \u001b[0m | \u001b[0m 20.0    \u001b[0m | \u001b[0m 32.64   \u001b[0m | \u001b[0m 0.01    \u001b[0m | \u001b[0m 0.01    \u001b[0m |\n",
      "beginning IDW\n",
      "Terminated IDW\n",
      "| \u001b[0m 33      \u001b[0m | \u001b[0m-398.2   \u001b[0m | \u001b[0m 14.16   \u001b[0m | \u001b[0m 7.197   \u001b[0m | \u001b[0m 0.1552  \u001b[0m | \u001b[0m 0.8688  \u001b[0m |\n",
      "beginning IDW\n",
      "Terminated IDW\n",
      "| \u001b[0m 34      \u001b[0m | \u001b[0m-401.2   \u001b[0m | \u001b[0m 16.35   \u001b[0m | \u001b[0m 13.11   \u001b[0m | \u001b[0m 0.01    \u001b[0m | \u001b[0m 1.0     \u001b[0m |\n",
      "beginning IDW\n",
      "Terminated IDW\n",
      "| \u001b[0m 35      \u001b[0m | \u001b[0m-423.7   \u001b[0m | \u001b[0m 2.0     \u001b[0m | \u001b[0m 5.0     \u001b[0m | \u001b[0m 0.01    \u001b[0m | \u001b[0m 1.0     \u001b[0m |\n",
      "beginning IDW\n",
      "Terminated IDW\n",
      "| \u001b[0m 36      \u001b[0m | \u001b[0m-407.0   \u001b[0m | \u001b[0m 9.315   \u001b[0m | \u001b[0m 22.54   \u001b[0m | \u001b[0m 0.01    \u001b[0m | \u001b[0m 0.01    \u001b[0m |\n",
      "beginning IDW\n",
      "Terminated IDW\n",
      "| \u001b[0m 37      \u001b[0m | \u001b[0m-434.9   \u001b[0m | \u001b[0m 11.7    \u001b[0m | \u001b[0m 23.17   \u001b[0m | \u001b[0m 4.657   \u001b[0m | \u001b[0m 0.4981  \u001b[0m |\n",
      "beginning IDW\n",
      "Terminated IDW\n",
      "| \u001b[0m 38      \u001b[0m | \u001b[0m-431.4   \u001b[0m | \u001b[0m 11.66   \u001b[0m | \u001b[0m 5.029   \u001b[0m | \u001b[0m 4.171   \u001b[0m | \u001b[0m 0.755   \u001b[0m |\n",
      "beginning IDW\n",
      "Terminated IDW\n",
      "| \u001b[0m 39      \u001b[0m | \u001b[0m-403.1   \u001b[0m | \u001b[0m 8.83    \u001b[0m | \u001b[0m 12.47   \u001b[0m | \u001b[0m 0.01    \u001b[0m | \u001b[0m 0.01    \u001b[0m |\n",
      "beginning IDW\n",
      "Terminated IDW\n",
      "| \u001b[0m 40      \u001b[0m | \u001b[0m-450.6   \u001b[0m | \u001b[0m 2.0     \u001b[0m | \u001b[0m 38.81   \u001b[0m | \u001b[0m 5.0     \u001b[0m | \u001b[0m 0.01    \u001b[0m |\n",
      "beginning IDW\n",
      "Terminated IDW\n",
      "| \u001b[0m 41      \u001b[0m | \u001b[0m-409.0   \u001b[0m | \u001b[0m 14.94   \u001b[0m | \u001b[0m 30.71   \u001b[0m | \u001b[0m 0.01    \u001b[0m | \u001b[0m 1.0     \u001b[0m |\n",
      "beginning IDW\n",
      "Terminated IDW\n",
      "| \u001b[0m 42      \u001b[0m | \u001b[0m-400.0   \u001b[0m | \u001b[0m 17.03   \u001b[0m | \u001b[0m 5.384   \u001b[0m | \u001b[0m 0.07337 \u001b[0m | \u001b[0m 0.9814  \u001b[0m |\n",
      "beginning IDW\n",
      "Terminated IDW\n",
      "| \u001b[0m 43      \u001b[0m | \u001b[0m-404.0   \u001b[0m | \u001b[0m 18.85   \u001b[0m | \u001b[0m 16.27   \u001b[0m | \u001b[0m 0.01    \u001b[0m | \u001b[0m 1.0     \u001b[0m |\n",
      "beginning IDW\n",
      "Terminated IDW\n",
      "| \u001b[0m 44      \u001b[0m | \u001b[0m-421.1   \u001b[0m | \u001b[0m 20.0    \u001b[0m | \u001b[0m 46.01   \u001b[0m | \u001b[0m 0.01    \u001b[0m | \u001b[0m 0.01    \u001b[0m |\n",
      "beginning IDW\n",
      "Terminated IDW\n",
      "| \u001b[0m 45      \u001b[0m | \u001b[0m-416.4   \u001b[0m | \u001b[0m 18.62   \u001b[0m | \u001b[0m 40.03   \u001b[0m | \u001b[0m 0.0234  \u001b[0m | \u001b[0m 0.6568  \u001b[0m |\n",
      "beginning IDW\n",
      "Terminated IDW\n",
      "| \u001b[0m 46      \u001b[0m | \u001b[0m-422.7   \u001b[0m | \u001b[0m 16.47   \u001b[0m | \u001b[0m 50.0    \u001b[0m | \u001b[0m 0.01    \u001b[0m | \u001b[0m 1.0     \u001b[0m |\n",
      "beginning IDW\n",
      "Terminated IDW\n",
      "| \u001b[0m 47      \u001b[0m | \u001b[0m-416.3   \u001b[0m | \u001b[0m 9.775   \u001b[0m | \u001b[0m 39.06   \u001b[0m | \u001b[0m 0.01    \u001b[0m | \u001b[0m 1.0     \u001b[0m |\n",
      "beginning IDW\n",
      "Terminated IDW\n",
      "| \u001b[0m 48      \u001b[0m | \u001b[0m-418.2   \u001b[0m | \u001b[0m 9.341   \u001b[0m | \u001b[0m 17.65   \u001b[0m | \u001b[0m 2.679   \u001b[0m | \u001b[0m 1.0     \u001b[0m |\n",
      "beginning IDW\n",
      "Terminated IDW\n",
      "| \u001b[0m 49      \u001b[0m | \u001b[0m-425.8   \u001b[0m | \u001b[0m 2.0     \u001b[0m | \u001b[0m 16.12   \u001b[0m | \u001b[0m 0.01    \u001b[0m | \u001b[0m 1.0     \u001b[0m |\n",
      "beginning IDW\n",
      "Terminated IDW\n",
      "| \u001b[0m 50      \u001b[0m | \u001b[0m-429.7   \u001b[0m | \u001b[0m 2.0     \u001b[0m | \u001b[0m 29.15   \u001b[0m | \u001b[0m 0.01    \u001b[0m | \u001b[0m 1.0     \u001b[0m |\n",
      "beginning IDW\n",
      "Terminated IDW\n",
      "| \u001b[0m 51      \u001b[0m | \u001b[0m-401.3   \u001b[0m | \u001b[0m 14.47   \u001b[0m | \u001b[0m 15.27   \u001b[0m | \u001b[0m 0.01    \u001b[0m | \u001b[0m 0.01    \u001b[0m |\n",
      "beginning IDW\n",
      "Terminated IDW\n",
      "| \u001b[0m 52      \u001b[0m | \u001b[0m-409.9   \u001b[0m | \u001b[0m 10.05   \u001b[0m | \u001b[0m 31.49   \u001b[0m | \u001b[0m 0.01    \u001b[0m | \u001b[0m 1.0     \u001b[0m |\n",
      "beginning IDW\n",
      "Terminated IDW\n",
      "| \u001b[0m 53      \u001b[0m | \u001b[0m-401.1   \u001b[0m | \u001b[0m 11.62   \u001b[0m | \u001b[0m 12.43   \u001b[0m | \u001b[0m 0.01    \u001b[0m | \u001b[0m 1.0     \u001b[0m |\n",
      "beginning IDW\n",
      "Terminated IDW\n",
      "| \u001b[0m 54      \u001b[0m | \u001b[0m-407.0   \u001b[0m | \u001b[0m 13.06   \u001b[0m | \u001b[0m 25.56   \u001b[0m | \u001b[0m 0.01    \u001b[0m | \u001b[0m 1.0     \u001b[0m |\n",
      "beginning IDW\n"
     ]
    },
    {
     "name": "stdout",
     "output_type": "stream",
     "text": [
      "Terminated IDW\n",
      "| \u001b[0m 55      \u001b[0m | \u001b[0m-407.4   \u001b[0m | \u001b[0m 20.0    \u001b[0m | \u001b[0m 23.78   \u001b[0m | \u001b[0m 0.01    \u001b[0m | \u001b[0m 0.01    \u001b[0m |\n",
      "beginning IDW\n",
      "Terminated IDW\n",
      "| \u001b[0m 56      \u001b[0m | \u001b[0m-402.3   \u001b[0m | \u001b[0m 20.0    \u001b[0m | \u001b[0m 9.878   \u001b[0m | \u001b[0m 0.01    \u001b[0m | \u001b[0m 1.0     \u001b[0m |\n",
      "=========================================================================\n",
      "final result {'target': -398.15493713989815, 'params': {'n_space': 12.105410668446256, 'n_time': 23.96659623838571, 'power': 0.5578273740300137, 'time_factor': 0.2862407829749734}}\n"
     ]
    }
   ],
   "source": [
    "optimiser = BayesianOptimization(\n",
    "        f = opt_IDW,\n",
    "        pbounds = {'power' : (0.01, 5), 'time_factor': (0.01, 1), 'n_space': (2, 20), 'n_time': (5, 50)},\n",
    "        verbose = 2\n",
    "        )\n",
    "optimiser.maximize(n_iter = 50, init_points = 6)\n",
    "print('final result',optimiser.max)"
   ]
  },
  {
   "cell_type": "code",
   "execution_count": null,
   "id": "6008516e",
   "metadata": {},
   "outputs": [],
   "source": []
  },
  {
   "cell_type": "code",
   "execution_count": 10,
   "id": "3106bcd6",
   "metadata": {},
   "outputs": [],
   "source": [
    "# nbrs_time = NearestNeighbors(n_neighbors=10, algorithm = 'kd_tree', p=1).fit(t)\n",
    "# distances_neighbours_time, idx_neighbours_time = nbrs_time.kneighbors(t)\n",
    "\n",
    "# def get_time_neighbours(t, window_size):\n",
    "#     '''\n",
    "#     Function that gets the neigbour indices and distances for a vector of 1 increments starting at 0\n",
    "#     '''\n",
    "    \n",
    "#     t_array = np.zeros((len(t)- window_size + 1, window_size))\n",
    "#     for i in range(len(t) - window_size + 1):\n",
    "#         t_array[i] = t[i: i + window_size]\n",
    "#     t_array = t_array.astype('int')\n",
    "\n",
    "#     idx_array = np.ones(len(t_array)).astype('int')\n",
    "#     idx_array[0] = int(window_size/2) + 1\n",
    "#     idx_array[-1] = int(window_size/2) + 1\n",
    "#     neighbours_idx = np.repeat(t_array, repeats = idx_array, axis=0).astype('int')\n",
    "#     distances_neighbours = abs(neighbours_idx - t)\n",
    "    \n",
    "#     return neighbours_idx, distances_neighbours\n",
    "\n",
    "# get_time_neighbours(t = t[:,0], window_size = 10)"
   ]
  }
 ],
 "metadata": {
  "kernelspec": {
   "display_name": "Python 3 (ipykernel)",
   "language": "python",
   "name": "python3"
  },
  "language_info": {
   "codemirror_mode": {
    "name": "ipython",
    "version": 3
   },
   "file_extension": ".py",
   "mimetype": "text/x-python",
   "name": "python",
   "nbconvert_exporter": "python",
   "pygments_lexer": "ipython3",
   "version": "3.8.12"
  }
 },
 "nbformat": 4,
 "nbformat_minor": 5
}
