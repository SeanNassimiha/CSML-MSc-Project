{
 "cells": [
  {
   "cell_type": "code",
   "execution_count": 41,
   "id": "c54b95dc",
   "metadata": {},
   "outputs": [],
   "source": [
    "import fiona\n",
    "adm = fiona.open(\"../../../Data/polygon_uk_top_level\")\n",
    "#should be a single feature - the whole country\n",
    "import matplotlib.pyplot as plt"
   ]
  },
  {
   "cell_type": "code",
   "execution_count": 51,
   "id": "368137f3",
   "metadata": {},
   "outputs": [
    {
     "data": {
      "text/plain": [
       "920"
      ]
     },
     "execution_count": 51,
     "metadata": {},
     "output_type": "execute_result"
    }
   ],
   "source": [
    "len(geom['coordinates']"
   ]
  },
  {
   "cell_type": "code",
   "execution_count": 60,
   "id": "239c1eb2",
   "metadata": {},
   "outputs": [
    {
     "data": {
      "text/plain": [
       "[[(0.0078124674037098885, 61.52552413940424),\n",
       "  (0.006249969825091739, 61.52500152587902),\n",
       "  (0.004687472712248564, 61.52552413940424),\n",
       "  (0.004687472712248564, 61.526565551757756),\n",
       "  (0.006249969825091739, 61.52708435058605),\n",
       "  (0.0078124674037098885, 61.526565551757756),\n",
       "  (0.0078124674037098885, 61.52552413940424)]]"
      ]
     },
     "execution_count": 60,
     "metadata": {},
     "output_type": "execute_result"
    }
   ],
   "source": [
    "geom['coordinates'][-1]"
   ]
  },
  {
   "cell_type": "code",
   "execution_count": 61,
   "id": "357b1a43",
   "metadata": {},
   "outputs": [
    {
     "data": {
      "text/plain": [
       "False"
      ]
     },
     "execution_count": 61,
     "metadata": {},
     "output_type": "execute_result"
    }
   ],
   "source": [
    "point = Feature(geometry=Point((0.05, 61.526)))\n",
    "polygon = Polygon(geom['coordinates'][-1])\n",
    "boolean_point_in_polygon(point, polygon)\n"
   ]
  },
  {
   "cell_type": "code",
   "execution_count": null,
   "id": "ab9c3a12",
   "metadata": {},
   "outputs": [],
   "source": [
    "lons_lats_vect = np.column_stack((lons_vect, lats_vect)) # Reshape coordinates\n",
    "polygon = Polygon(lons_lats_vect) # create polygon\n",
    "point = Point(y,x) # create point\n",
    "print(polygon.contains(point)) # check if polygon contains point\n",
    "print(point.within(polygon)) # check if a point is in the polygon "
   ]
  },
  {
   "cell_type": "code",
   "execution_count": 44,
   "id": "d5f16891",
   "metadata": {},
   "outputs": [],
   "source": [
    "polygons = []\n",
    "\n",
    "for feature in adm:\n",
    "    geom = feature[\"geometry\"] \n",
    "    #geom[\"type\"] should be MultiPolygon\n",
    "    for polygon in geom[\"coordinates\"]:\n",
    "        polygons.append(polygon)\n",
    "\n"
   ]
  },
  {
   "cell_type": "code",
   "execution_count": 2,
   "id": "38e52173",
   "metadata": {},
   "outputs": [],
   "source": [
    "import numpy as np"
   ]
  },
  {
   "cell_type": "code",
   "execution_count": 7,
   "id": "9efceb06",
   "metadata": {},
   "outputs": [
    {
     "name": "stdout",
     "output_type": "stream",
     "text": [
      "ERROR! Session/line number was not unique in database. History logging moved to new session 541\n"
     ]
    }
   ],
   "source": [
    "from turfpy.measurement import boolean_point_in_polygon\n"
   ]
  },
  {
   "cell_type": "code",
   "execution_count": 3,
   "id": "e2e84047",
   "metadata": {},
   "outputs": [],
   "source": [
    "i = 0\n",
    "coordinates = []\n",
    "for feature in adm:\n",
    "    geom = feature[\"geometry\"] \n",
    "    #geom[\"type\"] should be MultiPolygon\n",
    "    for polygon in geom[\"coordinates\"]:\n",
    "        for ring in polygon:\n",
    "            i+=1\n",
    "            coordinates.append(ring)\n",
    "                \n",
    "#                 print(coordinate[0], coordinate[1])"
   ]
  },
  {
   "cell_type": "code",
   "execution_count": 4,
   "id": "5c7c1a21",
   "metadata": {},
   "outputs": [
    {
     "name": "stderr",
     "output_type": "stream",
     "text": [
      "/var/folders/ry/13kbd8ws0q1935vwt56pkc8w0000gn/T/ipykernel_60639/2926153662.py:1: VisibleDeprecationWarning: Creating an ndarray from ragged nested sequences (which is a list-or-tuple of lists-or-tuples-or ndarrays with different lengths or shapes) is deprecated. If you meant to do this, you must specify 'dtype=object' when creating the ndarray.\n",
      "  coords = np.array([ [lst[0], lst[1]] for lst in coordinates])\n"
     ]
    }
   ],
   "source": [
    "coords = np.array([ [lst[0], lst[1]] for lst in coordinates])"
   ]
  },
  {
   "cell_type": "code",
   "execution_count": 11,
   "id": "a447ef29",
   "metadata": {},
   "outputs": [],
   "source": [
    "polygons = []\n",
    "\n",
    "for feature in adm:\n",
    "    geom = feature[\"geometry\"] \n",
    "    #geom[\"type\"] should be MultiPolygon\n",
    "    for polygon in geom[\"coordinates\"]:\n",
    "        polygons.append(polygon)"
   ]
  },
  {
   "cell_type": "code",
   "execution_count": 34,
   "id": "1fd7f837",
   "metadata": {},
   "outputs": [],
   "source": [
    "from geojson import Point, Polygon, Feature"
   ]
  },
  {
   "cell_type": "code",
   "execution_count": 48,
   "id": "92257ab5",
   "metadata": {},
   "outputs": [
    {
     "data": {
      "text/plain": [
       "False"
      ]
     },
     "execution_count": 48,
     "metadata": {},
     "output_type": "execute_result"
    }
   ],
   "source": []
  },
  {
   "cell_type": "code",
   "execution_count": 87,
   "id": "292648ca",
   "metadata": {},
   "outputs": [],
   "source": []
  },
  {
   "cell_type": "code",
   "execution_count": 88,
   "id": "57eef8f8",
   "metadata": {},
   "outputs": [],
   "source": [
    "import pandas as pd\n",
    "import geopandas\n",
    "world = geopandas.read_file(geopandas.datasets.get_path('naturalearth_lowres'))\n",
    "uk_polygon = world[world.name == 'United Kingdom']\n",
    "locs = pd.DataFrame({\"Latitud\": np.linspace(*uk_polygon.total_bounds[[0, 2]], 100),\n",
    "        \"Longitud\": np.linspace(*uk_polygon.total_bounds[[1, 3]], 100)})\n",
    "# find valid points by do an sjoin\n",
    "valid = geopandas.sjoin(geopandas.GeoDataFrame(locs, \n",
    "                        geometry=geopandas.points_from_xy(locs[\"Latitud\"], locs[\"Longitud\"]), crs=\"epsg:4326\"),\n",
    "                       uk_polygon.loc[:, [\"geometry\"]], how=\"left\").assign(\n",
    "            valid=lambda d: (~d[\"index_right\"].isna()).astype(int))\n"
   ]
  },
  {
   "cell_type": "code",
   "execution_count": 101,
   "id": "32fa951b",
   "metadata": {},
   "outputs": [],
   "source": [
    "from convertbng.util import convert_bng, convert_lonlat\n"
   ]
  },
  {
   "cell_type": "code",
   "execution_count": 128,
   "id": "1a864447",
   "metadata": {},
   "outputs": [
    {
     "data": {
      "text/plain": [
       "<GeometryArray>\n",
       "[<shapely.geometry.multipolygon.MultiPolygon object at 0x14c810760>]\n",
       "Length: 1, dtype: geometry"
      ]
     },
     "execution_count": 128,
     "metadata": {},
     "output_type": "execute_result"
    }
   ],
   "source": [
    "uk_polygon.geometry.values"
   ]
  },
  {
   "cell_type": "code",
   "execution_count": 131,
   "id": "5d5a5ee9",
   "metadata": {},
   "outputs": [],
   "source": [
    "points = [point for polygon in uk_polygon.geometry.values]\n"
   ]
  },
  {
   "cell_type": "code",
   "execution_count": 136,
   "id": "defcac98",
   "metadata": {},
   "outputs": [
    {
     "data": {
      "image/svg+xml": [
       "<svg xmlns=\"http://www.w3.org/2000/svg\" xmlns:xlink=\"http://www.w3.org/1999/xlink\" width=\"100.0\" height=\"100.0\" viewBox=\"-7.942315883811294 49.58985195576086 9.993994628946206 9.415296101925705\" preserveAspectRatio=\"xMinYMin meet\"><g transform=\"matrix(1,0,0,-1,0,108.59500001344742)\"><g><path fill-rule=\"evenodd\" fill=\"#66cc99\" stroke=\"#555555\" stroke-width=\"0.19987989257892413\" opacity=\"0.6\" d=\"M -6.197884894220991,53.867565009163364 L -6.953730231138067,54.073702297575636 L -7.572167934591064,54.059956366586 L -7.3660306461787854,54.59584096945272 L -7.572167934591064,55.13162221945487 L -6.733847011736145,55.17286001242378 L -5.661948614921968,54.55460317648381 L -6.197884894220991,53.867565009163364 z\" /><path fill-rule=\"evenodd\" fill=\"#66cc99\" stroke=\"#555555\" stroke-width=\"0.19987989257892413\" opacity=\"0.6\" d=\"M -3.093830673788716,53.404547400669685 L -3.0920796370471066,53.40444082296358 L -2.945008510744344,53.98499970154671 L -3.614700825433033,54.600936773292574 L -3.6300054589893307,54.615012925833014 L -4.8441690739030605,54.790971177786844 L -5.0825266178492825,55.06160065369937 L -4.7191121077567,55.50847260194348 L -5.047980922862109,55.78398550070756 L -5.586397670911197,55.31114614523682 L -5.644998745130238,56.27501496034483 L -6.1499808414864106,56.785009670633485 L -5.786824713555291,57.81884837506465 L -5.009998745127632,58.63001333275008 L -4.211494513353557,58.55084503847911 L -3.0050048486352807,58.63500010846633 L -4.073828497728073,57.55302480735526 L -3.0550017968777183,57.69001902936094 L -1.9592805647769183,57.68479970969952 L -2.219988165689358,56.87001740175356 L -3.1190030582711756,55.973793036515474 L -2.085009324543023,55.9099984808513 L -2.005675679673857,55.804902850350175 L -1.11499101399221,54.624986477265395 L -0.4304849918542004,54.46437612570219 L 0.18498131674203933,53.32501414653103 L 0.469976840831805,52.929999498092 L 1.6815307959146821,52.739520168664 L 1.5599878271643206,52.09999848083601 L 1.0505615576309424,51.806760565795685 L 1.4498653499502439,51.28942780212191 L 0.5503336930455021,50.765738837275876 L -0.7875174625586965,50.77498891865622 L -2.4899975244144343,50.50001862243124 L -2.956273972984093,50.696879991247044 L -3.617448085942385,50.22835561787275 L -4.542507900399244,50.341837063185665 L -5.245023159191135,49.95999990498109 L -5.776566941745273,50.15967763935686 L -4.309989793301895,51.21000112568919 L -3.414850633142123,51.42600861266925 L -3.4227194671083794,51.42684816740609 L -4.9843672347109305,51.593466091511004 L -5.267295701508942,51.991400458374585 L -4.222346564134909,52.301355699261364 L -4.77001339356417,52.840004991255626 L -4.579999152026971,53.49500377055517 L -3.093830673788716,53.404547400669685 z\" /></g></g></svg>"
      ],
      "text/plain": [
       "<shapely.geometry.multipolygon.MultiPolygon at 0x14c810760>"
      ]
     },
     "execution_count": 136,
     "metadata": {},
     "output_type": "execute_result"
    }
   ],
   "source": [
    "max(uk_polygon.geometry, key=lambda a: a.area)"
   ]
  },
  {
   "cell_type": "code",
   "execution_count": 124,
   "id": "d5b7377d",
   "metadata": {},
   "outputs": [
    {
     "name": "stdout",
     "output_type": "stream",
     "text": [
      "1\n",
      "MULTIPOLYGON (((-6.197884894220991 53.867565009163364, -6.953730231138067 54.073702297575636, -7.572167934591064 54.059956366586, -7.3660306461787854 54.59584096945272, -7.572167934591064 55.13162221945487, -6.733847011736145 55.17286001242378, -5.661948614921968 54.55460317648381, -6.197884894220991 53.867565009163364)), ((-3.093830673788716 53.404547400669685, -3.0920796370471066 53.40444082296358, -2.945008510744344 53.98499970154671, -3.614700825433033 54.600936773292574, -3.6300054589893307 54.615012925833014, -4.8441690739030605 54.790971177786844, -5.0825266178492825 55.06160065369937, -4.7191121077567 55.50847260194348, -5.047980922862109 55.78398550070756, -5.586397670911197 55.31114614523682, -5.644998745130238 56.27501496034483, -6.1499808414864106 56.785009670633485, -5.786824713555291 57.81884837506465, -5.009998745127632 58.63001333275008, -4.211494513353557 58.55084503847911, -3.0050048486352807 58.63500010846633, -4.073828497728073 57.55302480735526, -3.0550017968777183 57.69001902936094, -1.9592805647769183 57.68479970969952, -2.219988165689358 56.87001740175356, -3.1190030582711756 55.973793036515474, -2.085009324543023 55.9099984808513, -2.005675679673857 55.804902850350175, -1.11499101399221 54.624986477265395, -0.4304849918542004 54.46437612570219, 0.1849813167420393 53.32501414653103, 0.469976840831805 52.929999498092, 1.6815307959146821 52.739520168664, 1.5599878271643206 52.09999848083601, 1.0505615576309424 51.806760565795685, 1.4498653499502439 51.28942780212191, 0.5503336930455021 50.765738837275876, -0.7875174625586965 50.77498891865622, -2.4899975244144343 50.50001862243124, -2.956273972984093 50.696879991247044, -3.617448085942385 50.22835561787275, -4.542507900399244 50.341837063185665, -5.245023159191135 49.95999990498109, -5.776566941745273 50.15967763935686, -4.309989793301895 51.21000112568919, -3.414850633142123 51.42600861266925, -3.4227194671083794 51.42684816740609, -4.9843672347109305 51.593466091511004, -5.267295701508942 51.991400458374585, -4.222346564134909 52.301355699261364, -4.77001339356417 52.840004991255626, -4.579999152026971 53.49500377055517, -3.093830673788716 53.404547400669685)))\n"
     ]
    }
   ],
   "source": [
    "for polygon in uk_polygon.geometry:\n",
    "    print(polygon)"
   ]
  },
  {
   "cell_type": "code",
   "execution_count": 103,
   "id": "f561de9b",
   "metadata": {},
   "outputs": [
    {
     "data": {
      "text/plain": [
       "<_FuncPtr object at 0x168a9a940>"
      ]
     },
     "execution_count": 103,
     "metadata": {},
     "output_type": "execute_result"
    }
   ],
   "source": [
    "convert_bng()"
   ]
  },
  {
   "cell_type": "code",
   "execution_count": null,
   "id": "a1763fa9",
   "metadata": {},
   "outputs": [],
   "source": []
  }
 ],
 "metadata": {
  "kernelspec": {
   "display_name": "Python 3 (ipykernel)",
   "language": "python",
   "name": "python3"
  },
  "language_info": {
   "codemirror_mode": {
    "name": "ipython",
    "version": 3
   },
   "file_extension": ".py",
   "mimetype": "text/x-python",
   "name": "python",
   "nbconvert_exporter": "python",
   "pygments_lexer": "ipython3",
   "version": "3.8.12"
  }
 },
 "nbformat": 4,
 "nbformat_minor": 5
}
